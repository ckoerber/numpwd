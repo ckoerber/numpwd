{
 "cells": [
  {
   "cell_type": "code",
   "execution_count": null,
   "metadata": {},
   "outputs": [],
   "source": [
    "import os\n",
    "import re\n",
    "import pandas as pd\n",
    "import numpy as np"
   ]
  },
  {
   "cell_type": "code",
   "execution_count": null,
   "metadata": {},
   "outputs": [],
   "source": [
    "DATA = \"/Users/ckoerber/data/nuc/dens\"\n",
    "files = os.listdir(DATA)"
   ]
  },
  {
   "cell_type": "code",
   "execution_count": null,
   "metadata": {},
   "outputs": [],
   "source": [
    "files[0]"
   ]
  },
  {
   "cell_type": "code",
   "execution_count": null,
   "metadata": {},
   "outputs": [],
   "source": [
    "patterns = (\n",
    "    r\"compton-dens-(?P<nuc>[0-9A-z]+)\",\n",
    "    r\"(?P<potential>[a-z0-9]+)\",\n",
    "    r\"(?:(?P<empot>(?:empot)))?\",\n",
    "    r\"(?:(?P<tnf>(?:[a-z]+)))?\",\n",
    "    r\"(?:Lamnum=(?P<lambda>(?:[0-9\\.e\\+]+)))?\",\n",
    "    r\"(?:tnfcut=(?P<tnfcut>(?:[0-9]+)))?\",\n",
    "    r\"om=(?P<omega>(?:[0-9\\.]+E[\\+\\-][0-9]+))\",\n",
    "    r\"th=(?P<theta>(?:[0-9\\.E\\+]+))\",\n",
    "    r\"nx=(?P<nx>(?:[0-9]+))\",\n",
    "    r\"nphi=(?P<nphi>(?:[0-9]+))\",\n",
    "    r\"np12\\=np34\\=(?P<np12_np34>(?:[0-9\\+]+))\",\n",
    "    r\"np3\\=(?P<np3>(?:[0-9\\+]+))\",\n",
    "    r\"nq4\\=nq=(?P<nq4_nq>(?:[0-9\\+]+))\",\n",
    "    r\"j12max=(?P<j12max>(?:[0-9]+))\",\n",
    "    r\"lmax=(?P<lmax>(?:[0-9]+))\",\n",
    "    r\"lsummax=(?P<lsummax>(?:[0-9]+))\",\n",
    "    r\"tau4max=(?P<tau4max>(?:[0-9]+))\",\n",
    "    r\"rho1b\\.dat\",\n",
    ")\n",
    "pattern = re.compile(\"-\".join(patterns))\n",
    "pattern.search(files[0]).groupdict()"
   ]
  },
  {
   "cell_type": "code",
   "execution_count": null,
   "metadata": {},
   "outputs": [],
   "source": [
    "dtypes = {\n",
    "    int: [\"tnfcut\", \"nx\", \"nphi\", \"j12max\", \"lmax\", \"lsummax\", \"tau4max\"],\n",
    "    float: [\"lambda\", \"omega\", \"theta\"],\n",
    "}"
   ]
  },
  {
   "cell_type": "code",
   "execution_count": null,
   "metadata": {},
   "outputs": [],
   "source": [
    "data = [pattern.search(f).groupdict() for f in files]\n",
    "df = pd.DataFrame(data)\n",
    "for dtype, cols in dtypes.items():\n",
    "    for col in cols:\n",
    "        df[col] = df[col].astype(dtype)\n",
    "\n",
    "df[\"file\"] = files\n",
    "df.head()"
   ]
  },
  {
   "cell_type": "markdown",
   "metadata": {},
   "source": [
    "Only varying quantities are omega and theta"
   ]
  },
  {
   "cell_type": "code",
   "execution_count": null,
   "metadata": {},
   "outputs": [],
   "source": [
    "pp = r\"MAXRHO1BINDEX\\s+\\=\\s+(?P<max_rho_index>[0-9]+)\"\n",
    "pp += r\".*\"\n",
    "pp += r\"RHO1BINDX\\s+\\=(?P<rho_index>[0-9\\*\\,\\-\\s]+)\"\n",
    "pp += r\".*\"\n",
    "pp += r\"\\/\\s+(?P<om_theta>[0-9\\.\\-\\+E ]+\\n)\"\n",
    "pp += r\"\\s+(?P<rho>[0-9\\.\\-\\+E\\s]+\\n)\"\n",
    "\n",
    "\n",
    "def parse_fortran_funny(string):\n",
    "    for pat, subs in {\n",
    "        f\"{key}*{val}\": \", \".join([val] * int(key))\n",
    "        for key, val in set(\n",
    "            re.findall(r\"([0-9]+)\\*([\\-0-9]+)\", re.sub(r\"\\s+\", \" \", string))\n",
    "        )\n",
    "    }.items():\n",
    "        string = string.replace(pat, subs)\n",
    "\n",
    "    arr = np.array(list(map(int, string.split(\",\"))))\n",
    "    nd = len(arr) // 8\n",
    "    return arr.reshape([nd, 8])\n",
    "\n",
    "\n",
    "parse = {\n",
    "    \"max_rho_index\": int,\n",
    "    \"om_theta\": lambda el: np.array([float(ee) for ee in el.split(\" \") if ee]),\n",
    "    \"rho\": lambda el: np.array([float(ee) for ee in el.split(\" \") if ee]),\n",
    "    \"rho_index\": parse_fortran_funny,\n",
    "}\n",
    "\n",
    "\n",
    "def parse_1bd(address):\n",
    "    with open(address, \"r\") as inp:\n",
    "        t = inp.read()\n",
    "    dd = re.search(pp, t, re.MULTILINE | re.DOTALL).groupdict()\n",
    "    for key, val in parse.items():\n",
    "        dd[key] = val(dd[key])\n",
    "    return dd"
   ]
  },
  {
   "cell_type": "code",
   "execution_count": null,
   "metadata": {},
   "outputs": [],
   "source": [
    "parse_1bd(os.path.join(DATA, files[0]))"
   ]
  },
  {
   "cell_type": "code",
   "execution_count": null,
   "metadata": {},
   "outputs": [],
   "source": []
  },
  {
   "cell_type": "code",
   "execution_count": null,
   "metadata": {},
   "outputs": [],
   "source": []
  }
 ],
 "metadata": {
  "kernelspec": {
   "display_name": "Python 3",
   "language": "python",
   "name": "python3"
  },
  "language_info": {
   "codemirror_mode": {
    "name": "ipython",
    "version": 3
   },
   "file_extension": ".py",
   "mimetype": "text/x-python",
   "name": "python",
   "nbconvert_exporter": "python",
   "pygments_lexer": "ipython3",
   "version": "3.8.5"
  }
 },
 "nbformat": 4,
 "nbformat_minor": 4
}
