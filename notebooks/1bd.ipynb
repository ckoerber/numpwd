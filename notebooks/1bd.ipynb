{
 "cells": [
  {
   "cell_type": "code",
   "execution_count": 1,
   "metadata": {},
   "outputs": [],
   "source": [
    "from typing import Optional\n",
    "import os\n",
    "import re\n",
    "import pandas as pd\n",
    "import numpy as np\n",
    "import sympy\n",
    "from scipy.interpolate import interp1d\n",
    "\n",
    "import matplotlib.pylab as plt\n",
    "import seaborn as sns\n",
    "\n",
    "import gvar as gv\n",
    "import lsqfit"
   ]
  },
  {
   "cell_type": "code",
   "execution_count": 2,
   "metadata": {},
   "outputs": [],
   "source": [
    "def parse_label(fit, subs=True):\n",
    "    expressions = {}\n",
    "    values = {}\n",
    "    for key, val in fit.p.items():\n",
    "        if hasattr(val, \"__iter__\"):\n",
    "            expr = sympy.symbols(\" \".join([f\"{key}{n}\" for n, el in enumerate(val)]))\n",
    "        else:\n",
    "            expr = sympy.Symbol(key)\n",
    "\n",
    "        expressions[key] = expr\n",
    "\n",
    "        if hasattr(expr, \"__iter__\"):\n",
    "            for ee, vv in zip(expr, val):\n",
    "                values[sympy.latex(ee)] = vv\n",
    "        else:\n",
    "            values[sympy.latex(expr)] = val\n",
    "\n",
    "    f_expr = fit.fcn(\n",
    "        x=sympy.Symbol(\"x\"), p={key: expr for key, expr in expressions.items()}\n",
    "    )\n",
    "\n",
    "    s = sympy.latex(f_expr)\n",
    "    if subs:\n",
    "        for pat, sub in values.items():\n",
    "            s = s.replace(pat, str(sub))\n",
    "            s = re.sub(r\"e\\+?([\\-]?)[0]*([0-9]+)\", \" 10^{\\g<1>\\g<2>}\", s)\n",
    "    return re.sub(r\"\\+\\s+\\-\", \"-\", s)"
   ]
  },
  {
   "cell_type": "code",
   "execution_count": 3,
   "metadata": {},
   "outputs": [],
   "source": [
    "COLORS = sns.color_palette(\"hls\", 2)\n",
    "\n",
    "\n",
    "def plot_fit(fit: lsqfit.nonlinear_fit, ax: Optional[plt.Axes] = None) -> plt.Axes:\n",
    "    \"\"\"Plots a nonlinear_fit (data and fit result).\"\"\"\n",
    "    _, ax = plt.subplots(figsize=(3, 2), dpi=300) if not ax else (None, ax)\n",
    "\n",
    "    y_mean, y_sdev = gv.mean(fit.data[1]), gv.sdev(fit.data[1])\n",
    "    ax.errorbar(\n",
    "        fit.data[0],\n",
    "        y_mean,\n",
    "        y_sdev,\n",
    "        marker=\"o\",\n",
    "        ms=2,\n",
    "        ls=\"None\",\n",
    "        capsize=2,\n",
    "        elinewidth=1,\n",
    "        label=\"data\",\n",
    "        color=COLORS[0],\n",
    "    )\n",
    "\n",
    "    x_int = np.linspace(fit.data[0].min(), fit.data[0].max())\n",
    "    y_fit = fit.fcn(x_int, fit.p)\n",
    "    y_mean, y_sdev = gv.mean(y_fit), gv.sdev(y_fit)\n",
    "\n",
    "    try:\n",
    "        label = parse_label(fit)\n",
    "        label = f\"$f(x) = {label}$\"\n",
    "    except Exception as e:\n",
    "        print(e)\n",
    "        label = str(fit.p)\n",
    "\n",
    "    ax.fill_between(\n",
    "        x_int, y_mean - y_sdev, y_mean + y_sdev, color=COLORS[1], alpha=0.5, label=\"fit\"\n",
    "    )\n",
    "\n",
    "    ax.legend(\n",
    "        fancybox=False, frameon=False, bbox_to_anchor=(1.1, 0.5), loc=\"center left\"\n",
    "    )\n",
    "    ax.set_title(label, size=8)\n",
    "\n",
    "    return ax"
   ]
  },
  {
   "cell_type": "code",
   "execution_count": 4,
   "metadata": {},
   "outputs": [],
   "source": [
    "HBARC = 197.3269804\n",
    "MN = 938.918"
   ]
  },
  {
   "cell_type": "code",
   "execution_count": 5,
   "metadata": {},
   "outputs": [],
   "source": [
    "DATA = \"/home/ckoerber/data\"\n",
    "DATA_4HE_AV18 = \"/home/ckoerber/data/nuc/4he/av18\"\n",
    "DATA_FF = \"/home/ckoerber/data/nuc/NucleonFFData\"\n",
    "files = [f for f in os.listdir(DATA_4HE_AV18) if f.endswith(\".dat\")]"
   ]
  },
  {
   "cell_type": "code",
   "execution_count": 6,
   "metadata": {},
   "outputs": [
    {
     "data": {
      "text/plain": [
       "'compton-dens-4he-av18-empot-no3nf-om=6.00E+01-th=1.80E+02-nx=16-nphi=16-np12=np34=28+8-np3=36+8-nq4=nq=36+6-j12max=5-lmax=6-lsummax=14-tau4max=0-rho1b.dat'"
      ]
     },
     "execution_count": 6,
     "metadata": {},
     "output_type": "execute_result"
    }
   ],
   "source": [
    "files[0]"
   ]
  },
  {
   "cell_type": "code",
   "execution_count": 7,
   "metadata": {},
   "outputs": [
    {
     "data": {
      "text/plain": [
       "{'nuc': '4he',\n",
       " 'potential': 'av18',\n",
       " 'empot': 'empot',\n",
       " 'tnf': 'no3nf',\n",
       " 'lambda': None,\n",
       " 'tnfcut': None,\n",
       " 'omega': '6.00E+01',\n",
       " 'theta': '1.80E+02',\n",
       " 'nx': '16',\n",
       " 'nphi': '16',\n",
       " 'np12_np34': '28+8',\n",
       " 'np3': '36+8',\n",
       " 'nq4_nq': '36+6',\n",
       " 'j12max': '5',\n",
       " 'lmax': '6',\n",
       " 'lsummax': '14',\n",
       " 'tau4max': '0'}"
      ]
     },
     "execution_count": 7,
     "metadata": {},
     "output_type": "execute_result"
    }
   ],
   "source": [
    "patterns = (\n",
    "    r\"compton-dens-(?P<nuc>[0-9A-z]+)\",\n",
    "    r\"\\-(?P<potential>[a-z0-9]+)\",\n",
    "    r\"(?:\\-(?P<empot>(?:empot)))?\",\n",
    "    r\"(?:\\-(?P<tnf>(?:[a-z0-9]+)))?\",\n",
    "    r\"(?:\\-Lamnum=(?P<lambda>(?:[0-9\\.e\\+]+)))?\",\n",
    "    r\"(?:\\-tnfcut=(?P<tnfcut>(?:[0-9]+)))?\",\n",
    "    r\"\\-om=(?P<omega>(?:[0-9\\.]+E[\\+\\-][0-9]+))\",\n",
    "    r\"\\-th=(?P<theta>(?:[0-9\\.E\\+]+))\",\n",
    "    r\"\\-nx=(?P<nx>(?:[0-9]+))\",\n",
    "    r\"\\-nphi=(?P<nphi>(?:[0-9]+))\",\n",
    "    r\"\\-np12\\=np34\\=(?P<np12_np34>(?:[0-9\\+]+))\",\n",
    "    r\"\\-np3\\=(?P<np3>(?:[0-9\\+]+))\",\n",
    "    r\"\\-nq4\\=nq=(?P<nq4_nq>(?:[0-9\\+]+))\",\n",
    "    r\"\\-j12max=(?P<j12max>(?:[0-9]+))\",\n",
    "    r\"\\-lmax=(?P<lmax>(?:[0-9]+))\",\n",
    "    r\"\\-lsummax=(?P<lsummax>(?:[0-9]+))\",\n",
    "    r\"\\-tau4max=(?P<tau4max>(?:[0-9]+))\",\n",
    "    r\"\\-rho1b\\.dat\",\n",
    ")\n",
    "pattern = re.compile(\"\".join(patterns))\n",
    "pattern.search(files[0]).groupdict()"
   ]
  },
  {
   "cell_type": "code",
   "execution_count": 8,
   "metadata": {},
   "outputs": [],
   "source": [
    "dtypes = {\n",
    "    int: [\"nx\", \"nphi\", \"j12max\", \"lmax\", \"lsummax\", \"tau4max\"],\n",
    "    float: [\"lambda\", \"omega\", \"theta\"],\n",
    "}"
   ]
  },
  {
   "cell_type": "code",
   "execution_count": 9,
   "metadata": {},
   "outputs": [
    {
     "data": {
      "text/html": [
       "<div>\n",
       "<style scoped>\n",
       "    .dataframe tbody tr th:only-of-type {\n",
       "        vertical-align: middle;\n",
       "    }\n",
       "\n",
       "    .dataframe tbody tr th {\n",
       "        vertical-align: top;\n",
       "    }\n",
       "\n",
       "    .dataframe thead th {\n",
       "        text-align: right;\n",
       "    }\n",
       "</style>\n",
       "<table border=\"1\" class=\"dataframe\">\n",
       "  <thead>\n",
       "    <tr style=\"text-align: right;\">\n",
       "      <th></th>\n",
       "      <th>nuc</th>\n",
       "      <th>potential</th>\n",
       "      <th>empot</th>\n",
       "      <th>tnf</th>\n",
       "      <th>lambda</th>\n",
       "      <th>tnfcut</th>\n",
       "      <th>omega</th>\n",
       "      <th>theta</th>\n",
       "      <th>nx</th>\n",
       "      <th>nphi</th>\n",
       "      <th>np12_np34</th>\n",
       "      <th>np3</th>\n",
       "      <th>nq4_nq</th>\n",
       "      <th>j12max</th>\n",
       "      <th>lmax</th>\n",
       "      <th>lsummax</th>\n",
       "      <th>tau4max</th>\n",
       "      <th>file</th>\n",
       "    </tr>\n",
       "  </thead>\n",
       "  <tbody>\n",
       "    <tr>\n",
       "      <th>0</th>\n",
       "      <td>4he</td>\n",
       "      <td>av18</td>\n",
       "      <td>empot</td>\n",
       "      <td>no3nf</td>\n",
       "      <td>NaN</td>\n",
       "      <td>None</td>\n",
       "      <td>60.0</td>\n",
       "      <td>180.0</td>\n",
       "      <td>16</td>\n",
       "      <td>16</td>\n",
       "      <td>28+8</td>\n",
       "      <td>36+8</td>\n",
       "      <td>36+6</td>\n",
       "      <td>5</td>\n",
       "      <td>6</td>\n",
       "      <td>14</td>\n",
       "      <td>0</td>\n",
       "      <td>compton-dens-4he-av18-empot-no3nf-om=6.00E+01-...</td>\n",
       "    </tr>\n",
       "    <tr>\n",
       "      <th>1</th>\n",
       "      <td>4he</td>\n",
       "      <td>av18</td>\n",
       "      <td>empot</td>\n",
       "      <td>urbix</td>\n",
       "      <td>100000000.0</td>\n",
       "      <td>3</td>\n",
       "      <td>0.0</td>\n",
       "      <td>180.0</td>\n",
       "      <td>8</td>\n",
       "      <td>12</td>\n",
       "      <td>28+8</td>\n",
       "      <td>36+8</td>\n",
       "      <td>36+6</td>\n",
       "      <td>4</td>\n",
       "      <td>6</td>\n",
       "      <td>14</td>\n",
       "      <td>0</td>\n",
       "      <td>compton-dens-4he-av18-empot-urbix-Lamnum=1.000...</td>\n",
       "    </tr>\n",
       "    <tr>\n",
       "      <th>2</th>\n",
       "      <td>4he</td>\n",
       "      <td>av18</td>\n",
       "      <td>empot</td>\n",
       "      <td>no3nf</td>\n",
       "      <td>NaN</td>\n",
       "      <td>None</td>\n",
       "      <td>98.7</td>\n",
       "      <td>180.0</td>\n",
       "      <td>16</td>\n",
       "      <td>16</td>\n",
       "      <td>28+8</td>\n",
       "      <td>36+8</td>\n",
       "      <td>36+6</td>\n",
       "      <td>5</td>\n",
       "      <td>6</td>\n",
       "      <td>14</td>\n",
       "      <td>0</td>\n",
       "      <td>compton-dens-4he-av18-empot-no3nf-om=9.87E+01-...</td>\n",
       "    </tr>\n",
       "    <tr>\n",
       "      <th>3</th>\n",
       "      <td>4he</td>\n",
       "      <td>av18</td>\n",
       "      <td>empot</td>\n",
       "      <td>urbix</td>\n",
       "      <td>100000000.0</td>\n",
       "      <td>3</td>\n",
       "      <td>0.0</td>\n",
       "      <td>180.0</td>\n",
       "      <td>8</td>\n",
       "      <td>4</td>\n",
       "      <td>28+8</td>\n",
       "      <td>36+8</td>\n",
       "      <td>36+6</td>\n",
       "      <td>4</td>\n",
       "      <td>6</td>\n",
       "      <td>14</td>\n",
       "      <td>0</td>\n",
       "      <td>compton-dens-4he-av18-empot-urbix-Lamnum=1.000...</td>\n",
       "    </tr>\n",
       "    <tr>\n",
       "      <th>4</th>\n",
       "      <td>4he</td>\n",
       "      <td>av18</td>\n",
       "      <td>empot</td>\n",
       "      <td>no3nf</td>\n",
       "      <td>NaN</td>\n",
       "      <td>None</td>\n",
       "      <td>80.0</td>\n",
       "      <td>180.0</td>\n",
       "      <td>16</td>\n",
       "      <td>16</td>\n",
       "      <td>28+8</td>\n",
       "      <td>36+8</td>\n",
       "      <td>36+6</td>\n",
       "      <td>5</td>\n",
       "      <td>6</td>\n",
       "      <td>14</td>\n",
       "      <td>0</td>\n",
       "      <td>compton-dens-4he-av18-empot-no3nf-om=8.00E+01-...</td>\n",
       "    </tr>\n",
       "  </tbody>\n",
       "</table>\n",
       "</div>"
      ],
      "text/plain": [
       "   nuc potential  empot    tnf       lambda tnfcut  omega  theta  nx  nphi  \\\n",
       "0  4he      av18  empot  no3nf          NaN   None   60.0  180.0  16    16   \n",
       "1  4he      av18  empot  urbix  100000000.0      3    0.0  180.0   8    12   \n",
       "2  4he      av18  empot  no3nf          NaN   None   98.7  180.0  16    16   \n",
       "3  4he      av18  empot  urbix  100000000.0      3    0.0  180.0   8     4   \n",
       "4  4he      av18  empot  no3nf          NaN   None   80.0  180.0  16    16   \n",
       "\n",
       "  np12_np34   np3 nq4_nq  j12max  lmax  lsummax  tau4max  \\\n",
       "0      28+8  36+8   36+6       5     6       14        0   \n",
       "1      28+8  36+8   36+6       4     6       14        0   \n",
       "2      28+8  36+8   36+6       5     6       14        0   \n",
       "3      28+8  36+8   36+6       4     6       14        0   \n",
       "4      28+8  36+8   36+6       5     6       14        0   \n",
       "\n",
       "                                                file  \n",
       "0  compton-dens-4he-av18-empot-no3nf-om=6.00E+01-...  \n",
       "1  compton-dens-4he-av18-empot-urbix-Lamnum=1.000...  \n",
       "2  compton-dens-4he-av18-empot-no3nf-om=9.87E+01-...  \n",
       "3  compton-dens-4he-av18-empot-urbix-Lamnum=1.000...  \n",
       "4  compton-dens-4he-av18-empot-no3nf-om=8.00E+01-...  "
      ]
     },
     "execution_count": 9,
     "metadata": {},
     "output_type": "execute_result"
    }
   ],
   "source": [
    "data = [pattern.search(f).groupdict() for f in files]\n",
    "df = pd.DataFrame(data)\n",
    "for dtype, cols in dtypes.items():\n",
    "    for col in cols:\n",
    "        df[col] = df[col].astype(dtype)\n",
    "\n",
    "df[\"file\"] = files\n",
    "df.head()"
   ]
  },
  {
   "cell_type": "markdown",
   "metadata": {},
   "source": [
    "Only varying quantities are omega and theta"
   ]
  },
  {
   "cell_type": "code",
   "execution_count": 10,
   "metadata": {},
   "outputs": [],
   "source": [
    "pp = r\"MAXRHO1BINDEX\\s+\\=\\s+(?P<max_rho_index>[0-9]+)\"\n",
    "pp += r\".*\"\n",
    "pp += r\"RHO1BINDX\\s+\\=(?P<rho_index>[0-9\\*\\,\\-\\s]+)\"\n",
    "pp += r\".*\"\n",
    "pp += r\"\\/\\s+(?P<om_theta>[0-9\\.\\-\\+E ]+\\n)\"\n",
    "pp += r\"\\s+(?P<rho>[0-9\\.\\-\\+E\\s]+\\n)\"\n",
    "\n",
    "\n",
    "def parse_fortran_funny(string):\n",
    "    for pat, subs in {\n",
    "        f\"{key}*{val}\": \", \".join([val] * int(key))\n",
    "        for key, val in set(\n",
    "            re.findall(r\"([0-9]+)\\*([\\-0-9]+)\", re.sub(r\"\\s+\", \" \", string))\n",
    "        )\n",
    "    }.items():\n",
    "        string = string.replace(pat, subs)\n",
    "\n",
    "    arr = np.array(list(map(int, string.split(\",\"))))\n",
    "    nd = len(arr) // 8\n",
    "    return pd.DataFrame(\n",
    "        data=arr.reshape([nd, 8]),\n",
    "        columns=[\n",
    "            \"ms3_x2\",\n",
    "            \"mt3_x2\",\n",
    "            \"mjtot_x2\",\n",
    "            \"ms3p_x2\",\n",
    "            \"mt3p_x2\",\n",
    "            \"mjtotp_x2\",\n",
    "            \"k\",\n",
    "            \"bk\",\n",
    "        ],\n",
    "    )\n",
    "\n",
    "\n",
    "parse = {\n",
    "    \"max_rho_index\": int,\n",
    "    \"om_theta\": lambda el: np.array([float(ee) for ee in el.split(\" \") if ee]),\n",
    "    \"rho\": lambda el: np.array([float(ee) for ee in el.split(\" \") if ee]),\n",
    "    \"rho_index\": parse_fortran_funny,\n",
    "}\n",
    "\n",
    "\n",
    "def parse_1bd(address):\n",
    "    with open(address, \"r\") as inp:\n",
    "        t = inp.read()\n",
    "    dd = re.search(pp, t, re.MULTILINE | re.DOTALL).groupdict()\n",
    "    for key, val in parse.items():\n",
    "        dd[key] = val(dd[key])\n",
    "    return dd"
   ]
  },
  {
   "cell_type": "code",
   "execution_count": 11,
   "metadata": {},
   "outputs": [],
   "source": [
    "f = df.query(\"omega == 0\").file.values[0]\n",
    "dens = parse_1bd(os.path.join(DATA_4HE_AV18, f))"
   ]
  },
  {
   "cell_type": "markdown",
   "metadata": {},
   "source": [
    "k and bk encode angular dependence of the one-body operator\n",
    "$$\n",
    "O_{1} ( \\vec k_{1} \\  \\mu' \\mu \\   \\nu  \\  \\vec k ' \\vec k ) \\equiv \\sum_{K=0}^{1}\\sum_{\\kappa=-K}^{K} \\sqrt{\\frac{4\\pi}{2K+1}} \\, k_{1}^{K} \\, Y_{K\\kappa}(\\hat k_{1})\n",
    "\\tilde O_{1} ( K \\kappa \\  \\mu' \\mu \\   \\nu  \\  \\vec k ' \\vec k )\n",
    "$$\n",
    "This would suggest, for the identity operation, $k = b_k = 0$."
   ]
  },
  {
   "cell_type": "code",
   "execution_count": 12,
   "metadata": {},
   "outputs": [
    {
     "data": {
      "text/plain": [
       "(0.9947641492, -3.129739664764363e-10)"
      ]
     },
     "execution_count": 12,
     "metadata": {},
     "output_type": "execute_result"
    }
   ],
   "source": [
    "inds = dens[\"rho_index\"].query(\"k == bk == 0\").index\n",
    "dens[\"rho\"][inds].sum(), dens[\"rho\"][8:].sum()"
   ]
  },
  {
   "cell_type": "code",
   "execution_count": 13,
   "metadata": {
    "scrolled": false
   },
   "outputs": [
    {
     "name": "stdout",
     "output_type": "stream",
     "text": [
      "norm: 0.9947641492\n",
      "norm-p: 0.4973820746\n",
      "norm-n: 0.4973820746\n"
     ]
    }
   ],
   "source": [
    "query = (\n",
    "    \"k == bk == 0\"\n",
    "    \" and mt3_x2 == mt3p_x2\"\n",
    "    \" and mjtot_x2 == mjtotp_x2\"\n",
    "    \" and ms3_x2 == ms3p_x2\"\n",
    ")\n",
    "\n",
    "\n",
    "def compute_norm(data, ms3_x2=None):\n",
    "    qquery = query + \" and ms3_x2 == @ms3_x2\" if ms3_x2 is not None else query\n",
    "    id_channels = data[\"rho_index\"].query(qquery).index\n",
    "    return data[\"rho\"][id_channels].sum()\n",
    "\n",
    "\n",
    "def compute_norm_from_file(ff, data=DATA_4HE_AV18, ms3_x2=None):\n",
    "    dd = parse_1bd(os.path.join(data, ff))\n",
    "    return compute_norm(dd, ms3_x2=ms3_x2)\n",
    "\n",
    "\n",
    "print(\"norm:\", compute_norm(dens))\n",
    "print(\"norm-p:\", compute_norm(dens, ms3_x2=1))\n",
    "print(\"norm-n:\", compute_norm(dens, ms3_x2=-1))"
   ]
  },
  {
   "cell_type": "code",
   "execution_count": 14,
   "metadata": {},
   "outputs": [
    {
     "data": {
      "text/plain": [
       "['proton_baseline_sep272019_RE8414.dat', 'Ye2017gyb_neutron_lookup.dat']"
      ]
     },
     "execution_count": 14,
     "metadata": {},
     "output_type": "execute_result"
    }
   ],
   "source": [
    "os.listdir(DATA_FF)"
   ]
  },
  {
   "cell_type": "code",
   "execution_count": 15,
   "metadata": {},
   "outputs": [],
   "source": [
    "gp_data = (\n",
    "    pd.read_csv(\n",
    "        os.path.join(DATA_FF, \"proton_baseline_sep272019_RE8414.dat\"), sep=\"\\s+\",\n",
    "    )\n",
    "    .set_index(\"Q2\")\n",
    "    .rename(columns={\"GEp/GD\": \"gep\", \"GMp/muGD\": \"gmp\"})[[\"gep\", \"gmp\"]]\n",
    ")\n",
    "gep = interp1d(gp_data.index, gp_data.gep.values, kind=\"cubic\")\n",
    "gmp = interp1d(gp_data.index, gp_data.gmp.values, kind=\"cubic\")"
   ]
  },
  {
   "cell_type": "code",
   "execution_count": 16,
   "metadata": {},
   "outputs": [],
   "source": [
    "gn_data = (\n",
    "    pd.read_csv(os.path.join(DATA_FF, \"Ye2017gyb_neutron_lookup.dat\"), sep=\"\\s+\",)\n",
    "    .set_index(\"Q2\")\n",
    "    .rename(columns={\"GEn/GD\": \"gen\", \"GMn/muGD\": \"gmn\"})[[\"gen\", \"gmn\"]]\n",
    ")\n",
    "gen = interp1d(gn_data.index, gn_data.gen.values, kind=\"cubic\")\n",
    "gmn = interp1d(gn_data.index, gn_data.gmn.values, kind=\"cubic\")"
   ]
  },
  {
   "cell_type": "code",
   "execution_count": 17,
   "metadata": {},
   "outputs": [
    {
     "data": {
      "image/png": "[encoded data removed]",
      "text/plain": [
       "<Figure size 432x288 with 1 Axes>"
      ]
     },
     "metadata": {
      "needs_background": "light"
     },
     "output_type": "display_data"
    }
   ],
   "source": [
    "ax = gp_data.plot(y=\"gep\")\n",
    "gp_data.plot(y=\"gmp\", ax=ax)\n",
    "gn_data.plot(y=\"gen\", ax=ax)\n",
    "gn_data.plot(y=\"gmn\", ax=ax)\n",
    "\n",
    "ax.set_xscale(\"log\")\n",
    "ax.legend()\n",
    "sns.despine()\n",
    "plt.show()"
   ]
  },
  {
   "cell_type": "code",
   "execution_count": 18,
   "metadata": {},
   "outputs": [],
   "source": [
    "def ge_correction(k2, rho, mt3_x2):\n",
    "    gep_k2, gen_k2 = gep(k2), gen(k2)\n",
    "    return (-k2 / 8 / MN ** 2 * np.where(mt3_x2 == 1, gep_k2, gen_k2) * rho).sum()\n",
    "\n",
    "def compute_ge_correction_norm_from_file(ff, data=DATA_4HE_AV18):\n",
    "    dd = parse_1bd(os.path.join(data, ff))\n",
    "    iso_conserving = dd[\"rho_index\"].query(\"mt3_x2 == mt3p_x2\")\n",
    "    rho = dd[\"rho\"][iso_conserving.index]\n",
    "    mt3_x2 = iso_conserving.mt3_x2.values\n",
    "    q2 = (dd[\"om_theta\"][0] * HBARC) ** 2\n",
    "    if q2 == 0:\n",
    "        q2 = 1.e-6\n",
    "    return ge_correction(q2, rho, mt3_x2)"
   ]
  },
  {
   "cell_type": "code",
   "execution_count": 19,
   "metadata": {},
   "outputs": [],
   "source": [
    "df[\"norm\"] = df.file.apply(compute_norm_from_file)\n",
    "df[\"norm_p\"] = df.file.apply(compute_norm_from_file, ms3_x2=1)\n",
    "df[\"ge_correction\"] = df.file.apply(compute_ge_correction_norm_from_file)"
   ]
  },
  {
   "cell_type": "code",
   "execution_count": 20,
   "metadata": {},
   "outputs": [],
   "source": [
    "qquery = {\n",
    "    \"theta\": 180,\n",
    "    \"nuc\": \"'4he'\",\n",
    "    \"potential\": \"'av18'\",\n",
    "    \"tnf\": \"'no3nf'\",\n",
    "    \"j12max\": 5,\n",
    "    \"empot\": \"'empot'\"\n",
    "}\n",
    "ddf = df.query(\" and \".join(f\"{key} == {val}\" for key, val in qquery.items()))[\n",
    "    [\"omega\", \"norm\", \"norm_p\", \"ge_correction\"]\n",
    "].sort_values(\"omega\")\n",
    "ddf[\"q\"] = ddf[\"omega\"] * 2\n",
    "ddf = ddf.set_index(\"q\")"
   ]
  },
  {
   "cell_type": "code",
   "execution_count": 21,
   "metadata": {},
   "outputs": [
    {
     "name": "stdout",
     "output_type": "stream",
     "text": [
      "           norm  ge_correction\n",
      "q                             \n",
      "0.0    0.996737  -7.066520e-14\n",
      "20.0   0.992843  -6.009120e-07\n",
      "40.0   0.981216   7.887908e-07\n",
      "60.0   0.962204   8.588463e-06\n",
      "80.0   0.936306   2.315981e-05\n",
      "98.6   0.906521   4.140528e-05\n",
      "120.0  0.866665   6.541903e-05\n",
      "140.0  0.824616   8.863944e-05\n",
      "160.0  0.778968   1.104514e-04\n",
      "180.0  0.730687   1.291556e-04\n",
      "197.4  0.687462   1.418488e-04\n"
     ]
    }
   ],
   "source": [
    "print(ddf[[\"norm\", \"ge_correction\"]])"
   ]
  },
  {
   "cell_type": "code",
   "execution_count": 22,
   "metadata": {
    "scrolled": false
   },
   "outputs": [
    {
     "name": "stdout",
     "output_type": "stream",
     "text": [
      "Nucleus\n",
      "{'theta': 180, 'nuc': \"'4he'\", 'potential': \"'av18'\", 'tnf': \"'no3nf'\", 'j12max': 5, 'empot': \"'empot'\"}\n",
      "\n",
      " fit function: c x^{2} + 1 \n",
      "\n",
      "Least Square Fit:\n",
      "  chi2/dof [dof] = 0.74 [9]    Q = 0.67    logGBF = 18.108\n",
      "\n",
      "Parameters:\n",
      "              c   -8.94(17)e-06      [ -1.0 (1.0) ]  \n",
      "\n",
      "Fit:\n",
      "     x[k]           y[k]        f(x[k],p)\n",
      "-----------------------------------------\n",
      "        0    0.9967 (65)            1 (0)  \n",
      "       20    0.9928 (65)    0.996423 (70)  \n",
      "       40    0.9812 (65)     0.98569 (28)  \n",
      "       60    0.9622 (65)     0.96781 (63)  \n",
      "       80    0.9363 (65)      0.9428 (11)  \n",
      "     98.6    0.9065 (65)      0.9131 (17)  *\n",
      "      120    0.8667 (65)      0.8712 (25)  \n",
      "      140    0.8246 (65)      0.8247 (34)  \n",
      "      160    0.7790 (65)      0.7711 (45)  *\n",
      "\n",
      "Settings:\n",
      "  svdcut/n = 1e-12/0    tol = (1e-08*,1e-10,1e-10)    (itns/time = 3/0.0)\n",
      "  fitter = scipy_least_squares    method = trf\n",
      "\n",
      "r0^2 = sqrt(-6*c1) * hbarc : 1.445(14)\n"
     ]
    },
    {
     "data": {
      "image/png": "[encoded data removed]",
      "text/plain": [
       "<Figure size 600x400 with 1 Axes>"
      ]
     },
     "metadata": {
      "needs_background": "light"
     },
     "output_type": "display_data"
    }
   ],
   "source": [
    "tmp = ddf.loc[:160]\n",
    "x = tmp.index.values\n",
    "y = gv.gvar(tmp.norm.values, [(1 - ddf.norm.loc[0]) * 2] * tmp.shape[0])\n",
    "\n",
    "\n",
    "def poly_x2(x, p):\n",
    "    res = 1\n",
    "    if hasattr(p[\"c\"], \"__iter__\"):\n",
    "        for n, cn in enumerate(p[\"c\"]):\n",
    "            res += x ** (2 * n + 2) * cn\n",
    "    else:\n",
    "        res += x ** (2) * p[\"c\"]\n",
    "    return res\n",
    "\n",
    "\n",
    "prior = {\"c\": gv.gvar(-1, 1)}\n",
    "\n",
    "fit = lsqfit.nonlinear_fit((x, y), fcn=poly_x2, prior=prior)\n",
    "\n",
    "print(\"Nucleus\")\n",
    "print(qquery)\n",
    "print(\"\\n fit function:\", parse_label(fit, subs=False), \"\\n\")\n",
    "print(fit.format(maxline=True))\n",
    "print(\"r0^2 = sqrt(-6*c1) * hbarc :\", gv.sqrt(-fit.p[\"c\"] * 6) * HBARC)\n",
    "\n",
    "fig, ax = plt.subplots(dpi=200, figsize=(3, 2))\n",
    "plot_fit(fit, ax=ax)\n",
    "ax.set_ylabel(\"$F(q^2)$\")\n",
    "ax.set_xlabel(\"$q$ [MeV]\")\n",
    "sns.despine()\n",
    "plt.show()"
   ]
  }
 ],
 "metadata": {
  "kernelspec": {
   "display_name": "numpwd",
   "language": "python",
   "name": "numpwd"
  },
  "language_info": {
   "codemirror_mode": {
    "name": "ipython",
    "version": 3
   },
   "file_extension": ".py",
   "mimetype": "text/x-python",
   "name": "python",
   "nbconvert_exporter": "python",
   "pygments_lexer": "ipython3",
   "version": "3.8.2"
  }
 },
 "nbformat": 4,
 "nbformat_minor": 4
}
