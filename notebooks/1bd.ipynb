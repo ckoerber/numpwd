{
 "cells": [
  {
   "cell_type": "code",
   "execution_count": 1,
   "metadata": {},
   "outputs": [],
   "source": [
    "import os\n",
    "import re\n",
    "import pandas as pd\n",
    "import numpy as np\n",
    "\n",
    "import matplotlib.pylab as plt\n",
    "import seaborn as sns\n",
    "\n",
    "import gvar as gv\n",
    "import lsqfit"
   ]
  },
  {
   "cell_type": "code",
   "execution_count": 2,
   "metadata": {},
   "outputs": [],
   "source": [
    "DATA = \"/Users/ckoerber/data/nuc/dens\"\n",
    "files = os.listdir(DATA)"
   ]
  },
  {
   "cell_type": "code",
   "execution_count": 3,
   "metadata": {},
   "outputs": [
    {
     "data": {
      "text/plain": [
       "'compton-dens-4he-av18-empot-urbix-Lamnum=1.000e+08-tnfcut=3-om=8.00E+00-th=1.80E+02-nx=16-nphi=16-np12=np34=28+8-np3=36+8-nq4=nq=36+6-j12max=5-lmax=6-lsummax=14-tau4max=0-rho1b.dat'"
      ]
     },
     "execution_count": 3,
     "metadata": {},
     "output_type": "execute_result"
    }
   ],
   "source": [
    "files[0]"
   ]
  },
  {
   "cell_type": "code",
   "execution_count": 4,
   "metadata": {},
   "outputs": [
    {
     "data": {
      "text/plain": [
       "{'nuc': '4he',\n",
       " 'potential': 'av18',\n",
       " 'empot': 'empot',\n",
       " 'tnf': 'urbix',\n",
       " 'lambda': '1.000e+08',\n",
       " 'tnfcut': '3',\n",
       " 'omega': '8.00E+00',\n",
       " 'theta': '1.80E+02',\n",
       " 'nx': '16',\n",
       " 'nphi': '16',\n",
       " 'np12_np34': '28+8',\n",
       " 'np3': '36+8',\n",
       " 'nq4_nq': '36+6',\n",
       " 'j12max': '5',\n",
       " 'lmax': '6',\n",
       " 'lsummax': '14',\n",
       " 'tau4max': '0'}"
      ]
     },
     "execution_count": 4,
     "metadata": {},
     "output_type": "execute_result"
    }
   ],
   "source": [
    "patterns = (\n",
    "    r\"compton-dens-(?P<nuc>[0-9A-z]+)\",\n",
    "    r\"(?P<potential>[a-z0-9]+)\",\n",
    "    r\"(?:(?P<empot>(?:empot)))?\",\n",
    "    r\"(?:(?P<tnf>(?:[a-z]+)))?\",\n",
    "    r\"(?:Lamnum=(?P<lambda>(?:[0-9\\.e\\+]+)))?\",\n",
    "    r\"(?:tnfcut=(?P<tnfcut>(?:[0-9]+)))?\",\n",
    "    r\"om=(?P<omega>(?:[0-9\\.]+E[\\+\\-][0-9]+))\",\n",
    "    r\"th=(?P<theta>(?:[0-9\\.E\\+]+))\",\n",
    "    r\"nx=(?P<nx>(?:[0-9]+))\",\n",
    "    r\"nphi=(?P<nphi>(?:[0-9]+))\",\n",
    "    r\"np12\\=np34\\=(?P<np12_np34>(?:[0-9\\+]+))\",\n",
    "    r\"np3\\=(?P<np3>(?:[0-9\\+]+))\",\n",
    "    r\"nq4\\=nq=(?P<nq4_nq>(?:[0-9\\+]+))\",\n",
    "    r\"j12max=(?P<j12max>(?:[0-9]+))\",\n",
    "    r\"lmax=(?P<lmax>(?:[0-9]+))\",\n",
    "    r\"lsummax=(?P<lsummax>(?:[0-9]+))\",\n",
    "    r\"tau4max=(?P<tau4max>(?:[0-9]+))\",\n",
    "    r\"rho1b\\.dat\",\n",
    ")\n",
    "pattern = re.compile(\"-\".join(patterns))\n",
    "pattern.search(files[0]).groupdict()"
   ]
  },
  {
   "cell_type": "code",
   "execution_count": 5,
   "metadata": {},
   "outputs": [],
   "source": [
    "dtypes = {\n",
    "    int: [\"tnfcut\", \"nx\", \"nphi\", \"j12max\", \"lmax\", \"lsummax\", \"tau4max\"],\n",
    "    float: [\"lambda\", \"omega\", \"theta\"],\n",
    "}"
   ]
  },
  {
   "cell_type": "code",
   "execution_count": 6,
   "metadata": {},
   "outputs": [
    {
     "data": {
      "text/html": [
       "<div>\n",
       "<style scoped>\n",
       "    .dataframe tbody tr th:only-of-type {\n",
       "        vertical-align: middle;\n",
       "    }\n",
       "\n",
       "    .dataframe tbody tr th {\n",
       "        vertical-align: top;\n",
       "    }\n",
       "\n",
       "    .dataframe thead th {\n",
       "        text-align: right;\n",
       "    }\n",
       "</style>\n",
       "<table border=\"1\" class=\"dataframe\">\n",
       "  <thead>\n",
       "    <tr style=\"text-align: right;\">\n",
       "      <th></th>\n",
       "      <th>nuc</th>\n",
       "      <th>potential</th>\n",
       "      <th>empot</th>\n",
       "      <th>tnf</th>\n",
       "      <th>lambda</th>\n",
       "      <th>tnfcut</th>\n",
       "      <th>omega</th>\n",
       "      <th>theta</th>\n",
       "      <th>nx</th>\n",
       "      <th>nphi</th>\n",
       "      <th>np12_np34</th>\n",
       "      <th>np3</th>\n",
       "      <th>nq4_nq</th>\n",
       "      <th>j12max</th>\n",
       "      <th>lmax</th>\n",
       "      <th>lsummax</th>\n",
       "      <th>tau4max</th>\n",
       "      <th>file</th>\n",
       "    </tr>\n",
       "  </thead>\n",
       "  <tbody>\n",
       "    <tr>\n",
       "      <th>0</th>\n",
       "      <td>4he</td>\n",
       "      <td>av18</td>\n",
       "      <td>empot</td>\n",
       "      <td>urbix</td>\n",
       "      <td>100000000.0</td>\n",
       "      <td>3</td>\n",
       "      <td>8.0</td>\n",
       "      <td>180.0</td>\n",
       "      <td>16</td>\n",
       "      <td>16</td>\n",
       "      <td>28+8</td>\n",
       "      <td>36+8</td>\n",
       "      <td>36+6</td>\n",
       "      <td>5</td>\n",
       "      <td>6</td>\n",
       "      <td>14</td>\n",
       "      <td>0</td>\n",
       "      <td>compton-dens-4he-av18-empot-urbix-Lamnum=1.000...</td>\n",
       "    </tr>\n",
       "    <tr>\n",
       "      <th>1</th>\n",
       "      <td>4he</td>\n",
       "      <td>av18</td>\n",
       "      <td>empot</td>\n",
       "      <td>urbix</td>\n",
       "      <td>100000000.0</td>\n",
       "      <td>3</td>\n",
       "      <td>80.0</td>\n",
       "      <td>90.0</td>\n",
       "      <td>16</td>\n",
       "      <td>16</td>\n",
       "      <td>28+8</td>\n",
       "      <td>36+8</td>\n",
       "      <td>36+6</td>\n",
       "      <td>5</td>\n",
       "      <td>6</td>\n",
       "      <td>14</td>\n",
       "      <td>0</td>\n",
       "      <td>compton-dens-4he-av18-empot-urbix-Lamnum=1.000...</td>\n",
       "    </tr>\n",
       "    <tr>\n",
       "      <th>2</th>\n",
       "      <td>4he</td>\n",
       "      <td>av18</td>\n",
       "      <td>empot</td>\n",
       "      <td>urbix</td>\n",
       "      <td>100000000.0</td>\n",
       "      <td>3</td>\n",
       "      <td>140.0</td>\n",
       "      <td>180.0</td>\n",
       "      <td>16</td>\n",
       "      <td>16</td>\n",
       "      <td>28+8</td>\n",
       "      <td>36+8</td>\n",
       "      <td>36+6</td>\n",
       "      <td>5</td>\n",
       "      <td>6</td>\n",
       "      <td>14</td>\n",
       "      <td>0</td>\n",
       "      <td>compton-dens-4he-av18-empot-urbix-Lamnum=1.000...</td>\n",
       "    </tr>\n",
       "    <tr>\n",
       "      <th>3</th>\n",
       "      <td>4he</td>\n",
       "      <td>av18</td>\n",
       "      <td>empot</td>\n",
       "      <td>urbix</td>\n",
       "      <td>100000000.0</td>\n",
       "      <td>3</td>\n",
       "      <td>3.0</td>\n",
       "      <td>180.0</td>\n",
       "      <td>16</td>\n",
       "      <td>16</td>\n",
       "      <td>28+8</td>\n",
       "      <td>36+8</td>\n",
       "      <td>36+6</td>\n",
       "      <td>5</td>\n",
       "      <td>6</td>\n",
       "      <td>14</td>\n",
       "      <td>0</td>\n",
       "      <td>compton-dens-4he-av18-empot-urbix-Lamnum=1.000...</td>\n",
       "    </tr>\n",
       "    <tr>\n",
       "      <th>4</th>\n",
       "      <td>4he</td>\n",
       "      <td>av18</td>\n",
       "      <td>empot</td>\n",
       "      <td>urbix</td>\n",
       "      <td>100000000.0</td>\n",
       "      <td>3</td>\n",
       "      <td>400.0</td>\n",
       "      <td>180.0</td>\n",
       "      <td>16</td>\n",
       "      <td>16</td>\n",
       "      <td>28+8</td>\n",
       "      <td>36+8</td>\n",
       "      <td>36+6</td>\n",
       "      <td>5</td>\n",
       "      <td>6</td>\n",
       "      <td>14</td>\n",
       "      <td>0</td>\n",
       "      <td>compton-dens-4he-av18-empot-urbix-Lamnum=1.000...</td>\n",
       "    </tr>\n",
       "  </tbody>\n",
       "</table>\n",
       "</div>"
      ],
      "text/plain": [
       "   nuc potential  empot    tnf       lambda  tnfcut  omega  theta  nx  nphi  \\\n",
       "0  4he      av18  empot  urbix  100000000.0       3    8.0  180.0  16    16   \n",
       "1  4he      av18  empot  urbix  100000000.0       3   80.0   90.0  16    16   \n",
       "2  4he      av18  empot  urbix  100000000.0       3  140.0  180.0  16    16   \n",
       "3  4he      av18  empot  urbix  100000000.0       3    3.0  180.0  16    16   \n",
       "4  4he      av18  empot  urbix  100000000.0       3  400.0  180.0  16    16   \n",
       "\n",
       "  np12_np34   np3 nq4_nq  j12max  lmax  lsummax  tau4max  \\\n",
       "0      28+8  36+8   36+6       5     6       14        0   \n",
       "1      28+8  36+8   36+6       5     6       14        0   \n",
       "2      28+8  36+8   36+6       5     6       14        0   \n",
       "3      28+8  36+8   36+6       5     6       14        0   \n",
       "4      28+8  36+8   36+6       5     6       14        0   \n",
       "\n",
       "                                                file  \n",
       "0  compton-dens-4he-av18-empot-urbix-Lamnum=1.000...  \n",
       "1  compton-dens-4he-av18-empot-urbix-Lamnum=1.000...  \n",
       "2  compton-dens-4he-av18-empot-urbix-Lamnum=1.000...  \n",
       "3  compton-dens-4he-av18-empot-urbix-Lamnum=1.000...  \n",
       "4  compton-dens-4he-av18-empot-urbix-Lamnum=1.000...  "
      ]
     },
     "execution_count": 6,
     "metadata": {},
     "output_type": "execute_result"
    }
   ],
   "source": [
    "data = [pattern.search(f).groupdict() for f in files]\n",
    "df = pd.DataFrame(data)\n",
    "for dtype, cols in dtypes.items():\n",
    "    for col in cols:\n",
    "        df[col] = df[col].astype(dtype)\n",
    "\n",
    "df[\"file\"] = files\n",
    "df.head()"
   ]
  },
  {
   "cell_type": "markdown",
   "metadata": {},
   "source": [
    "Only varying quantities are omega and theta"
   ]
  },
  {
   "cell_type": "code",
   "execution_count": 7,
   "metadata": {},
   "outputs": [],
   "source": [
    "pp = r\"MAXRHO1BINDEX\\s+\\=\\s+(?P<max_rho_index>[0-9]+)\"\n",
    "pp += r\".*\"\n",
    "pp += r\"RHO1BINDX\\s+\\=(?P<rho_index>[0-9\\*\\,\\-\\s]+)\"\n",
    "pp += r\".*\"\n",
    "pp += r\"\\/\\s+(?P<om_theta>[0-9\\.\\-\\+E ]+\\n)\"\n",
    "pp += r\"\\s+(?P<rho>[0-9\\.\\-\\+E\\s]+\\n)\"\n",
    "\n",
    "\n",
    "def parse_fortran_funny(string):\n",
    "    for pat, subs in {\n",
    "        f\"{key}*{val}\": \", \".join([val] * int(key))\n",
    "        for key, val in set(\n",
    "            re.findall(r\"([0-9]+)\\*([\\-0-9]+)\", re.sub(r\"\\s+\", \" \", string))\n",
    "        )\n",
    "    }.items():\n",
    "        string = string.replace(pat, subs)\n",
    "\n",
    "    arr = np.array(list(map(int, string.split(\",\"))))\n",
    "    nd = len(arr) // 8\n",
    "    return pd.DataFrame(\n",
    "        data=arr.reshape([nd, 8]),\n",
    "        columns=[\n",
    "            \"ms3_x2\",\n",
    "            \"mt3_x2\",\n",
    "            \"mjtot_x2\",\n",
    "            \"ms3p_x2\",\n",
    "            \"mt3p_x2\",\n",
    "            \"mjtotp_x2\",\n",
    "            \"k\",\n",
    "            \"bk\",\n",
    "        ],\n",
    "    )\n",
    "\n",
    "\n",
    "parse = {\n",
    "    \"max_rho_index\": int,\n",
    "    \"om_theta\": lambda el: np.array([float(ee) for ee in el.split(\" \") if ee]),\n",
    "    \"rho\": lambda el: np.array([float(ee) for ee in el.split(\" \") if ee]),\n",
    "    \"rho_index\": parse_fortran_funny,\n",
    "}\n",
    "\n",
    "\n",
    "def parse_1bd(address):\n",
    "    with open(address, \"r\") as inp:\n",
    "        t = inp.read()\n",
    "    dd = re.search(pp, t, re.MULTILINE | re.DOTALL).groupdict()\n",
    "    for key, val in parse.items():\n",
    "        dd[key] = val(dd[key])\n",
    "    return dd"
   ]
  },
  {
   "cell_type": "code",
   "execution_count": 8,
   "metadata": {},
   "outputs": [],
   "source": [
    "f = df.query(\"omega == 0\").file.values[0]\n",
    "dens = parse_1bd(os.path.join(DATA, f))"
   ]
  },
  {
   "cell_type": "markdown",
   "metadata": {},
   "source": [
    "k and bk encode angular dependence of the one-body operator\n",
    "$$\n",
    "O_{1} ( \\vec k_{1} \\  \\mu' \\mu \\   \\nu  \\  \\vec k ' \\vec k ) \\equiv \\sum_{K=0}^{1}\\sum_{\\kappa=-K}^{K} \\sqrt{\\frac{4\\pi}{2K+1}} \\, k_{1}^{K} \\, Y_{K\\kappa}(\\hat k_{1})\n",
    "\\tilde O_{1} ( K \\kappa \\  \\mu' \\mu \\   \\nu  \\  \\vec k ' \\vec k )\n",
    "$$\n",
    "This would suggest, for the identity operation, $k = b_k = 0$."
   ]
  },
  {
   "cell_type": "code",
   "execution_count": 9,
   "metadata": {},
   "outputs": [
    {
     "data": {
      "text/plain": [
       "(0.9970334172, -4.5379333481418195e-10)"
      ]
     },
     "execution_count": 9,
     "metadata": {},
     "output_type": "execute_result"
    }
   ],
   "source": [
    "inds = dens[\"rho_index\"].query(\"k == bk == 0\").index\n",
    "dens[\"rho\"][inds].sum(), dens[\"rho\"][8:].sum()"
   ]
  },
  {
   "cell_type": "code",
   "execution_count": 10,
   "metadata": {
    "scrolled": false
   },
   "outputs": [
    {
     "name": "stdout",
     "output_type": "stream",
     "text": [
      "norm: 0.9970334172\n",
      "norm-p: 0.4985167086\n",
      "norm-n: 0.4985167086\n"
     ]
    }
   ],
   "source": [
    "query = (\n",
    "    \"k == bk == 0\"\n",
    "    \" and mt3_x2 == mt3p_x2\"\n",
    "    \" and mjtot_x2 == mjtotp_x2\"\n",
    "    \" and ms3_x2 == ms3p_x2\"\n",
    ")\n",
    "\n",
    "\n",
    "def compute_norm(data, ms3_x2=None):\n",
    "    qquery = query + \" and ms3_x2 == @ms3_x2\" if ms3_x2 is not None else query\n",
    "    id_channels = data[\"rho_index\"].query(qquery).index\n",
    "    return data[\"rho\"][id_channels].sum()\n",
    "\n",
    "\n",
    "def compute_norm_from_file(ff, data=DATA, ms3_x2=None):\n",
    "    dd = parse_1bd(os.path.join(DATA, ff))\n",
    "    return compute_norm(dd, ms3_x2=ms3_x2)\n",
    "\n",
    "\n",
    "print(\"norm:\", compute_norm(dens))\n",
    "print(\"norm-p:\", compute_norm(dens, ms3_x2=1))\n",
    "print(\"norm-n:\", compute_norm(dens, ms3_x2=-1))"
   ]
  },
  {
   "cell_type": "code",
   "execution_count": 11,
   "metadata": {},
   "outputs": [],
   "source": [
    "df[\"norm\"] = df.file.apply(compute_norm_from_file)\n",
    "df[\"norm_p\"] = df.file.apply(compute_norm_from_file, ms3_x2=1)"
   ]
  },
  {
   "cell_type": "code",
   "execution_count": 12,
   "metadata": {},
   "outputs": [],
   "source": [
    "ddf = df.query(\n",
    "    \"theta == 180 and nuc == '4he' and potential == 'av18' and tnf == 'urbix'\"\n",
    ")[[\"omega\", \"norm\", \"norm_p\"]].sort_values(\"omega\")\n",
    "ddf[\"q\"] = ddf[\"omega\"]"
   ]
  },
  {
   "cell_type": "code",
   "execution_count": 13,
   "metadata": {},
   "outputs": [
    {
     "name": "stdout",
     "output_type": "stream",
     "text": [
      "Least Square Fit:\n",
      "  chi2/dof [dof] = 0.079 [21]    Q = 1    logGBF = 63.271\n",
      "\n",
      "Parameters:\n",
      "            c 0       0.9981 (18)       [ 1.0000 (30) ]  \n",
      "              1   -0.0000330 (28)       [   1.0 (1.0) ]  *\n",
      "\n",
      "Settings:\n",
      "  svdcut/n = 1e-12/0    tol = (1e-08*,1e-10,1e-10)    (itns/time = 3/0.0)\n",
      "  fitter = scipy_least_squares    method = trf\n",
      "\n",
      "r0^2: 2.77(12)\n"
     ]
    }
   ],
   "source": [
    "tmp = ddf.query(\"q < 100\")\n",
    "x = tmp.q.values\n",
    "y = gv.gvar(tmp.norm.values, [0.01] * tmp.shape[0])\n",
    "\n",
    "\n",
    "def poly_x2(x, p):\n",
    "    res = 0\n",
    "    for n, cn in enumerate(p[\"c\"]):\n",
    "        res += x ** (2 * n) * cn\n",
    "    return res\n",
    "\n",
    "\n",
    "prior = {\"c\": gv.gvar([1, 1], [0.003, 1])}\n",
    "\n",
    "fit = lsqfit.nonlinear_fit((x, y), fcn=poly_x2, prior=prior)\n",
    "print(fit)\n",
    "print(\"r0^2:\", gv.sqrt(-fit.p[\"c\"][1] * 6) * 197)"
   ]
  },
  {
   "cell_type": "code",
   "execution_count": 14,
   "metadata": {},
   "outputs": [
    {
     "data": {
      "image/png": "[encoded data removed]",
      "text/plain": [
       "<Figure size 600x400 with 1 Axes>"
      ]
     },
     "metadata": {
      "needs_background": "light"
     },
     "output_type": "display_data"
    }
   ],
   "source": [
    "fig, ax = plt.subplots(dpi=200, figsize=(3, 2))\n",
    "\n",
    "ddf.plot(x=\"q\", y=\"norm\", marker=\"o\", ls=\"None\", ax=ax, ms=2, label=\"matter\")\n",
    "ddf.plot(x=\"q\", y=\"norm_p\", marker=\"o\", ls=\"None\", ax=ax, ms=2, label=\"proton\")\n",
    "\n",
    "\n",
    "ax.legend(frameon=False, fontsize=8, bbox_to_anchor=(1.1, 0.5), loc=\"center left\")\n",
    "ax.set_ylabel(\"$F(q^2)$\")\n",
    "ax.set_xlabel(\"$q$ [MeV]\")\n",
    "ax.set_title(\"LO FF: $^4$He, AV18, Urbana IX, $\\max(j_{12}) = 5$\", fontsize=8)\n",
    "\n",
    "sns.despine()\n",
    "plt.show()"
   ]
  },
  {
   "cell_type": "code",
   "execution_count": null,
   "metadata": {},
   "outputs": [],
   "source": []
  }
 ],
 "metadata": {
  "kernelspec": {
   "display_name": "Python 3",
   "language": "python",
   "name": "python3"
  },
  "language_info": {
   "codemirror_mode": {
    "name": "ipython",
    "version": 3
   },
   "file_extension": ".py",
   "mimetype": "text/x-python",
   "name": "python",
   "nbconvert_exporter": "python",
   "pygments_lexer": "ipython3",
   "version": "3.8.5"
  }
 },
 "nbformat": 4,
 "nbformat_minor": 4
}
