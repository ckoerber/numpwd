{
 "cells": [
  {
   "cell_type": "code",
   "execution_count": null,
   "metadata": {},
   "outputs": [],
   "source": [
    "from itertools import product\n",
    "\n",
    "from pandas import DataFrame, Series, set_option, read_csv\n",
    "from pandas.testing import assert_frame_equal\n",
    "\n",
    "from sympy import S, Symbol, expand_trig, Function\n",
    "from sympy import exquo, ExactQuotientFailed, ComputationFailed\n",
    "\n",
    "from numpwd.integrate.analytic import SPHERICAL_BASE_SUBS, ANGLE_BASE_SUBS, integrate\n",
    "from numpwd.qchannels.cg import get_cg\n",
    "from numpwd.qchannels.spin import (\n",
    "    expression_to_matrix,\n",
    "    pauli_contract_subsystem,\n",
    "    dict_to_data,\n",
    ")\n",
    "\n",
    "set_option(\"max_colwidth\", None)"
   ]
  },
  {
   "cell_type": "code",
   "execution_count": null,
   "metadata": {},
   "outputs": [],
   "source": [
    "expr = S(\"sigma10 * (sigma21 * k1 + sigma22 * k2 + sigma23 * k3)\")\n",
    "expr"
   ]
  },
  {
   "cell_type": "code",
   "execution_count": null,
   "metadata": {},
   "outputs": [],
   "source": [
    "mat = expression_to_matrix(expr, pauli_symbol=\"sigma\")\n",
    "mat"
   ]
  },
  {
   "cell_type": "code",
   "execution_count": null,
   "metadata": {},
   "outputs": [],
   "source": [
    "up = S(\"1/2\")\n",
    "dn = -up\n",
    "dm_mat = [\n",
    "    {\"ms_o\": up, \"ms_i\": up, \"val\": S(\"k3\")},\n",
    "    {\"ms_o\": dn, \"ms_i\": dn, \"val\": -S(\"k3\")},\n",
    "    {\"ms_o\": up, \"ms_i\": dn, \"val\": S(\"k1 - I*k2\")},\n",
    "    {\"ms_o\": dn, \"ms_i\": up, \"val\": S(\"k1 + I*k2\")},\n",
    "]\n",
    "dm_df = DataFrame(dm_mat).set_index([\"ms_o\", \"ms_i\"]).sort_index()\n",
    "dm_df"
   ]
  },
  {
   "cell_type": "code",
   "execution_count": null,
   "metadata": {},
   "outputs": [],
   "source": [
    "mat12 = pauli_contract_subsystem(mat)\n",
    "mat12"
   ]
  },
  {
   "cell_type": "code",
   "execution_count": null,
   "metadata": {},
   "outputs": [],
   "source": [
    "cols = [\"s_o\", \"ms_o\", \"s_i\", \"ms_i\"]\n",
    "nuc_df = DataFrame(dict_to_data(mat12, columns=cols))\n",
    "nuc_df = nuc_df.set_index(cols).sort_index()\n",
    "nuc_df"
   ]
  },
  {
   "cell_type": "code",
   "execution_count": null,
   "metadata": {},
   "outputs": [],
   "source": [
    "def df_outer_product(df1, df2, suffixes=None, reset_index=False):\n",
    "    tmp1 = df1.reset_index() if reset_index else df1.copy()\n",
    "    tmp2 = df2.reset_index() if reset_index else df2.copy()\n",
    "\n",
    "    if suffixes is not None:\n",
    "        tmp1 = tmp1.rename(columns={key: f\"{key}{suffixes[0]}\" for key in tmp1.columns})\n",
    "        tmp2 = tmp2.rename(columns={key: f\"{key}{suffixes[1]}\" for key in tmp2.columns})\n",
    "\n",
    "    data = []\n",
    "    for row1, row2 in product(tmp1.to_dict(\"records\"), tmp2.to_dict(\"records\")):\n",
    "        data.append({**row1, **row2})\n",
    "\n",
    "    return DataFrame(data)"
   ]
  },
  {
   "cell_type": "code",
   "execution_count": null,
   "metadata": {
    "scrolled": false
   },
   "outputs": [],
   "source": [
    "df = df_outer_product(nuc_df, dm_df, suffixes=[\"_nuc\", \"_dm\"], reset_index=True)\n",
    "df[\"val\"] = df[\"val_nuc\"] * df[\"val_dm\"]\n",
    "spin_df = df.set_index(\n",
    "    [\"ms_o_dm\", \"ms_i_dm\", \"s_o_nuc\", \"ms_o_nuc\", \"s_i_nuc\", \"ms_i_nuc\"]\n",
    ").sort_index()[[\"val\"]]\n",
    "spin_df.reset_index().query(\"s_o_nuc == s_i_nuc == 1\")"
   ]
  },
  {
   "cell_type": "code",
   "execution_count": null,
   "metadata": {},
   "outputs": [],
   "source": [
    "CG = Function(\"CG\")\n",
    "pwd_fact = CG(\"s_i_nuc\", \"ms_i_nuc\", \"sigma\", \"m_sigma\", \"s_o_nuc\", \"ms_o_nuc\")\n",
    "pwd_fact *= S(\"exp(I*(m_sigma + ms_o_dm - ms_i_dm)*(Phi-phi/2))\")\n",
    "pwd_fact *= (2 * S(\"sigma\") + 1) / (2 * S(\"s_o_nuc\") + 1)\n",
    "pwd_fact"
   ]
  },
  {
   "cell_type": "code",
   "execution_count": null,
   "metadata": {},
   "outputs": [],
   "source": [
    "momentum_subs = {f\"k{n}\": f\"q_{n}/2 + p_i{n} - p_o{n}\" for n in [1, 2, 3]}\n",
    "momentum_subs"
   ]
  },
  {
   "cell_type": "code",
   "execution_count": null,
   "metadata": {},
   "outputs": [],
   "source": [
    "def subs_all(expr):\n",
    "    return (\n",
    "        expr.subs(momentum_subs)\n",
    "        .subs(SPHERICAL_BASE_SUBS)\n",
    "        .subs(ANGLE_BASE_SUBS)\n",
    "        .subs({\"q_1\": 0, \"q_2\": 0})\n",
    "        .rewrite(\"exp\")\n",
    "        .expand()\n",
    "    )"
   ]
  },
  {
   "cell_type": "code",
   "execution_count": null,
   "metadata": {},
   "outputs": [],
   "source": [
    "def op_rank_project(tmp):\n",
    "    data = dict()\n",
    "    for row in tmp.to_dict(\"records\"):\n",
    "        sig_min = abs(row[\"s_o_nuc\"] - row[\"s_i_nuc\"])\n",
    "        sig_max = abs(row[\"s_o_nuc\"] + row[\"s_i_nuc\"])\n",
    "        for sigma in range(sig_min, sig_max + 1):\n",
    "            m_sigma = row[\"ms_o_nuc\"] - row[\"ms_i_nuc\"]\n",
    "            if abs(m_sigma) > sigma:\n",
    "                continue\n",
    "            key = (sigma, m_sigma)\n",
    "            out = data.get(key, S(0))\n",
    "            data[key] = out + row[\"val\"] * pwd_fact.subs(\n",
    "                {**row, \"sigma\": sigma, \"m_sigma\": m_sigma}\n",
    "            ).replace(CG, get_cg)\n",
    "\n",
    "    for key, val in data.items():\n",
    "        data[key] = integrate(subs_all(val), (\"Phi\", 0, \"2*pi\"))\n",
    "\n",
    "    out = Series(data, name=\"val\")\n",
    "    out.index.names = (\"sigma\", \"m_sigma\")\n",
    "    return out\n",
    "\n",
    "\n",
    "groups = [\"ms_o_dm\", \"ms_i_dm\", \"s_o_nuc\", \"s_i_nuc\"]\n",
    "res = spin_df.reset_index().groupby(groups, as_index=True).agg(op_rank_project)"
   ]
  },
  {
   "cell_type": "code",
   "execution_count": null,
   "metadata": {
    "scrolled": false
   },
   "outputs": [],
   "source": [
    "index_cols = [\"sigma\", \"m_sigma\", \"ms_o_dm\", \"ms_i_dm\", \"s_o_nuc\", \"s_i_nuc\"]\n",
    "non_zero_res = DataFrame(res[res != 0]).reset_index().set_index(index_cols).sort_index()\n",
    "non_zero_res.head()"
   ]
  },
  {
   "cell_type": "raw",
   "metadata": {},
   "source": [
    "non_zero_res.to_csv(\"operator-c32-spin-pwd.csv\")\n",
    "read_in = (\n",
    "    read_csv(\"operator-c32-spin-pwd.csv\")\n",
    "    .applymap(S)\n",
    "    .set_index(non_zero_res.index.names)\n",
    ")\n",
    "assert_frame_equal(read_in, non_zero_res, check_index_type=False)"
   ]
  },
  {
   "cell_type": "code",
   "execution_count": null,
   "metadata": {},
   "outputs": [],
   "source": [
    "alpha = S(\"q_3 + 2 * p_i * x_i - 2 * p_o * x_o\")\n",
    "beta1 = S(\"exp(I*phi) * p_i * sqrt(1 - x_i**2) - p_o * sqrt(1 - x_o**2)\")\n",
    "beta2 = S(\"exp(-I*phi) * p_i * sqrt(1 - x_i**2) - p_o * sqrt(1 - x_o**2)\")\n",
    "omega = S(\n",
    "    \"4*p_i**2 *(1-x_i**2) + 4 * p_o**2 * (1-x_o**2) - 8*p_i * p_o * cos(phi) * sqrt(1-x_i**2)*sqrt(1-x_o**2)\"\n",
    ").rewrite(\"exp\")\n",
    "alpha, beta1, beta2"
   ]
  },
  {
   "cell_type": "code",
   "execution_count": null,
   "metadata": {},
   "outputs": [],
   "source": [
    "quotients = {\n",
    "    S(\"a**2\"): alpha ** 2,\n",
    "    S(\"a*b_1\"): alpha * beta1,\n",
    "    S(\"a*b_2\"): alpha * beta2,\n",
    "    S(\"b_1**2\"): beta1 ** 2,\n",
    "    S(\"b_2**2\"): beta2 ** 2,\n",
    "    S(\"e\"): omega,\n",
    "}"
   ]
  },
  {
   "cell_type": "code",
   "execution_count": null,
   "metadata": {},
   "outputs": [],
   "source": [
    "def decompose(ee):\n",
    "    fact = None\n",
    "    mat = None\n",
    "    for k, q in quotients.items():\n",
    "\n",
    "        try:\n",
    "            fact = exquo(ee, q)\n",
    "            mat = k\n",
    "            break\n",
    "        except (ExactQuotientFailed, ComputationFailed):\n",
    "            pass\n",
    "\n",
    "    out = Series([fact, mat], index=[\"fact\", \"mat\"])\n",
    "    return out\n",
    "\n",
    "\n",
    "decompose(expr)"
   ]
  },
  {
   "cell_type": "code",
   "execution_count": null,
   "metadata": {},
   "outputs": [],
   "source": [
    "decomposition = non_zero_res.val.apply(decompose)\n",
    "decomposition"
   ]
  },
  {
   "cell_type": "code",
   "execution_count": null,
   "metadata": {},
   "outputs": [],
   "source": [
    "legacy = (\n",
    "    read_csv(\"input-op-32.csv\")\n",
    "    .rename(\n",
    "        columns={\n",
    "            \"m_chi_p\": \"ms_o_dm\",\n",
    "            \"m_chi\": \"ms_i_dm\",\n",
    "            \"s_p\": \"s_o_nuc\",\n",
    "            \"s\": \"s_i_nuc\",\n",
    "        }\n",
    "    )\n",
    "    .drop(columns=[\"O\", \"m_chi_x2\", \"m_chi_p_x2\"])\n",
    ")\n",
    "legacy[\"ms_o_dm\"] = legacy[\"ms_o_dm\"].apply(S)\n",
    "legacy[\"ms_i_dm\"] = legacy[\"ms_i_dm\"].apply(S)\n",
    "legacy = (\n",
    "    legacy.set_index(decomposition.index.names)\n",
    "    .sort_index()\n",
    "    .applymap(lambda el: S(el.replace(\"Sqrt\", \"sqrt\")))\n",
    ")\n",
    "legacy.head()"
   ]
  },
  {
   "cell_type": "code",
   "execution_count": null,
   "metadata": {},
   "outputs": [],
   "source": [
    "assert_frame_equal(legacy, decomposition)"
   ]
  },
  {
   "cell_type": "raw",
   "metadata": {},
   "source": [
    "decomposition.to_csv(\"operator-c32-spin-pwd-decomposed.csv\")"
   ]
  },
  {
   "cell_type": "code",
   "execution_count": null,
   "metadata": {},
   "outputs": [],
   "source": []
  }
 ],
 "metadata": {
  "kernelspec": {
   "display_name": "numpwd",
   "language": "python",
   "name": "numpwd"
  },
  "language_info": {
   "codemirror_mode": {
    "name": "ipython",
    "version": 3
   },
   "file_extension": ".py",
   "mimetype": "text/x-python",
   "name": "python",
   "nbconvert_exporter": "python",
   "pygments_lexer": "ipython3",
   "version": "3.8.2"
  }
 },
 "nbformat": 4,
 "nbformat_minor": 4
}
