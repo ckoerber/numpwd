{
 "cells": [
  {
   "cell_type": "code",
   "execution_count": null,
   "metadata": {},
   "outputs": [],
   "source": [
    "import pandas as pd\n",
    "from sympy import sympify, S, Eq, lambdify\n",
    "from IPython.display import display\n",
    "\n",
    "from scipy.special import sph_harm\n",
    "\n",
    "import numpy as np"
   ]
  },
  {
   "cell_type": "markdown",
   "metadata": {},
   "source": [
    "# Impelemtentation of operator 3-2 in numeric PWD module\n",
    "The operator of choice is\n",
    "\\begin{equation}\n",
    "    \\newcommand{\\va}[1]{\\vec{\\boldsymbol{#1}}}\n",
    "    \\newcommand{\\p}{\\va{p}}\n",
    "    \\newcommand{\\q}{\\va{q}}\n",
    "    \\newcommand{\\kk}{\\va{k}}\n",
    "    \\newcommand{\\m}{m_{\\pi}}\n",
    "\\end{equation}\n",
    "\n",
    "\\begin{equation}\n",
    "    \\label{op-def}\\tag{1}\n",
    "    \\mathcal{O}_{3,two}\n",
    "    =\n",
    "\t\\tilde{c}_{3,two}  \n",
    "\t\\frac{\n",
    "\t\t(\\va{\\sigma}_{\\chi}  \\cdot \\kk_1)\n",
    "\t\t(  \\va{\\sigma}_2 \\cdot \\kk_1)\n",
    "\t}\n",
    "\t{\n",
    "\t\t\\kk_1^2 + \\m^2\n",
    "\t} \n",
    "\t\\tau_2^3\n",
    "    \\, , \\qquad\n",
    "    \\kk_1 = \\tfrac{\\q}{2} + \\p - \\p'\n",
    "\\end{equation}\n",
    "\n",
    "We intend to crosscheck analytic PWD with numeric PWD.\n",
    "To make it more feasible to compute the analytic PWD we drop the denominator and isospin components in eq. \\eqref{op-def}.\n",
    "\n",
    "\\begin{equation}\n",
    "    \\label{op-def-no-denom}\\tag{2}\n",
    "    \\tilde{\\mathcal{O}}_{3,two}\n",
    "    =\n",
    "\t(\\va{\\sigma}_{\\chi}  \\cdot \\kk_1)\n",
    "\t(  \\va{\\sigma}_2 \\cdot \\kk_1)\n",
    "\\end{equation}\n",
    "\n",
    "I use\n",
    "\n",
    "$a = \\alpha$, $b_1 = \\beta$, $b_2 = \\beta^*$, $d = \\delta$ and $e = \\Omega$ where, \n",
    "\n",
    "and\n",
    "\n",
    "\\begin{align*}\n",
    "\\alpha &= q + 2 p_1 \\cos \\theta_1 - 2 p_2 \\cos \\theta_2\n",
    "\\\\\n",
    "\\beta &  = e^{i\\phi} p_1 \\sin\\theta_1 - p_2 \\sin\\theta_2\n",
    "\\\\\n",
    "\\Omega &= 4 p_1^2 + 4 p_2^2 - 4 p_1^2 \\cos ^2 \\theta_1 - 4 p_2^2 \\cos ^2 \\theta_2\n",
    "\t\t\t-8 p_1 p_2 \\cos\\phi \\sin \\theta_1 \\sin \\theta_2\n",
    "\\\\\n",
    "\\delta &= p_1^2 + p_2^2 +\\tfrac{q^2}{4} + m_{\\pi}^2 + p_1  q \\cos \\theta_1 - p_2 q \\cos\\theta_2\n",
    "\t\t\t-2 p_1 p_2 \\cos\\theta_1 \\cos \\theta_2 - 2 p_1 p_2 \\cos \\phi \\sin \\theta_1 \\sin \\theta_2\n",
    "\\end{align*}"
   ]
  },
  {
   "cell_type": "code",
   "execution_count": null,
   "metadata": {},
   "outputs": [],
   "source": [
    "INPUT = \"input-op-32.csv\""
   ]
  },
  {
   "cell_type": "code",
   "execution_count": null,
   "metadata": {},
   "outputs": [],
   "source": [
    "df = pd.read_csv(INPUT).applymap(lambda el: sympify(el))\n",
    "df.head()"
   ]
  },
  {
   "cell_type": "code",
   "execution_count": null,
   "metadata": {},
   "outputs": [],
   "source": [
    "substitutions = {\n",
    "    \"a\": S(\"q + 2 * p1 * x1 - 2*p2 *x2\"),\n",
    "    \"b_1\": S(\"exp(I*phi) * p1 * sqrt(1-x1**2) - p2*sqrt(1-x2**2)\"),\n",
    "    \"b_2\": S(\"exp(-I*phi) * p1 * sqrt(1-x1**2) - p2*sqrt(1-x2**2)\"),\n",
    "    \"e\": S(\n",
    "        \"4*p1**2 * (1-x1**2) + 4*p2**2 * (1-x2**2) - 8*p1*p2*cos(phi)*sqrt(1-x1**2)*sqrt(1-x2**2)\"\n",
    "    ),\n",
    "}\n",
    "for key, val in substitutions.items():\n",
    "    display(Eq(S(key), val))"
   ]
  },
  {
   "cell_type": "code",
   "execution_count": null,
   "metadata": {},
   "outputs": [],
   "source": [
    "expr = df.mat[0]\n",
    "expr = expr.subs(substitutions)\n",
    "expr"
   ]
  },
  {
   "cell_type": "code",
   "execution_count": null,
   "metadata": {},
   "outputs": [],
   "source": [
    "f = lambdify((\"p1\", \"p2\", \"q\", \"x1\", \"x2\", \"phi\"), expr, modules=\"numpy\")"
   ]
  },
  {
   "cell_type": "code",
   "execution_count": null,
   "metadata": {},
   "outputs": [],
   "source": [
    "class SympyTensorConverter:\n",
    "    def __init__(self, expr, args):\n",
    "        self.expr = expr\n",
    "        self.args = args\n",
    "        self._func = lambdify(args, expr, modules=\"numpy\")\n",
    "\n",
    "    @staticmethod\n",
    "    def _args_to_flat_tensor(*args):\n",
    "        return [\n",
    "            arr.flatten() for arr in np.meshgrid(*args, sparse=False, indexing=\"ij\")\n",
    "        ]\n",
    "\n",
    "    @staticmethod\n",
    "    def _flat_to_tensor(arr, shape):\n",
    "        return arr.reshape(shape)\n",
    "\n",
    "    def __call__(self, *args):\n",
    "        shape = tuple(len(arg) for arg in args)\n",
    "        flat_args = self._args_to_flat_tensor(*args)\n",
    "        flat_res = self._func(*flat_args)\n",
    "        return self._flat_to_tensor(flat_res, shape)"
   ]
  },
  {
   "cell_type": "code",
   "execution_count": null,
   "metadata": {},
   "outputs": [],
   "source": [
    "f = SympyTensorConverter(expr, (\"p1\", \"p2\", \"q\", \"x1\", \"x2\", \"phi\"))"
   ]
  },
  {
   "cell_type": "code",
   "execution_count": null,
   "metadata": {},
   "outputs": [],
   "source": [
    "p1 = np.linspace(0, 10, 10)\n",
    "p2 = np.linspace(0, 10, 20)\n",
    "q = np.linspace(0, 1, 2)\n",
    "x1, w1 = np.polynomial.legendre.leggauss(5)\n",
    "x2, w2 = np.polynomial.legendre.leggauss(15)\n",
    "phi, wphi = np.linspace(0, 2 * np.pi, 6), np.ones(6) * 2 * np.pi / 6"
   ]
  },
  {
   "cell_type": "code",
   "execution_count": null,
   "metadata": {},
   "outputs": [],
   "source": [
    "shape = (10, 20, 2, 5, 15, 6)"
   ]
  },
  {
   "cell_type": "code",
   "execution_count": null,
   "metadata": {
    "scrolled": false
   },
   "outputs": [],
   "source": [
    "out_sympy = f(p1, p2, q, x1, x2, phi)\n",
    "out_sympy.shape"
   ]
  },
  {
   "cell_type": "code",
   "execution_count": null,
   "metadata": {},
   "outputs": [],
   "source": [
    "expr"
   ]
  },
  {
   "cell_type": "code",
   "execution_count": null,
   "metadata": {},
   "outputs": [],
   "source": [
    "def get_res_numpy():\n",
    "    zeros = np.zeros(shape)\n",
    "\n",
    "    pp1 = p1.reshape((10, 1, 1, 1, 1, 1)) + zeros\n",
    "    pp2 = p2.reshape((1, 20, 1, 1, 1, 1)) + zeros\n",
    "    qq = q.reshape((1, 1, 2, 1, 1, 1)) + zeros\n",
    "    xx1 = x1.reshape((1, 1, 1, 5, 1, 1)) + zeros\n",
    "    xx2 = x2.reshape((1, 1, 1, 1, 15, 1)) + zeros\n",
    "    pphi = phi.reshape((1, 1, 1, 1, 1, 6)) + zeros\n",
    "\n",
    "    beta = pp1 * np.sqrt(1 - xx1 ** 2) * np.exp(1j * pphi)\n",
    "    beta -= pp2 * np.sqrt(1 - xx2 ** 2)\n",
    "    alpha = 2 * pp1 * xx1 - 2 * pp2 * xx2 + qq\n",
    "\n",
    "    return alpha * beta\n",
    "\n",
    "\n",
    "out = get_res_numpy()\n",
    "out.shape"
   ]
  },
  {
   "cell_type": "code",
   "execution_count": null,
   "metadata": {},
   "outputs": [],
   "source": [
    "np.testing.assert_equal(out, out_sympy)"
   ]
  },
  {
   "cell_type": "code",
   "execution_count": null,
   "metadata": {},
   "outputs": [],
   "source": [
    "%timeit f(p1, p2, q, x1, x2, phi)"
   ]
  },
  {
   "cell_type": "code",
   "execution_count": null,
   "metadata": {},
   "outputs": [],
   "source": [
    "%timeit get_res_numpy()"
   ]
  },
  {
   "cell_type": "code",
   "execution_count": null,
   "metadata": {},
   "outputs": [],
   "source": [
    "out.shape"
   ]
  },
  {
   "cell_type": "code",
   "execution_count": null,
   "metadata": {},
   "outputs": [],
   "source": [
    "bb = np.random.normal(size=(5, 1, 1))"
   ]
  },
  {
   "cell_type": "code",
   "execution_count": null,
   "metadata": {},
   "outputs": [],
   "source": [
    "out * bb"
   ]
  },
  {
   "cell_type": "code",
   "execution_count": null,
   "metadata": {},
   "outputs": [],
   "source": []
  }
 ],
 "metadata": {
  "kernelspec": {
   "display_name": "Python 3",
   "language": "python",
   "name": "python3"
  },
  "language_info": {
   "codemirror_mode": {
    "name": "ipython",
    "version": 3
   },
   "file_extension": ".py",
   "mimetype": "text/x-python",
   "name": "python",
   "nbconvert_exporter": "python",
   "pygments_lexer": "ipython3",
   "version": "3.7.7"
  }
 },
 "nbformat": 4,
 "nbformat_minor": 2
}
