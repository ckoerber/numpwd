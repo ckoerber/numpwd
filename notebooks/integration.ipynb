{
 "cells": [
  {
   "cell_type": "code",
   "execution_count": null,
   "metadata": {},
   "outputs": [],
   "source": [
    "from sympy import S, integrate, trigsimp, expand_trig, I, symbols, sqrt, Symbol\n",
    "import numpy as np\n",
    "from IPython.display import display\n",
    "from functools import lru_cache"
   ]
  },
  {
   "cell_type": "code",
   "execution_count": null,
   "metadata": {},
   "outputs": [],
   "source": [
    "expr = S(\"-q11*q21 - q12*q22 - q13*q23\")\n",
    "expr = S(\"-q11*q23 + I*q12*q23 + q13*q21 - I*q13*q22\")"
   ]
  },
  {
   "cell_type": "code",
   "execution_count": null,
   "metadata": {},
   "outputs": [],
   "source": [
    "def get_spherical_substitutions(pp, nn):\n",
    "    return {\n",
    "        f\"{pp}{nn}1\": f\"{pp}{nn} * x{nn} * cos(phi{nn})\",\n",
    "        f\"{pp}{nn}2\": f\"{pp}{nn} * x{nn} * sin(phi{nn})\",\n",
    "        f\"{pp}{nn}3\": f\"{pp}{nn} * sqrt(1 - x{nn}**2)\",\n",
    "    }\n",
    "\n",
    "\n",
    "get_spherical_substitutions(\"q\", 1)"
   ]
  },
  {
   "cell_type": "code",
   "execution_count": null,
   "metadata": {},
   "outputs": [],
   "source": [
    "substitutions = {\n",
    "    **get_spherical_substitutions(\"q\", 1),\n",
    "    **get_spherical_substitutions(\"q\", 2),\n",
    "}\n",
    "substitutions"
   ]
  },
  {
   "cell_type": "code",
   "execution_count": null,
   "metadata": {},
   "outputs": [],
   "source": [
    "expr_spherical = expr.subs(substitutions).expand().simplify()\n",
    "expr_spherical"
   ]
  },
  {
   "cell_type": "code",
   "execution_count": null,
   "metadata": {},
   "outputs": [],
   "source": [
    "angular_substitutions = {\n",
    "    \"phi1\": \"Phi + phi/2\",\n",
    "    \"phi2\": \"Phi + phi/2\",\n",
    "}"
   ]
  },
  {
   "cell_type": "code",
   "execution_count": null,
   "metadata": {},
   "outputs": [],
   "source": [
    "expr_spherical_cms = trigsimp(\n",
    "    expr_spherical.subs(angular_substitutions).expand().simplify()\n",
    ")\n",
    "expr_spherical_cms"
   ]
  },
  {
   "cell_type": "code",
   "execution_count": null,
   "metadata": {},
   "outputs": [],
   "source": [
    "e = expr_spherical_cms\n",
    "integrate(e, (\"Phi\", 0, \"2*pi\"))"
   ]
  },
  {
   "cell_type": "code",
   "execution_count": null,
   "metadata": {},
   "outputs": [],
   "source": [
    "q11, q12, q13, q21, q22, q23 = symbols(\"q11 q12 q13 q21 q22 q23\")\n",
    "exprs = {\n",
    "    (0, 0, 0, 0): -q13 * q23\n",
    "    - (q11 - I * q12) * (q21 + I * q22) / 2\n",
    "    - (q11 + I * q12) * (q21 - I * q22) / 2,\n",
    "    (0, 0, 1, -1): -sqrt(2) * q13 * (-q21 + I * q22) / 2\n",
    "    + sqrt(2) * q23 * (-q11 + I * q12) / 2,\n",
    "    (0, 0, 1, 0): (q11 - I * q12) * (q21 + I * q22) / 2\n",
    "    - (q11 + I * q12) * (q21 - I * q22) / 2,\n",
    "    (0, 0, 1, 1): sqrt(2) * q13 * (q21 + I * q22) / 2\n",
    "    - sqrt(2) * q23 * (q11 + I * q12) / 2,\n",
    "    (1, -1, 0, 0): sqrt(2) * q13 * (q21 + I * q22) / 2\n",
    "    - sqrt(2) * q23 * (q11 + I * q12) / 2,\n",
    "    (1, 0, 0, 0): -(q11 - I * q12) * (q21 + I * q22) / 2\n",
    "    + (q11 + I * q12) * (q21 - I * q22) / 2,\n",
    "    (1, 1, 0, 0): sqrt(2) * q13 * (q21 - I * q22) / 2\n",
    "    - sqrt(2) * q23 * (q11 - I * q12) / 2,\n",
    "    (1, -1, 1, -1): q13 * q23,\n",
    "    (1, -1, 1, 0): -sqrt(2) * q13 * (q21 + I * q22) / 2\n",
    "    - sqrt(2) * q23 * (q11 + I * q12) / 2,\n",
    "    (1, -1, 1, 1): (q11 + I * q12) * (q21 + I * q22),\n",
    "    (1, 0, 1, -1): sqrt(2) * q13 * (-q21 + I * q22) / 2\n",
    "    + sqrt(2) * q23 * (-q11 + I * q12) / 2,\n",
    "    (1, 0, 1, 0): -q13 * q23\n",
    "    + (q11 - I * q12) * (q21 + I * q22) / 2\n",
    "    + (q11 + I * q12) * (q21 - I * q22) / 2,\n",
    "    (1, 0, 1, 1): sqrt(2) * q13 * (q21 + I * q22) / 2\n",
    "    + sqrt(2) * q23 * (q11 + I * q12) / 2,\n",
    "    (1, 1, 1, -1): (q11 - I * q12) * (q21 - I * q22),\n",
    "    (1, 1, 1, 0): sqrt(2) * q13 * (q21 - I * q22) / 2\n",
    "    + sqrt(2) * q23 * (q11 - I * q12) / 2,\n",
    "    (1, 1, 1, 1): q13 * q23,\n",
    "}"
   ]
  },
  {
   "cell_type": "code",
   "execution_count": null,
   "metadata": {},
   "outputs": [],
   "source": [
    "subs_exprs = {}\n",
    "for key, expr in exprs.items():\n",
    "    subs_exprs[key] = expr.subs(substitutions).subs(angular_substitutions).expand()"
   ]
  },
  {
   "cell_type": "code",
   "execution_count": null,
   "metadata": {},
   "outputs": [],
   "source": [
    "expr = subs_exprs[(1, -1, 1, 1)]\n",
    "expr"
   ]
  },
  {
   "cell_type": "code",
   "execution_count": null,
   "metadata": {},
   "outputs": [],
   "source": [
    "expr.as_coeff_Mul()"
   ]
  },
  {
   "cell_type": "code",
   "execution_count": null,
   "metadata": {},
   "outputs": [],
   "source": [
    "@lru_cache(maxsize=128)\n",
    "def cached_integrate(*args, **kwargs):\n",
    "    return integrate(*args, **kwargs)\n",
    "\n",
    "\n",
    "def integrate_unique_terms(expr, boundaries):\n",
    "    var, start, end = boundaries\n",
    "\n",
    "    if not isinstance(var, Symbol):\n",
    "        var = Symbol(var)\n",
    "\n",
    "    summands, basis = expr.expand().as_terms()\n",
    "\n",
    "    cache = {}\n",
    "\n",
    "    out = 0\n",
    "    for term, (_, powers, _) in summands:\n",
    "        kernel = 1\n",
    "        for ee, pp in zip(basis, powers):\n",
    "            if var in ee.free_symbols:\n",
    "                kernel *= ee ** pp\n",
    "\n",
    "        integrated = cache.setdefault(\n",
    "            kernel, cached_integrate(kernel, (var, start, end))\n",
    "        )\n",
    "\n",
    "        out += term / kernel * integrated\n",
    "\n",
    "    return out\n",
    "\n",
    "\n",
    "integrate_unique_terms(expr, (\"Phi\", 0, \"2*pi\")) - integrate(expr, (\"Phi\", 0, \"2*pi\"))"
   ]
  },
  {
   "cell_type": "code",
   "execution_count": null,
   "metadata": {},
   "outputs": [],
   "source": [
    "%timeit integrate_unique_terms(expr, (\"Phi\", 0, \"2*pi\"))\n",
    "%timeit integrate(expr, (\"Phi\", 0, \"2*pi\"))"
   ]
  },
  {
   "cell_type": "code",
   "execution_count": null,
   "metadata": {},
   "outputs": [],
   "source": [
    "%%timeit\n",
    "cached_integrate.cache_clear()\n",
    "for key, expr in subs_exprs.items():\n",
    "    integrate_unique_terms(expr * S(\"exp(I*Phi)\"), (\"Phi\", 0, \"2*pi\"))"
   ]
  },
  {
   "cell_type": "code",
   "execution_count": null,
   "metadata": {},
   "outputs": [],
   "source": [
    "%%timeit\n",
    "for key, expr in subs_exprs.items():\n",
    "    integrate(expr * S(\"exp(I*Phi)\"), (\"Phi\", 0, \"2*pi\"))"
   ]
  },
  {
   "cell_type": "code",
   "execution_count": null,
   "metadata": {},
   "outputs": [],
   "source": [
    "s1 = {}\n",
    "s2 = {}\n",
    "for key, expr in subs_exprs.items():\n",
    "    s1[key] = integrate_unique_terms(expr* S(\"exp(I*Phi)\"), (\"Phi\", 0, \"2*pi\"))\n",
    "    s2[key] = integrate(expr* S(\"exp(I*Phi)\"), (\"Phi\", 0, \"2*pi\"))"
   ]
  },
  {
   "cell_type": "code",
   "execution_count": null,
   "metadata": {},
   "outputs": [],
   "source": [
    "for v1, v2 in zip(s1.values(),  s2.values()):\n",
    "    try:\n",
    "        assert (v1 - v2).simplify() == 0\n",
    "    except Exception as e:\n",
    "        display(v1)\n",
    "        display(v2)\n",
    "        raise e"
   ]
  },
  {
   "cell_type": "code",
   "execution_count": null,
   "metadata": {},
   "outputs": [],
   "source": []
  }
 ],
 "metadata": {
  "kernelspec": {
   "display_name": "Python 3",
   "language": "python",
   "name": "python3"
  },
  "language_info": {
   "codemirror_mode": {
    "name": "ipython",
    "version": 3
   },
   "file_extension": ".py",
   "mimetype": "text/x-python",
   "name": "python",
   "nbconvert_exporter": "python",
   "pygments_lexer": "ipython3",
   "version": "3.7.7"
  }
 },
 "nbformat": 4,
 "nbformat_minor": 2
}
