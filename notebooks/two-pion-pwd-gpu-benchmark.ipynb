{
 "cells": [
  {
   "cell_type": "code",
   "execution_count": 1,
   "metadata": {},
   "outputs": [],
   "source": [
    "from numpy.polynomial.legendre import leggauss\n",
    "from numpwd.integrate.angular import ReducedAngularPolynomial, get_x_mesh, get_phi_mesh\n",
    "from numpwd.integrate.mesh.trns import get_trns_mesh\n",
    "import numpy as np\n",
    "import cupy as cp\n",
    "\n",
    "from sympy import S, sqrt, expand_trig\n",
    "from pandas import DataFrame, set_option, Series\n",
    "\n",
    "from numpwd.integrate.numeric import ExpressionMap\n",
    "from numpwd.qchannels.spin import get_spin_matrix_element, dict_to_data\n",
    "from numpwd.integrate.analytic import SPHERICAL_BASE_SUBS, ANGLE_BASE_SUBS, integrate\n",
    "from numpwd.integrate.angular import ReducedAngularPolynomial\n",
    "\n",
    "set_option(\"max_colwidth\", None)"
   ]
  },
  {
   "cell_type": "code",
   "execution_count": 2,
   "metadata": {},
   "outputs": [
    {
     "data": {
      "text/html": [
       "<div>\n",
       "<style scoped>\n",
       "    .dataframe tbody tr th:only-of-type {\n",
       "        vertical-align: middle;\n",
       "    }\n",
       "\n",
       "    .dataframe tbody tr th {\n",
       "        vertical-align: top;\n",
       "    }\n",
       "\n",
       "    .dataframe thead th {\n",
       "        text-align: right;\n",
       "    }\n",
       "</style>\n",
       "<table border=\"1\" class=\"dataframe\">\n",
       "  <thead>\n",
       "    <tr style=\"text-align: right;\">\n",
       "      <th></th>\n",
       "      <th>s_o</th>\n",
       "      <th>ms_o</th>\n",
       "      <th>s_i</th>\n",
       "      <th>ms_i</th>\n",
       "      <th>val</th>\n",
       "    </tr>\n",
       "  </thead>\n",
       "  <tbody>\n",
       "    <tr>\n",
       "      <th>0</th>\n",
       "      <td>0</td>\n",
       "      <td>0</td>\n",
       "      <td>0</td>\n",
       "      <td>0</td>\n",
       "      <td>p_i1**2 - 2*p_i1*p_o1 + p_i2**2 - 2*p_i2*p_o2 + p_i3**2 - 2*p_i3*p_o3 + p_o1**2 + p_o2**2 + p_o3**2 - q**2/4</td>\n",
       "    </tr>\n",
       "    <tr>\n",
       "      <th>1</th>\n",
       "      <td>0</td>\n",
       "      <td>0</td>\n",
       "      <td>1</td>\n",
       "      <td>-1</td>\n",
       "      <td>sqrt(2)*q*(-p_i1 + I*p_i2 + p_o1 - I*p_o2)/2</td>\n",
       "    </tr>\n",
       "    <tr>\n",
       "      <th>2</th>\n",
       "      <td>0</td>\n",
       "      <td>0</td>\n",
       "      <td>1</td>\n",
       "      <td>1</td>\n",
       "      <td>sqrt(2)*q*(-p_i1 - I*p_i2 + p_o1 + I*p_o2)/2</td>\n",
       "    </tr>\n",
       "    <tr>\n",
       "      <th>3</th>\n",
       "      <td>1</td>\n",
       "      <td>-1</td>\n",
       "      <td>0</td>\n",
       "      <td>0</td>\n",
       "      <td>sqrt(2)*q*(-p_i1 - I*p_i2 + p_o1 + I*p_o2)/2</td>\n",
       "    </tr>\n",
       "    <tr>\n",
       "      <th>4</th>\n",
       "      <td>1</td>\n",
       "      <td>1</td>\n",
       "      <td>0</td>\n",
       "      <td>0</td>\n",
       "      <td>sqrt(2)*q*(-p_i1 + I*p_i2 + p_o1 - I*p_o2)/2</td>\n",
       "    </tr>\n",
       "  </tbody>\n",
       "</table>\n",
       "</div>"
      ],
      "text/plain": [
       "   s_o  ms_o  s_i  ms_i  \\\n",
       "0    0     0    0     0   \n",
       "1    0     0    1    -1   \n",
       "2    0     0    1     1   \n",
       "3    1    -1    0     0   \n",
       "4    1     1    0     0   \n",
       "\n",
       "                                                                                                            val  \n",
       "0  p_i1**2 - 2*p_i1*p_o1 + p_i2**2 - 2*p_i2*p_o2 + p_i3**2 - 2*p_i3*p_o3 + p_o1**2 + p_o2**2 + p_o3**2 - q**2/4  \n",
       "1                                                                  sqrt(2)*q*(-p_i1 + I*p_i2 + p_o1 - I*p_o2)/2  \n",
       "2                                                                  sqrt(2)*q*(-p_i1 - I*p_i2 + p_o1 + I*p_o2)/2  \n",
       "3                                                                  sqrt(2)*q*(-p_i1 - I*p_i2 + p_o1 + I*p_o2)/2  \n",
       "4                                                                  sqrt(2)*q*(-p_i1 + I*p_i2 + p_o1 - I*p_o2)/2  "
      ]
     },
     "execution_count": 2,
     "metadata": {},
     "output_type": "execute_result"
    }
   ],
   "source": [
    "sig1_k1 = S(\"sigma11 * l11 + sigma12  * l12 + sigma13 * l13\")\n",
    "sig2_k2 = S(\"sigma21 * l21 + sigma22  * l22 + sigma23 * l23\")\n",
    "\n",
    "kernel = sig1_k1 * sig2_k2\n",
    "kernel = kernel.subs(\n",
    "    {\"l11\": \"+p_i1 - p_o1\", \"l12\": \"+p_i2 - p_o2\", \"l13\": \"+p_i3 - p_o3 + q/2\"}\n",
    ")\n",
    "kernel = kernel.subs(\n",
    "    {\"l21\": \"-p_i1 + p_o1\", \"l22\": \"-p_i2 + p_o2\", \"l23\": \"-p_i3 + p_o3 + q/2\"}\n",
    ")\n",
    "kernel\n",
    "pwd = DataFrame(get_spin_matrix_element(kernel))\n",
    "pwd.head()"
   ]
  },
  {
   "cell_type": "code",
   "execution_count": 3,
   "metadata": {},
   "outputs": [
    {
     "data": {
      "text/html": [
       "<div>\n",
       "<style scoped>\n",
       "    .dataframe tbody tr th:only-of-type {\n",
       "        vertical-align: middle;\n",
       "    }\n",
       "\n",
       "    .dataframe tbody tr th {\n",
       "        vertical-align: top;\n",
       "    }\n",
       "\n",
       "    .dataframe thead th {\n",
       "        text-align: right;\n",
       "    }\n",
       "</style>\n",
       "<table border=\"1\" class=\"dataframe\">\n",
       "  <thead>\n",
       "    <tr style=\"text-align: right;\">\n",
       "      <th></th>\n",
       "      <th>s_o</th>\n",
       "      <th>ms_o</th>\n",
       "      <th>s_i</th>\n",
       "      <th>ms_i</th>\n",
       "      <th>val</th>\n",
       "    </tr>\n",
       "  </thead>\n",
       "  <tbody>\n",
       "    <tr>\n",
       "      <th>0</th>\n",
       "      <td>0</td>\n",
       "      <td>0</td>\n",
       "      <td>0</td>\n",
       "      <td>0</td>\n",
       "      <td>p_i**2 - 2*p_i*p_o*x_i*x_o - p_i*p_o*sqrt(1 - x_i**2)*sqrt(1 - x_o**2)*exp(I*phi) - p_i*p_o*sqrt(1 - x_i**2)*sqrt(1 - x_o**2)*exp(-I*phi) + p_o**2 - q**2/4</td>\n",
       "    </tr>\n",
       "    <tr>\n",
       "      <th>1</th>\n",
       "      <td>0</td>\n",
       "      <td>0</td>\n",
       "      <td>1</td>\n",
       "      <td>-1</td>\n",
       "      <td>-sqrt(2)*p_i*q*sqrt(1 - x_i**2)*exp(-I*Phi)*exp(-I*phi/2)/2 + sqrt(2)*p_o*q*sqrt(1 - x_o**2)*exp(-I*Phi)*exp(I*phi/2)/2</td>\n",
       "    </tr>\n",
       "    <tr>\n",
       "      <th>2</th>\n",
       "      <td>0</td>\n",
       "      <td>0</td>\n",
       "      <td>1</td>\n",
       "      <td>1</td>\n",
       "      <td>-sqrt(2)*p_i*q*sqrt(1 - x_i**2)*exp(I*Phi)*exp(I*phi/2)/2 + sqrt(2)*p_o*q*sqrt(1 - x_o**2)*exp(I*Phi)*exp(-I*phi/2)/2</td>\n",
       "    </tr>\n",
       "    <tr>\n",
       "      <th>3</th>\n",
       "      <td>1</td>\n",
       "      <td>-1</td>\n",
       "      <td>0</td>\n",
       "      <td>0</td>\n",
       "      <td>-sqrt(2)*p_i*q*sqrt(1 - x_i**2)*exp(I*Phi)*exp(I*phi/2)/2 + sqrt(2)*p_o*q*sqrt(1 - x_o**2)*exp(I*Phi)*exp(-I*phi/2)/2</td>\n",
       "    </tr>\n",
       "    <tr>\n",
       "      <th>4</th>\n",
       "      <td>1</td>\n",
       "      <td>1</td>\n",
       "      <td>0</td>\n",
       "      <td>0</td>\n",
       "      <td>-sqrt(2)*p_i*q*sqrt(1 - x_i**2)*exp(-I*Phi)*exp(-I*phi/2)/2 + sqrt(2)*p_o*q*sqrt(1 - x_o**2)*exp(-I*Phi)*exp(I*phi/2)/2</td>\n",
       "    </tr>\n",
       "  </tbody>\n",
       "</table>\n",
       "</div>"
      ],
      "text/plain": [
       "   s_o  ms_o  s_i  ms_i  \\\n",
       "0    0     0    0     0   \n",
       "1    0     0    1    -1   \n",
       "2    0     0    1     1   \n",
       "3    1    -1    0     0   \n",
       "4    1     1    0     0   \n",
       "\n",
       "                                                                                                                                                           val  \n",
       "0  p_i**2 - 2*p_i*p_o*x_i*x_o - p_i*p_o*sqrt(1 - x_i**2)*sqrt(1 - x_o**2)*exp(I*phi) - p_i*p_o*sqrt(1 - x_i**2)*sqrt(1 - x_o**2)*exp(-I*phi) + p_o**2 - q**2/4  \n",
       "1                                      -sqrt(2)*p_i*q*sqrt(1 - x_i**2)*exp(-I*Phi)*exp(-I*phi/2)/2 + sqrt(2)*p_o*q*sqrt(1 - x_o**2)*exp(-I*Phi)*exp(I*phi/2)/2  \n",
       "2                                        -sqrt(2)*p_i*q*sqrt(1 - x_i**2)*exp(I*Phi)*exp(I*phi/2)/2 + sqrt(2)*p_o*q*sqrt(1 - x_o**2)*exp(I*Phi)*exp(-I*phi/2)/2  \n",
       "3                                        -sqrt(2)*p_i*q*sqrt(1 - x_i**2)*exp(I*Phi)*exp(I*phi/2)/2 + sqrt(2)*p_o*q*sqrt(1 - x_o**2)*exp(I*Phi)*exp(-I*phi/2)/2  \n",
       "4                                      -sqrt(2)*p_i*q*sqrt(1 - x_i**2)*exp(-I*Phi)*exp(-I*phi/2)/2 + sqrt(2)*p_o*q*sqrt(1 - x_o**2)*exp(-I*Phi)*exp(I*phi/2)/2  "
      ]
     },
     "execution_count": 3,
     "metadata": {},
     "output_type": "execute_result"
    }
   ],
   "source": [
    "df = pwd.copy()\n",
    "\n",
    "df[\"val\"] = df.apply(\n",
    "    lambda el: expand_trig(\n",
    "        el[\"val\"]\n",
    "        .subs(SPHERICAL_BASE_SUBS)\n",
    "        .subs(ANGLE_BASE_SUBS)\n",
    "        .rewrite(S(\"exp\"))\n",
    "        .expand()\n",
    "    ),\n",
    "    axis=1,\n",
    ")\n",
    "df.head()"
   ]
  },
  {
   "cell_type": "code",
   "execution_count": 4,
   "metadata": {},
   "outputs": [],
   "source": [
    "def integrate_out_big_phi(expr):\n",
    "    res = {}\n",
    "    for mla in range(-2, 3):\n",
    "        res[mla] = integrate(expr * S(f\"exp(-I*{mla}*Phi)\"))\n",
    "\n",
    "    return Series(res)"
   ]
  },
  {
   "cell_type": "code",
   "execution_count": 5,
   "metadata": {},
   "outputs": [
    {
     "data": {
      "text/html": [
       "<div>\n",
       "<style scoped>\n",
       "    .dataframe tbody tr th:only-of-type {\n",
       "        vertical-align: middle;\n",
       "    }\n",
       "\n",
       "    .dataframe tbody tr th {\n",
       "        vertical-align: top;\n",
       "    }\n",
       "\n",
       "    .dataframe thead th {\n",
       "        text-align: right;\n",
       "    }\n",
       "</style>\n",
       "<table border=\"1\" class=\"dataframe\">\n",
       "  <thead>\n",
       "    <tr style=\"text-align: right;\">\n",
       "      <th></th>\n",
       "      <th></th>\n",
       "      <th></th>\n",
       "      <th></th>\n",
       "      <th></th>\n",
       "      <th>val</th>\n",
       "    </tr>\n",
       "    <tr>\n",
       "      <th>s_o</th>\n",
       "      <th>ms_o</th>\n",
       "      <th>s_i</th>\n",
       "      <th>ms_i</th>\n",
       "      <th>mla</th>\n",
       "      <th></th>\n",
       "    </tr>\n",
       "  </thead>\n",
       "  <tbody>\n",
       "    <tr>\n",
       "      <th rowspan=\"3\" valign=\"top\">0</th>\n",
       "      <th rowspan=\"3\" valign=\"top\">0</th>\n",
       "      <th>0</th>\n",
       "      <th>0</th>\n",
       "      <th>0</th>\n",
       "      <td>2*pi*p_i**2 - 4*pi*p_i*p_o*x_i*x_o - 2*pi*p_i*p_o*sqrt(1 - x_i**2)*sqrt(1 - x_o**2)*exp(I*phi) - 2*pi*p_i*p_o*sqrt(1 - x_i**2)*sqrt(1 - x_o**2)*exp(-I*phi) + 2*pi*p_o**2 - pi*q**2/2</td>\n",
       "    </tr>\n",
       "    <tr>\n",
       "      <th rowspan=\"2\" valign=\"top\">1</th>\n",
       "      <th>-1</th>\n",
       "      <th>-1</th>\n",
       "      <td>-sqrt(2)*pi*p_i*q*sqrt(1 - x_i**2)*exp(-I*phi/2) + sqrt(2)*pi*p_o*q*sqrt(1 - x_o**2)*exp(I*phi/2)</td>\n",
       "    </tr>\n",
       "    <tr>\n",
       "      <th>1</th>\n",
       "      <th>1</th>\n",
       "      <td>-sqrt(2)*pi*p_i*q*sqrt(1 - x_i**2)*exp(I*phi/2) + sqrt(2)*pi*p_o*q*sqrt(1 - x_o**2)*exp(-I*phi/2)</td>\n",
       "    </tr>\n",
       "    <tr>\n",
       "      <th rowspan=\"11\" valign=\"top\">1</th>\n",
       "      <th rowspan=\"4\" valign=\"top\">-1</th>\n",
       "      <th>0</th>\n",
       "      <th>0</th>\n",
       "      <th>1</th>\n",
       "      <td>-sqrt(2)*pi*p_i*q*sqrt(1 - x_i**2)*exp(I*phi/2) + sqrt(2)*pi*p_o*q*sqrt(1 - x_o**2)*exp(-I*phi/2)</td>\n",
       "    </tr>\n",
       "    <tr>\n",
       "      <th rowspan=\"3\" valign=\"top\">1</th>\n",
       "      <th>-1</th>\n",
       "      <th>0</th>\n",
       "      <td>-2*pi*p_i**2*x_i**2 + 4*pi*p_i*p_o*x_i*x_o - 2*pi*p_o**2*x_o**2 + pi*q**2/2</td>\n",
       "    </tr>\n",
       "    <tr>\n",
       "      <th>0</th>\n",
       "      <th>1</th>\n",
       "      <td>2*sqrt(2)*pi*p_i**2*x_i*sqrt(1 - x_i**2)*exp(I*phi/2) - 2*sqrt(2)*pi*p_i*p_o*x_i*sqrt(1 - x_o**2)*exp(-I*phi/2) - 2*sqrt(2)*pi*p_i*p_o*x_o*sqrt(1 - x_i**2)*exp(I*phi/2) + 2*sqrt(2)*pi*p_o**2*x_o*sqrt(1 - x_o**2)*exp(-I*phi/2)</td>\n",
       "    </tr>\n",
       "    <tr>\n",
       "      <th>1</th>\n",
       "      <th>2</th>\n",
       "      <td>2*pi*p_i**2*x_i**2*exp(I*phi) - 2*pi*p_i**2*exp(I*phi) + 4*pi*p_i*p_o*sqrt(1 - x_i**2)*sqrt(1 - x_o**2) + 2*pi*p_o**2*x_o**2*exp(-I*phi) - 2*pi*p_o**2*exp(-I*phi)</td>\n",
       "    </tr>\n",
       "    <tr>\n",
       "      <th rowspan=\"3\" valign=\"top\">0</th>\n",
       "      <th rowspan=\"3\" valign=\"top\">1</th>\n",
       "      <th>-1</th>\n",
       "      <th>-1</th>\n",
       "      <td>2*sqrt(2)*pi*p_i**2*x_i*sqrt(1 - x_i**2)*exp(-I*phi/2) - 2*sqrt(2)*pi*p_i*p_o*x_i*sqrt(1 - x_o**2)*exp(I*phi/2) - 2*sqrt(2)*pi*p_i*p_o*x_o*sqrt(1 - x_i**2)*exp(-I*phi/2) + 2*sqrt(2)*pi*p_o**2*x_o*sqrt(1 - x_o**2)*exp(I*phi/2)</td>\n",
       "    </tr>\n",
       "    <tr>\n",
       "      <th>0</th>\n",
       "      <th>0</th>\n",
       "      <td>4*pi*p_i**2*x_i**2 - 2*pi*p_i**2 - 4*pi*p_i*p_o*x_i*x_o + 2*pi*p_i*p_o*sqrt(1 - x_i**2)*sqrt(1 - x_o**2)*exp(I*phi) + 2*pi*p_i*p_o*sqrt(1 - x_i**2)*sqrt(1 - x_o**2)*exp(-I*phi) + 4*pi*p_o**2*x_o**2 - 2*pi*p_o**2 - pi*q**2/2</td>\n",
       "    </tr>\n",
       "    <tr>\n",
       "      <th>1</th>\n",
       "      <th>1</th>\n",
       "      <td>-2*sqrt(2)*pi*p_i**2*x_i*sqrt(1 - x_i**2)*exp(I*phi/2) + 2*sqrt(2)*pi*p_i*p_o*x_i*sqrt(1 - x_o**2)*exp(-I*phi/2) + 2*sqrt(2)*pi*p_i*p_o*x_o*sqrt(1 - x_i**2)*exp(I*phi/2) - 2*sqrt(2)*pi*p_o**2*x_o*sqrt(1 - x_o**2)*exp(-I*phi/2)</td>\n",
       "    </tr>\n",
       "    <tr>\n",
       "      <th rowspan=\"4\" valign=\"top\">1</th>\n",
       "      <th>0</th>\n",
       "      <th>0</th>\n",
       "      <th>-1</th>\n",
       "      <td>-sqrt(2)*pi*p_i*q*sqrt(1 - x_i**2)*exp(-I*phi/2) + sqrt(2)*pi*p_o*q*sqrt(1 - x_o**2)*exp(I*phi/2)</td>\n",
       "    </tr>\n",
       "    <tr>\n",
       "      <th rowspan=\"3\" valign=\"top\">1</th>\n",
       "      <th>-1</th>\n",
       "      <th>-2</th>\n",
       "      <td>2*pi*p_i**2*x_i**2*exp(-I*phi) - 2*pi*p_i**2*exp(-I*phi) + 4*pi*p_i*p_o*sqrt(1 - x_i**2)*sqrt(1 - x_o**2) + 2*pi*p_o**2*x_o**2*exp(I*phi) - 2*pi*p_o**2*exp(I*phi)</td>\n",
       "    </tr>\n",
       "    <tr>\n",
       "      <th>0</th>\n",
       "      <th>-1</th>\n",
       "      <td>-2*sqrt(2)*pi*p_i**2*x_i*sqrt(1 - x_i**2)*exp(-I*phi/2) + 2*sqrt(2)*pi*p_i*p_o*x_i*sqrt(1 - x_o**2)*exp(I*phi/2) + 2*sqrt(2)*pi*p_i*p_o*x_o*sqrt(1 - x_i**2)*exp(-I*phi/2) - 2*sqrt(2)*pi*p_o**2*x_o*sqrt(1 - x_o**2)*exp(I*phi/2)</td>\n",
       "    </tr>\n",
       "    <tr>\n",
       "      <th>1</th>\n",
       "      <th>0</th>\n",
       "      <td>-2*pi*p_i**2*x_i**2 + 4*pi*p_i*p_o*x_i*x_o - 2*pi*p_o**2*x_o**2 + pi*q**2/2</td>\n",
       "    </tr>\n",
       "  </tbody>\n",
       "</table>\n",
       "</div>"
      ],
      "text/plain": [
       "                                                                                                                                                                                                                                                      val\n",
       "s_o ms_o s_i ms_i mla                                                                                                                                                                                                                                    \n",
       "0    0   0    0    0                                                2*pi*p_i**2 - 4*pi*p_i*p_o*x_i*x_o - 2*pi*p_i*p_o*sqrt(1 - x_i**2)*sqrt(1 - x_o**2)*exp(I*phi) - 2*pi*p_i*p_o*sqrt(1 - x_i**2)*sqrt(1 - x_o**2)*exp(-I*phi) + 2*pi*p_o**2 - pi*q**2/2\n",
       "         1   -1   -1                                                                                                                                    -sqrt(2)*pi*p_i*q*sqrt(1 - x_i**2)*exp(-I*phi/2) + sqrt(2)*pi*p_o*q*sqrt(1 - x_o**2)*exp(I*phi/2)\n",
       "              1    1                                                                                                                                    -sqrt(2)*pi*p_i*q*sqrt(1 - x_i**2)*exp(I*phi/2) + sqrt(2)*pi*p_o*q*sqrt(1 - x_o**2)*exp(-I*phi/2)\n",
       "1   -1   0    0    1                                                                                                                                    -sqrt(2)*pi*p_i*q*sqrt(1 - x_i**2)*exp(I*phi/2) + sqrt(2)*pi*p_o*q*sqrt(1 - x_o**2)*exp(-I*phi/2)\n",
       "         1   -1    0                                                                                                                                                          -2*pi*p_i**2*x_i**2 + 4*pi*p_i*p_o*x_i*x_o - 2*pi*p_o**2*x_o**2 + pi*q**2/2\n",
       "              0    1    2*sqrt(2)*pi*p_i**2*x_i*sqrt(1 - x_i**2)*exp(I*phi/2) - 2*sqrt(2)*pi*p_i*p_o*x_i*sqrt(1 - x_o**2)*exp(-I*phi/2) - 2*sqrt(2)*pi*p_i*p_o*x_o*sqrt(1 - x_i**2)*exp(I*phi/2) + 2*sqrt(2)*pi*p_o**2*x_o*sqrt(1 - x_o**2)*exp(-I*phi/2)\n",
       "              1    2                                                                   2*pi*p_i**2*x_i**2*exp(I*phi) - 2*pi*p_i**2*exp(I*phi) + 4*pi*p_i*p_o*sqrt(1 - x_i**2)*sqrt(1 - x_o**2) + 2*pi*p_o**2*x_o**2*exp(-I*phi) - 2*pi*p_o**2*exp(-I*phi)\n",
       "     0   1   -1   -1    2*sqrt(2)*pi*p_i**2*x_i*sqrt(1 - x_i**2)*exp(-I*phi/2) - 2*sqrt(2)*pi*p_i*p_o*x_i*sqrt(1 - x_o**2)*exp(I*phi/2) - 2*sqrt(2)*pi*p_i*p_o*x_o*sqrt(1 - x_i**2)*exp(-I*phi/2) + 2*sqrt(2)*pi*p_o**2*x_o*sqrt(1 - x_o**2)*exp(I*phi/2)\n",
       "              0    0      4*pi*p_i**2*x_i**2 - 2*pi*p_i**2 - 4*pi*p_i*p_o*x_i*x_o + 2*pi*p_i*p_o*sqrt(1 - x_i**2)*sqrt(1 - x_o**2)*exp(I*phi) + 2*pi*p_i*p_o*sqrt(1 - x_i**2)*sqrt(1 - x_o**2)*exp(-I*phi) + 4*pi*p_o**2*x_o**2 - 2*pi*p_o**2 - pi*q**2/2\n",
       "              1    1   -2*sqrt(2)*pi*p_i**2*x_i*sqrt(1 - x_i**2)*exp(I*phi/2) + 2*sqrt(2)*pi*p_i*p_o*x_i*sqrt(1 - x_o**2)*exp(-I*phi/2) + 2*sqrt(2)*pi*p_i*p_o*x_o*sqrt(1 - x_i**2)*exp(I*phi/2) - 2*sqrt(2)*pi*p_o**2*x_o*sqrt(1 - x_o**2)*exp(-I*phi/2)\n",
       "     1   0    0   -1                                                                                                                                    -sqrt(2)*pi*p_i*q*sqrt(1 - x_i**2)*exp(-I*phi/2) + sqrt(2)*pi*p_o*q*sqrt(1 - x_o**2)*exp(I*phi/2)\n",
       "         1   -1   -2                                                                   2*pi*p_i**2*x_i**2*exp(-I*phi) - 2*pi*p_i**2*exp(-I*phi) + 4*pi*p_i*p_o*sqrt(1 - x_i**2)*sqrt(1 - x_o**2) + 2*pi*p_o**2*x_o**2*exp(I*phi) - 2*pi*p_o**2*exp(I*phi)\n",
       "              0   -1   -2*sqrt(2)*pi*p_i**2*x_i*sqrt(1 - x_i**2)*exp(-I*phi/2) + 2*sqrt(2)*pi*p_i*p_o*x_i*sqrt(1 - x_o**2)*exp(I*phi/2) + 2*sqrt(2)*pi*p_i*p_o*x_o*sqrt(1 - x_i**2)*exp(-I*phi/2) - 2*sqrt(2)*pi*p_o**2*x_o*sqrt(1 - x_o**2)*exp(I*phi/2)\n",
       "              1    0                                                                                                                                                          -2*pi*p_i**2*x_i**2 + 4*pi*p_i*p_o*x_i*x_o - 2*pi*p_o**2*x_o**2 + pi*q**2/2"
      ]
     },
     "execution_count": 5,
     "metadata": {},
     "output_type": "execute_result"
    }
   ],
   "source": [
    "tf = (\n",
    "    df.set_index([\"s_o\", \"ms_o\", \"s_i\", \"ms_i\"])\n",
    "    .val.apply(integrate_out_big_phi)\n",
    "    .stack()\n",
    ")\n",
    "tf.index.names = [\"s_o\", \"ms_o\", \"s_i\", \"ms_i\", \"mla\"]\n",
    "tf = (\n",
    "    tf[tf != 0]\n",
    "    .reset_index()\n",
    "    .rename(columns={0: \"val\"})\n",
    "    .set_index([\"s_o\", \"ms_o\", \"s_i\", \"ms_i\", \"mla\"])\n",
    "    .sort_index()\n",
    ")\n",
    "tf"
   ]
  },
  {
   "cell_type": "code",
   "execution_count": 6,
   "metadata": {},
   "outputs": [],
   "source": [
    "NPHI = 20\n",
    "NX = 30\n",
    "NP1 = 40\n",
    "NP2 = 20\n",
    "NQ = 2"
   ]
  },
  {
   "cell_type": "code",
   "execution_count": 7,
   "metadata": {},
   "outputs": [],
   "source": [
    "phi, wphi = get_phi_mesh(NPHI)\n",
    "x, wx = leggauss(NX)\n",
    "p, wp = get_trns_mesh(NP1, NP2)\n",
    "q = np.linspace(0, 1, NQ)"
   ]
  },
  {
   "cell_type": "code",
   "execution_count": 53,
   "metadata": {},
   "outputs": [],
   "source": [
    "poly = ReducedAngularPolynomial(x, phi, lmax=4, wx=wx, wphi=wphi)"
   ]
  },
  {
   "cell_type": "code",
   "execution_count": 8,
   "metadata": {},
   "outputs": [],
   "source": [
    "expr = tf.iloc[1].val\n",
    "mla = tf.iloc[1].name[-1]\n",
    "op = ExpressionMap(expr, (\"p_o\", \"p_i\", \"q\", \"x_o\", \"x_i\", \"phi\"))\n",
    "mat = op(p, p, q, x, x, phi)"
   ]
  },
  {
   "cell_type": "code",
   "execution_count": null,
   "metadata": {},
   "outputs": [],
   "source": [
    "tensor_cpu = op(p, p, q, x, x, phi)\n",
    "%timeit op(p, p, q, x, x, phi)\n",
    "tensor_cpu.nbytes / 1024 ** 3"
   ]
  },
  {
   "cell_type": "code",
   "execution_count": 56,
   "metadata": {
    "scrolled": false
   },
   "outputs": [
    {
     "name": "stdout",
     "output_type": "stream",
     "text": [
      "35.8 s ± 214 ms per loop (mean ± std. dev. of 7 runs, 1 loop each)\n"
     ]
    }
   ],
   "source": [
    "%%timeit\n",
    "mat = op(p, p, q, x, x, phi)\n",
    "res = poly.integrate(mat, mla, max_chunk_size=10)"
   ]
  },
  {
   "cell_type": "code",
   "execution_count": 9,
   "metadata": {},
   "outputs": [],
   "source": [
    "phi_gpu = cp.array(phi)\n",
    "x_gpu = cp.array(x)\n",
    "p_gpu = cp.array(p)\n",
    "q_gpu = cp.array(q)\n",
    "\n",
    "wphi_gpu = cp.array(wphi)\n",
    "wx_gpu = cp.array(wx)\n",
    "wp_gpu = cp.array(wp)"
   ]
  },
  {
   "cell_type": "code",
   "execution_count": 10,
   "metadata": {},
   "outputs": [],
   "source": [
    "tensor_gpu = op(p_gpu, p_gpu, q_gpu, x_gpu, x_gpu, phi_gpu)"
   ]
  },
  {
   "cell_type": "code",
   "execution_count": 11,
   "metadata": {},
   "outputs": [],
   "source": [
    "poly_gpu = ReducedAngularPolynomial(x, phi, lmax=4, wx=wx_gpu, wphi=wphi_gpu)\n",
    "poly_gpu.x = x_gpu\n",
    "poly_gpu.phi = phi_gpu\n",
    "poly_gpu.matrix = cp.array(poly_gpu.matrix)"
   ]
  },
  {
   "cell_type": "code",
   "execution_count": 12,
   "metadata": {},
   "outputs": [
    {
     "name": "stdout",
     "output_type": "stream",
     "text": [
      "1.28 s ± 463 µs per loop (mean ± std. dev. of 7 runs, 10 loops each)\n"
     ]
    }
   ],
   "source": [
    "%%timeit\n",
    "tensor_gpu = op(p_gpu, p_gpu, q_gpu, x_gpu, x_gpu, phi_gpu)\n",
    "poly_gpu.integrate(tensor_gpu, mla, max_chunk_size=1)"
   ]
  },
  {
   "cell_type": "code",
   "execution_count": null,
   "metadata": {},
   "outputs": [],
   "source": [
    "tensor_gpu = op(p_gpu, p_gpu, q_gpu, x_gpu, x_gpu, phi_gpu)\n",
    "%timeit op(p_gpu, p_gpu, q_gpu, x_gpu, x_gpu, phi_gpu)\n",
    "tensor_gpu.nbytes / 1024 ** 3"
   ]
  },
  {
   "cell_type": "code",
   "execution_count": null,
   "metadata": {},
   "outputs": [],
   "source": [
    "np.abs(cp.asnumpy(tensor_gpu) - tensor_cpu).mean()"
   ]
  },
  {
   "cell_type": "code",
   "execution_count": null,
   "metadata": {},
   "outputs": [],
   "source": [
    "%%timeit\n",
    "(\n",
    "    tensor_cpu\n",
    "    * tensor_cpu\n",
    "    * wx.reshape(1, 1, 1, NX, 1, 1)\n",
    "    * wx.reshape(1, 1, 1, 1, NX, 1)\n",
    "    * wphi.reshape(1, 1, 1, 1, 1, NPHI)\n",
    ")"
   ]
  },
  {
   "cell_type": "code",
   "execution_count": null,
   "metadata": {},
   "outputs": [],
   "source": [
    "%%timeit\n",
    "(\n",
    "    tensor_gpu\n",
    "    * tensor_gpu\n",
    "    * wx_gpu.reshape(1, 1, 1, NX, 1, 1)\n",
    "    * wx_gpu.reshape(1, 1, 1, 1, NX, 1)\n",
    "    * wphi_gpu.reshape(1, 1, 1, 1, 1, NPHI)\n",
    ")"
   ]
  },
  {
   "cell_type": "code",
   "execution_count": null,
   "metadata": {},
   "outputs": [],
   "source": []
  }
 ],
 "metadata": {
  "kernelspec": {
   "display_name": "numpwd",
   "language": "python",
   "name": "numpwd"
  },
  "language_info": {
   "codemirror_mode": {
    "name": "ipython",
    "version": 3
   },
   "file_extension": ".py",
   "mimetype": "text/x-python",
   "name": "python",
   "nbconvert_exporter": "python",
   "pygments_lexer": "ipython3",
   "version": "3.8.2"
  }
 },
 "nbformat": 4,
 "nbformat_minor": 4
}
