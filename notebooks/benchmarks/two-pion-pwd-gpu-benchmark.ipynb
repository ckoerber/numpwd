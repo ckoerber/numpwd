{
 "cells": [
  {
   "cell_type": "markdown",
   "metadata": {},
   "source": [
    "# This notebook compares numerical integration routines on GPU and CPU"
   ]
  },
  {
   "cell_type": "markdown",
   "metadata": {},
   "source": [
    "## Init"
   ]
  },
  {
   "cell_type": "code",
   "execution_count": 1,
   "metadata": {},
   "outputs": [],
   "source": [
    "from numpy.polynomial.legendre import leggauss\n",
    "from numpwd.integrate.angular import ReducedAngularPolynomial, get_x_mesh, get_phi_mesh\n",
    "from numpwd.integrate.mesh.trns import get_trns_mesh\n",
    "import numpy as np\n",
    "\n",
    "from sympy import S, sqrt, expand_trig\n",
    "from pandas import DataFrame, set_option, Series\n",
    "\n",
    "from numpwd.integrate.numeric import ExpressionMap\n",
    "from numpwd.qchannels.spin import get_spin_matrix_element, dict_to_data\n",
    "from numpwd.integrate.analytic import SPHERICAL_BASE_SUBS, ANGLE_BASE_SUBS, integrate\n",
    "from numpwd.integrate.angular import ReducedAngularPolynomial\n",
    "\n",
    "set_option(\"max_colwidth\", None)"
   ]
  },
  {
   "cell_type": "markdown",
   "metadata": {},
   "source": [
    "## Set up the test matrix kernel for integration"
   ]
  },
  {
   "cell_type": "markdown",
   "metadata": {},
   "source": [
    "The matrix element corresponds to\n",
    "$$\n",
    "    \\sigma_1 \\cdot \\vec l_1 \\; \\sigma_2 \\cdot \\vec l_2\n",
    "$$\n",
    "where\n",
    "$$\n",
    "    \\vec l_{1/2} = \\frac{\\vec q}{2} \\pm ( \\vec p_i - \\vec p_o)\n",
    "$$"
   ]
  },
  {
   "cell_type": "code",
   "execution_count": 2,
   "metadata": {},
   "outputs": [
    {
     "data": {
      "text/latex": [
       "$\\displaystyle \\left(\\sigma_{11} \\left(p_{i1} - p_{o1}\\right) + \\sigma_{12} \\left(p_{i2} - p_{o2}\\right) + \\sigma_{13} \\left(p_{i3} - p_{o3} + \\frac{q}{2}\\right)\\right) \\left(\\sigma_{21} \\left(- p_{i1} + p_{o1}\\right) + \\sigma_{22} \\left(- p_{i2} + p_{o2}\\right) + \\sigma_{23} \\left(- p_{i3} + p_{o3} + \\frac{q}{2}\\right)\\right)$"
      ],
      "text/plain": [
       "(sigma11*(p_i1 - p_o1) + sigma12*(p_i2 - p_o2) + sigma13*(p_i3 - p_o3 + q/2))*(sigma21*(-p_i1 + p_o1) + sigma22*(-p_i2 + p_o2) + sigma23*(-p_i3 + p_o3 + q/2))"
      ]
     },
     "execution_count": 2,
     "metadata": {},
     "output_type": "execute_result"
    }
   ],
   "source": [
    "sig1_k1 = S(\"sigma11 * l11 + sigma12  * l12 + sigma13 * l13\")\n",
    "sig2_k2 = S(\"sigma21 * l21 + sigma22  * l22 + sigma23 * l23\")\n",
    "\n",
    "kernel = sig1_k1 * sig2_k2\n",
    "kernel = kernel.subs(\n",
    "    {\"l11\": \"+p_i1 - p_o1\", \"l12\": \"+p_i2 - p_o2\", \"l13\": \"+p_i3 - p_o3 + q/2\"}\n",
    ")\n",
    "kernel = kernel.subs(\n",
    "    {\"l21\": \"-p_i1 + p_o1\", \"l22\": \"-p_i2 + p_o2\", \"l23\": \"-p_i3 + p_o3 + q/2\"}\n",
    ")\n",
    "kernel"
   ]
  },
  {
   "cell_type": "markdown",
   "metadata": {},
   "source": [
    "## Decompose the kernel"
   ]
  },
  {
   "cell_type": "markdown",
   "metadata": {},
   "source": [
    "The below routine computes\n",
    "$$\n",
    "    \\left\\langle s_o m_{s_o} \\big \\vert O \\big \\vert s_i m_i \\right \\rangle\n",
    "$$\n",
    "wher $s, m_s$ are the in and outgoing spins of the two nucleon system."
   ]
  },
  {
   "cell_type": "raw",
   "metadata": {},
   "source": [
    "help(get_spin_matrix_element)"
   ]
  },
  {
   "cell_type": "code",
   "execution_count": 3,
   "metadata": {},
   "outputs": [
    {
     "name": "stdout",
     "output_type": "stream",
     "text": [
      "Number of elements: 14\n"
     ]
    },
    {
     "data": {
      "text/html": [
       "<div>\n",
       "<style scoped>\n",
       "    .dataframe tbody tr th:only-of-type {\n",
       "        vertical-align: middle;\n",
       "    }\n",
       "\n",
       "    .dataframe tbody tr th {\n",
       "        vertical-align: top;\n",
       "    }\n",
       "\n",
       "    .dataframe thead th {\n",
       "        text-align: right;\n",
       "    }\n",
       "</style>\n",
       "<table border=\"1\" class=\"dataframe\">\n",
       "  <thead>\n",
       "    <tr style=\"text-align: right;\">\n",
       "      <th></th>\n",
       "      <th>s_o</th>\n",
       "      <th>ms_o</th>\n",
       "      <th>s_i</th>\n",
       "      <th>ms_i</th>\n",
       "      <th>val</th>\n",
       "    </tr>\n",
       "  </thead>\n",
       "  <tbody>\n",
       "    <tr>\n",
       "      <th>0</th>\n",
       "      <td>0</td>\n",
       "      <td>0</td>\n",
       "      <td>0</td>\n",
       "      <td>0</td>\n",
       "      <td>p_i1**2 - 2*p_i1*p_o1 + p_i2**2 - 2*p_i2*p_o2 + p_i3**2 - 2*p_i3*p_o3 + p_o1**2 + p_o2**2 + p_o3**2 - q**2/4</td>\n",
       "    </tr>\n",
       "    <tr>\n",
       "      <th>1</th>\n",
       "      <td>0</td>\n",
       "      <td>0</td>\n",
       "      <td>1</td>\n",
       "      <td>-1</td>\n",
       "      <td>sqrt(2)*q*(-p_i1 + I*p_i2 + p_o1 - I*p_o2)/2</td>\n",
       "    </tr>\n",
       "    <tr>\n",
       "      <th>2</th>\n",
       "      <td>0</td>\n",
       "      <td>0</td>\n",
       "      <td>1</td>\n",
       "      <td>1</td>\n",
       "      <td>sqrt(2)*q*(-p_i1 - I*p_i2 + p_o1 + I*p_o2)/2</td>\n",
       "    </tr>\n",
       "    <tr>\n",
       "      <th>3</th>\n",
       "      <td>1</td>\n",
       "      <td>-1</td>\n",
       "      <td>0</td>\n",
       "      <td>0</td>\n",
       "      <td>sqrt(2)*q*(-p_i1 - I*p_i2 + p_o1 + I*p_o2)/2</td>\n",
       "    </tr>\n",
       "    <tr>\n",
       "      <th>4</th>\n",
       "      <td>1</td>\n",
       "      <td>1</td>\n",
       "      <td>0</td>\n",
       "      <td>0</td>\n",
       "      <td>sqrt(2)*q*(-p_i1 + I*p_i2 + p_o1 - I*p_o2)/2</td>\n",
       "    </tr>\n",
       "  </tbody>\n",
       "</table>\n",
       "</div>"
      ],
      "text/plain": [
       "   s_o  ms_o  s_i  ms_i  \\\n",
       "0    0     0    0     0   \n",
       "1    0     0    1    -1   \n",
       "2    0     0    1     1   \n",
       "3    1    -1    0     0   \n",
       "4    1     1    0     0   \n",
       "\n",
       "                                                                                                            val  \n",
       "0  p_i1**2 - 2*p_i1*p_o1 + p_i2**2 - 2*p_i2*p_o2 + p_i3**2 - 2*p_i3*p_o3 + p_o1**2 + p_o2**2 + p_o3**2 - q**2/4  \n",
       "1                                                                  sqrt(2)*q*(-p_i1 + I*p_i2 + p_o1 - I*p_o2)/2  \n",
       "2                                                                  sqrt(2)*q*(-p_i1 - I*p_i2 + p_o1 + I*p_o2)/2  \n",
       "3                                                                  sqrt(2)*q*(-p_i1 - I*p_i2 + p_o1 + I*p_o2)/2  \n",
       "4                                                                  sqrt(2)*q*(-p_i1 + I*p_i2 + p_o1 - I*p_o2)/2  "
      ]
     },
     "execution_count": 3,
     "metadata": {},
     "output_type": "execute_result"
    }
   ],
   "source": [
    "pwd = DataFrame(get_spin_matrix_element(kernel))\n",
    "print(\"Number of elements:\", len(pwd))\n",
    "pwd.head()"
   ]
  },
  {
   "cell_type": "code",
   "execution_count": 4,
   "metadata": {},
   "outputs": [
    {
     "data": {
      "text/latex": [
       "$\\displaystyle p_{i1}^{2} - 2 p_{i1} p_{o1} + p_{i2}^{2} - 2 p_{i2} p_{o2} + p_{i3}^{2} - 2 p_{i3} p_{o3} + p_{o1}^{2} + p_{o2}^{2} + p_{o3}^{2} - \\frac{q^{2}}{4}$"
      ],
      "text/plain": [
       "p_i1**2 - 2*p_i1*p_o1 + p_i2**2 - 2*p_i2*p_o2 + p_i3**2 - 2*p_i3*p_o3 + p_o1**2 + p_o2**2 + p_o3**2 - q**2/4"
      ]
     },
     "execution_count": 4,
     "metadata": {},
     "output_type": "execute_result"
    }
   ],
   "source": [
    "pwd.loc[0, \"val\"]"
   ]
  },
  {
   "cell_type": "markdown",
   "metadata": {},
   "source": [
    "## Going to the spherical base"
   ]
  },
  {
   "cell_type": "markdown",
   "metadata": {},
   "source": [
    "We now subsitude in the spherical coordinates with $p, \\theta = \\arccos(x)$ and $\\phi$."
   ]
  },
  {
   "cell_type": "code",
   "execution_count": 5,
   "metadata": {},
   "outputs": [
    {
     "data": {
      "text/plain": [
       "{'p_i1': 'p_i * sqrt(1 - x_i**2) * cos(phi_i)',\n",
       " 'p_i2': 'p_i * sqrt(1 - x_i**2) * sin(phi_i)',\n",
       " 'p_i3': 'p_i * x_i',\n",
       " 'p_o1': 'p_o * sqrt(1 - x_o**2) * cos(phi_o)',\n",
       " 'p_o2': 'p_o * sqrt(1 - x_o**2) * sin(phi_o)',\n",
       " 'p_o3': 'p_o * x_o'}"
      ]
     },
     "execution_count": 5,
     "metadata": {},
     "output_type": "execute_result"
    }
   ],
   "source": [
    "SPHERICAL_BASE_SUBS"
   ]
  },
  {
   "cell_type": "markdown",
   "metadata": {},
   "source": [
    "And substitute in the CMS coordinates for the $\\phi$s"
   ]
  },
  {
   "cell_type": "code",
   "execution_count": 6,
   "metadata": {},
   "outputs": [
    {
     "data": {
      "text/plain": [
       "{'phi_i': 'Phi + phi/2', 'phi_o': 'Phi - phi/2'}"
      ]
     },
     "execution_count": 6,
     "metadata": {},
     "output_type": "execute_result"
    }
   ],
   "source": [
    "ANGLE_BASE_SUBS"
   ]
  },
  {
   "cell_type": "code",
   "execution_count": 7,
   "metadata": {},
   "outputs": [
    {
     "name": "stdout",
     "output_type": "stream",
     "text": [
      "Number of elements: 14\n"
     ]
    },
    {
     "data": {
      "text/html": [
       "<div>\n",
       "<style scoped>\n",
       "    .dataframe tbody tr th:only-of-type {\n",
       "        vertical-align: middle;\n",
       "    }\n",
       "\n",
       "    .dataframe tbody tr th {\n",
       "        vertical-align: top;\n",
       "    }\n",
       "\n",
       "    .dataframe thead th {\n",
       "        text-align: right;\n",
       "    }\n",
       "</style>\n",
       "<table border=\"1\" class=\"dataframe\">\n",
       "  <thead>\n",
       "    <tr style=\"text-align: right;\">\n",
       "      <th></th>\n",
       "      <th>s_o</th>\n",
       "      <th>ms_o</th>\n",
       "      <th>s_i</th>\n",
       "      <th>ms_i</th>\n",
       "      <th>val</th>\n",
       "    </tr>\n",
       "  </thead>\n",
       "  <tbody>\n",
       "    <tr>\n",
       "      <th>0</th>\n",
       "      <td>0</td>\n",
       "      <td>0</td>\n",
       "      <td>0</td>\n",
       "      <td>0</td>\n",
       "      <td>p_i**2 - 2*p_i*p_o*x_i*x_o - p_i*p_o*sqrt(1 - x_i**2)*sqrt(1 - x_o**2)*exp(I*phi) - p_i*p_o*sqrt(1 - x_i**2)*sqrt(1 - x_o**2)*exp(-I*phi) + p_o**2 - q**2/4</td>\n",
       "    </tr>\n",
       "    <tr>\n",
       "      <th>1</th>\n",
       "      <td>0</td>\n",
       "      <td>0</td>\n",
       "      <td>1</td>\n",
       "      <td>-1</td>\n",
       "      <td>-sqrt(2)*p_i*q*sqrt(1 - x_i**2)*exp(-I*Phi)*exp(-I*phi/2)/2 + sqrt(2)*p_o*q*sqrt(1 - x_o**2)*exp(-I*Phi)*exp(I*phi/2)/2</td>\n",
       "    </tr>\n",
       "    <tr>\n",
       "      <th>2</th>\n",
       "      <td>0</td>\n",
       "      <td>0</td>\n",
       "      <td>1</td>\n",
       "      <td>1</td>\n",
       "      <td>-sqrt(2)*p_i*q*sqrt(1 - x_i**2)*exp(I*Phi)*exp(I*phi/2)/2 + sqrt(2)*p_o*q*sqrt(1 - x_o**2)*exp(I*Phi)*exp(-I*phi/2)/2</td>\n",
       "    </tr>\n",
       "    <tr>\n",
       "      <th>3</th>\n",
       "      <td>1</td>\n",
       "      <td>-1</td>\n",
       "      <td>0</td>\n",
       "      <td>0</td>\n",
       "      <td>-sqrt(2)*p_i*q*sqrt(1 - x_i**2)*exp(I*Phi)*exp(I*phi/2)/2 + sqrt(2)*p_o*q*sqrt(1 - x_o**2)*exp(I*Phi)*exp(-I*phi/2)/2</td>\n",
       "    </tr>\n",
       "    <tr>\n",
       "      <th>4</th>\n",
       "      <td>1</td>\n",
       "      <td>1</td>\n",
       "      <td>0</td>\n",
       "      <td>0</td>\n",
       "      <td>-sqrt(2)*p_i*q*sqrt(1 - x_i**2)*exp(-I*Phi)*exp(-I*phi/2)/2 + sqrt(2)*p_o*q*sqrt(1 - x_o**2)*exp(-I*Phi)*exp(I*phi/2)/2</td>\n",
       "    </tr>\n",
       "  </tbody>\n",
       "</table>\n",
       "</div>"
      ],
      "text/plain": [
       "   s_o  ms_o  s_i  ms_i  \\\n",
       "0    0     0    0     0   \n",
       "1    0     0    1    -1   \n",
       "2    0     0    1     1   \n",
       "3    1    -1    0     0   \n",
       "4    1     1    0     0   \n",
       "\n",
       "                                                                                                                                                           val  \n",
       "0  p_i**2 - 2*p_i*p_o*x_i*x_o - p_i*p_o*sqrt(1 - x_i**2)*sqrt(1 - x_o**2)*exp(I*phi) - p_i*p_o*sqrt(1 - x_i**2)*sqrt(1 - x_o**2)*exp(-I*phi) + p_o**2 - q**2/4  \n",
       "1                                      -sqrt(2)*p_i*q*sqrt(1 - x_i**2)*exp(-I*Phi)*exp(-I*phi/2)/2 + sqrt(2)*p_o*q*sqrt(1 - x_o**2)*exp(-I*Phi)*exp(I*phi/2)/2  \n",
       "2                                        -sqrt(2)*p_i*q*sqrt(1 - x_i**2)*exp(I*Phi)*exp(I*phi/2)/2 + sqrt(2)*p_o*q*sqrt(1 - x_o**2)*exp(I*Phi)*exp(-I*phi/2)/2  \n",
       "3                                        -sqrt(2)*p_i*q*sqrt(1 - x_i**2)*exp(I*Phi)*exp(I*phi/2)/2 + sqrt(2)*p_o*q*sqrt(1 - x_o**2)*exp(I*Phi)*exp(-I*phi/2)/2  \n",
       "4                                      -sqrt(2)*p_i*q*sqrt(1 - x_i**2)*exp(-I*Phi)*exp(-I*phi/2)/2 + sqrt(2)*p_o*q*sqrt(1 - x_o**2)*exp(-I*Phi)*exp(I*phi/2)/2  "
      ]
     },
     "execution_count": 7,
     "metadata": {},
     "output_type": "execute_result"
    }
   ],
   "source": [
    "df = pwd.copy()\n",
    "\n",
    "df[\"val\"] = df.apply(\n",
    "    lambda el: expand_trig(\n",
    "        el[\"val\"]\n",
    "        .subs(SPHERICAL_BASE_SUBS)\n",
    "        .subs(ANGLE_BASE_SUBS)\n",
    "        .rewrite(S(\"exp\"))\n",
    "        .expand()\n",
    "    ),\n",
    "    axis=1,\n",
    ")\n",
    "print(\"Number of elements:\", len(df))\n",
    "df.head()"
   ]
  },
  {
   "cell_type": "code",
   "execution_count": 8,
   "metadata": {},
   "outputs": [
    {
     "data": {
      "text/latex": [
       "$\\displaystyle p_{i}^{2} - 2 p_{i} p_{o} x_{i} x_{o} - p_{i} p_{o} \\sqrt{1 - x_{i}^{2}} \\sqrt{1 - x_{o}^{2}} e^{i \\phi} - p_{i} p_{o} \\sqrt{1 - x_{i}^{2}} \\sqrt{1 - x_{o}^{2}} e^{- i \\phi} + p_{o}^{2} - \\frac{q^{2}}{4}$"
      ],
      "text/plain": [
       "p_i**2 - 2*p_i*p_o*x_i*x_o - p_i*p_o*sqrt(1 - x_i**2)*sqrt(1 - x_o**2)*exp(I*phi) - p_i*p_o*sqrt(1 - x_i**2)*sqrt(1 - x_o**2)*exp(-I*phi) + p_o**2 - q**2/4"
      ]
     },
     "execution_count": 8,
     "metadata": {},
     "output_type": "execute_result"
    }
   ],
   "source": [
    "df.loc[0, \"val\"]"
   ]
  },
  {
   "cell_type": "markdown",
   "metadata": {},
   "source": [
    "## Analytically integrate out $\\Phi$"
   ]
  },
  {
   "cell_type": "markdown",
   "metadata": {},
   "source": [
    "As will be needed later, we run\n",
    "$$\n",
    "    O_{s_o m_{s_o} s_i m_{s_i} m_\\lambda}(x_o, x_i, \\phi)\n",
    "    \\int\\limits_0^{\\Phi} d\\Phi O_{s_o m_{s_o} s_i m_{s_i}}(x_o, x_i, \\phi, \\Phi) \\exp\\{-i m_\\lambda  \\Phi\\}\n",
    "$$"
   ]
  },
  {
   "cell_type": "code",
   "execution_count": 9,
   "metadata": {},
   "outputs": [],
   "source": [
    "def integrate_out_big_phi(expr):\n",
    "    res = {}\n",
    "    for mla in range(-2, 3):\n",
    "        res[mla] = integrate(expr * S(f\"exp(-I*{mla}*Phi)\"))\n",
    "\n",
    "    return Series(res)"
   ]
  },
  {
   "cell_type": "markdown",
   "metadata": {},
   "source": [
    "Because we have to do this for all possible $m_\\lambda$ valuesm, there will be more elements.\n",
    "However, since this expression scales as $p^2$, $|m_\\lambda|$ is at most 2 (others are zero because of $Y_{lm}$ integrations).\n",
    "In particular, only a set of certain $s, m_s$ and $m_\\lambda$ combinations are non-zero, because this operator is a scalar."
   ]
  },
  {
   "cell_type": "code",
   "execution_count": 10,
   "metadata": {},
   "outputs": [
    {
     "name": "stdout",
     "output_type": "stream",
     "text": [
      "Number of all elements: 70\n",
      "Number of non-zero elements: 14\n"
     ]
    },
    {
     "data": {
      "text/html": [
       "<div>\n",
       "<style scoped>\n",
       "    .dataframe tbody tr th:only-of-type {\n",
       "        vertical-align: middle;\n",
       "    }\n",
       "\n",
       "    .dataframe tbody tr th {\n",
       "        vertical-align: top;\n",
       "    }\n",
       "\n",
       "    .dataframe thead th {\n",
       "        text-align: right;\n",
       "    }\n",
       "</style>\n",
       "<table border=\"1\" class=\"dataframe\">\n",
       "  <thead>\n",
       "    <tr style=\"text-align: right;\">\n",
       "      <th></th>\n",
       "      <th></th>\n",
       "      <th></th>\n",
       "      <th></th>\n",
       "      <th></th>\n",
       "      <th>val</th>\n",
       "    </tr>\n",
       "    <tr>\n",
       "      <th>s_o</th>\n",
       "      <th>ms_o</th>\n",
       "      <th>s_i</th>\n",
       "      <th>ms_i</th>\n",
       "      <th>mla</th>\n",
       "      <th></th>\n",
       "    </tr>\n",
       "  </thead>\n",
       "  <tbody>\n",
       "    <tr>\n",
       "      <th rowspan=\"3\" valign=\"top\">0</th>\n",
       "      <th rowspan=\"3\" valign=\"top\">0</th>\n",
       "      <th>0</th>\n",
       "      <th>0</th>\n",
       "      <th>0</th>\n",
       "      <td>2*pi*p_i**2 - 4*pi*p_i*p_o*x_i*x_o - 2*pi*p_i*p_o*sqrt(1 - x_i**2)*sqrt(1 - x_o**2)*exp(I*phi) - 2*pi*p_i*p_o*sqrt(1 - x_i**2)*sqrt(1 - x_o**2)*exp(-I*phi) + 2*pi*p_o**2 - pi*q**2/2</td>\n",
       "    </tr>\n",
       "    <tr>\n",
       "      <th rowspan=\"2\" valign=\"top\">1</th>\n",
       "      <th>-1</th>\n",
       "      <th>-1</th>\n",
       "      <td>-sqrt(2)*pi*p_i*q*sqrt(1 - x_i**2)*exp(-I*phi/2) + sqrt(2)*pi*p_o*q*sqrt(1 - x_o**2)*exp(I*phi/2)</td>\n",
       "    </tr>\n",
       "    <tr>\n",
       "      <th>1</th>\n",
       "      <th>1</th>\n",
       "      <td>-sqrt(2)*pi*p_i*q*sqrt(1 - x_i**2)*exp(I*phi/2) + sqrt(2)*pi*p_o*q*sqrt(1 - x_o**2)*exp(-I*phi/2)</td>\n",
       "    </tr>\n",
       "    <tr>\n",
       "      <th rowspan=\"2\" valign=\"top\">1</th>\n",
       "      <th rowspan=\"2\" valign=\"top\">-1</th>\n",
       "      <th>0</th>\n",
       "      <th>0</th>\n",
       "      <th>1</th>\n",
       "      <td>-sqrt(2)*pi*p_i*q*sqrt(1 - x_i**2)*exp(I*phi/2) + sqrt(2)*pi*p_o*q*sqrt(1 - x_o**2)*exp(-I*phi/2)</td>\n",
       "    </tr>\n",
       "    <tr>\n",
       "      <th>1</th>\n",
       "      <th>-1</th>\n",
       "      <th>0</th>\n",
       "      <td>-2*pi*p_i**2*x_i**2 + 4*pi*p_i*p_o*x_i*x_o - 2*pi*p_o**2*x_o**2 + pi*q**2/2</td>\n",
       "    </tr>\n",
       "  </tbody>\n",
       "</table>\n",
       "</div>"
      ],
      "text/plain": [
       "                                                                                                                                                                                                         val\n",
       "s_o ms_o s_i ms_i mla                                                                                                                                                                                       \n",
       "0    0   0    0    0   2*pi*p_i**2 - 4*pi*p_i*p_o*x_i*x_o - 2*pi*p_i*p_o*sqrt(1 - x_i**2)*sqrt(1 - x_o**2)*exp(I*phi) - 2*pi*p_i*p_o*sqrt(1 - x_i**2)*sqrt(1 - x_o**2)*exp(-I*phi) + 2*pi*p_o**2 - pi*q**2/2\n",
       "         1   -1   -1                                                                                       -sqrt(2)*pi*p_i*q*sqrt(1 - x_i**2)*exp(-I*phi/2) + sqrt(2)*pi*p_o*q*sqrt(1 - x_o**2)*exp(I*phi/2)\n",
       "              1    1                                                                                       -sqrt(2)*pi*p_i*q*sqrt(1 - x_i**2)*exp(I*phi/2) + sqrt(2)*pi*p_o*q*sqrt(1 - x_o**2)*exp(-I*phi/2)\n",
       "1   -1   0    0    1                                                                                       -sqrt(2)*pi*p_i*q*sqrt(1 - x_i**2)*exp(I*phi/2) + sqrt(2)*pi*p_o*q*sqrt(1 - x_o**2)*exp(-I*phi/2)\n",
       "         1   -1    0                                                                                                             -2*pi*p_i**2*x_i**2 + 4*pi*p_i*p_o*x_i*x_o - 2*pi*p_o**2*x_o**2 + pi*q**2/2"
      ]
     },
     "execution_count": 10,
     "metadata": {},
     "output_type": "execute_result"
    }
   ],
   "source": [
    "tf = (\n",
    "    df.set_index([\"s_o\", \"ms_o\", \"s_i\", \"ms_i\"])\n",
    "    .val.apply(integrate_out_big_phi)\n",
    "    .stack()\n",
    ")\n",
    "tf.index.names = [\"s_o\", \"ms_o\", \"s_i\", \"ms_i\", \"mla\"]\n",
    "\n",
    "print(\"Number of all elements:\", len(tf))\n",
    "tf = (\n",
    "    tf[tf != 0]\n",
    "    .reset_index()\n",
    "    .rename(columns={0: \"val\"})\n",
    "    .set_index([\"s_o\", \"ms_o\", \"s_i\", \"ms_i\", \"mla\"])\n",
    "    .sort_index()\n",
    ")\n",
    "print(\"Number of non-zero elements:\", len(tf))\n",
    "tf.head()"
   ]
  },
  {
   "cell_type": "code",
   "execution_count": 11,
   "metadata": {},
   "outputs": [
    {
     "data": {
      "text/latex": [
       "$\\displaystyle 2 \\pi p_{i}^{2} - 4 \\pi p_{i} p_{o} x_{i} x_{o} - 2 \\pi p_{i} p_{o} \\sqrt{1 - x_{i}^{2}} \\sqrt{1 - x_{o}^{2}} e^{i \\phi} - 2 \\pi p_{i} p_{o} \\sqrt{1 - x_{i}^{2}} \\sqrt{1 - x_{o}^{2}} e^{- i \\phi} + 2 \\pi p_{o}^{2} - \\frac{\\pi q^{2}}{2}$"
      ],
      "text/plain": [
       "2*pi*p_i**2 - 4*pi*p_i*p_o*x_i*x_o - 2*pi*p_i*p_o*sqrt(1 - x_i**2)*sqrt(1 - x_o**2)*exp(I*phi) - 2*pi*p_i*p_o*sqrt(1 - x_i**2)*sqrt(1 - x_o**2)*exp(-I*phi) + 2*pi*p_o**2 - pi*q**2/2"
      ]
     },
     "execution_count": 11,
     "metadata": {},
     "output_type": "execute_result"
    }
   ],
   "source": [
    "tf.loc[(0, 0, 0, 0, 0), \"val\"]"
   ]
  },
  {
   "cell_type": "markdown",
   "metadata": {},
   "source": [
    "# Numerical integrations"
   ]
  },
  {
   "cell_type": "markdown",
   "metadata": {},
   "source": [
    "## Allocate angular meshs"
   ]
  },
  {
   "cell_type": "code",
   "execution_count": 12,
   "metadata": {},
   "outputs": [],
   "source": [
    "NPHI = 20\n",
    "NX = 30\n",
    "NP1 = 40\n",
    "NP2 = 20\n",
    "NQ = 2"
   ]
  },
  {
   "cell_type": "code",
   "execution_count": 13,
   "metadata": {},
   "outputs": [],
   "source": [
    "phi, wphi = get_phi_mesh(NPHI)\n",
    "x, wx = leggauss(NX)\n",
    "p, wp = get_trns_mesh(NP1, NP2)\n",
    "q = np.linspace(0, 1, NQ)"
   ]
  },
  {
   "cell_type": "markdown",
   "metadata": {},
   "source": [
    "## Allocate reduced angular polynomial"
   ]
  },
  {
   "cell_type": "code",
   "execution_count": 14,
   "metadata": {},
   "outputs": [],
   "source": [
    "poly = ReducedAngularPolynomial(x, phi, lmax=4, wx=wx, wphi=wphi)"
   ]
  },
  {
   "cell_type": "markdown",
   "metadata": {},
   "source": [
    "## Pick a latex expression..."
   ]
  },
  {
   "cell_type": "code",
   "execution_count": 15,
   "metadata": {},
   "outputs": [
    {
     "name": "stdout",
     "output_type": "stream",
     "text": [
      "m_lambda: -1\n"
     ]
    },
    {
     "data": {
      "text/latex": [
       "$\\displaystyle - \\sqrt{2} \\pi p_{i} q \\sqrt{1 - x_{i}^{2}} e^{- \\frac{i \\phi}{2}} + \\sqrt{2} \\pi p_{o} q \\sqrt{1 - x_{o}^{2}} e^{\\frac{i \\phi}{2}}$"
      ],
      "text/plain": [
       "-sqrt(2)*pi*p_i*q*sqrt(1 - x_i**2)*exp(-I*phi/2) + sqrt(2)*pi*p_o*q*sqrt(1 - x_o**2)*exp(I*phi/2)"
      ]
     },
     "execution_count": 15,
     "metadata": {},
     "output_type": "execute_result"
    }
   ],
   "source": [
    "expr = tf.iloc[1].val\n",
    "mla = tf.iloc[1].name[-1]\n",
    "print(\"m_lambda:\", mla)\n",
    "expr"
   ]
  },
  {
   "cell_type": "markdown",
   "metadata": {},
   "source": [
    "## ... and convert it to a tensor"
   ]
  },
  {
   "cell_type": "code",
   "execution_count": 16,
   "metadata": {},
   "outputs": [
    {
     "data": {
      "text/plain": [
       "(60, 60, 2, 30, 30, 20)"
      ]
     },
     "execution_count": 16,
     "metadata": {},
     "output_type": "execute_result"
    }
   ],
   "source": [
    "op = ExpressionMap(expr, (\"p_o\", \"p_i\", \"q\", \"x_o\", \"x_i\", \"phi\"))\n",
    "mat = op(p, p, q, x, x, phi)\n",
    "mat.shape"
   ]
  },
  {
   "cell_type": "markdown",
   "metadata": {},
   "source": [
    "## And integrate over all angles"
   ]
  },
  {
   "cell_type": "code",
   "execution_count": 17,
   "metadata": {},
   "outputs": [],
   "source": [
    "res = poly.integrate(mat, mla, max_chunk_size=10)"
   ]
  },
  {
   "cell_type": "code",
   "execution_count": 18,
   "metadata": {},
   "outputs": [
    {
     "name": "stdout",
     "output_type": "stream",
     "text": [
      "data shape: (60, 60, 2)\n"
     ]
    },
    {
     "data": {
      "text/html": [
       "<div>\n",
       "<style scoped>\n",
       "    .dataframe tbody tr th:only-of-type {\n",
       "        vertical-align: middle;\n",
       "    }\n",
       "\n",
       "    .dataframe tbody tr th {\n",
       "        vertical-align: top;\n",
       "    }\n",
       "\n",
       "    .dataframe thead th {\n",
       "        text-align: right;\n",
       "    }\n",
       "</style>\n",
       "<table border=\"1\" class=\"dataframe\">\n",
       "  <thead>\n",
       "    <tr style=\"text-align: right;\">\n",
       "      <th></th>\n",
       "      <th>l_o</th>\n",
       "      <th>l_i</th>\n",
       "      <th>lambda</th>\n",
       "      <th>m_lambda</th>\n",
       "    </tr>\n",
       "  </thead>\n",
       "  <tbody>\n",
       "    <tr>\n",
       "      <th>0</th>\n",
       "      <td>0</td>\n",
       "      <td>1</td>\n",
       "      <td>1</td>\n",
       "      <td>-1</td>\n",
       "    </tr>\n",
       "    <tr>\n",
       "      <th>1</th>\n",
       "      <td>0</td>\n",
       "      <td>2</td>\n",
       "      <td>2</td>\n",
       "      <td>-1</td>\n",
       "    </tr>\n",
       "    <tr>\n",
       "      <th>2</th>\n",
       "      <td>0</td>\n",
       "      <td>3</td>\n",
       "      <td>3</td>\n",
       "      <td>-1</td>\n",
       "    </tr>\n",
       "    <tr>\n",
       "      <th>3</th>\n",
       "      <td>0</td>\n",
       "      <td>4</td>\n",
       "      <td>4</td>\n",
       "      <td>-1</td>\n",
       "    </tr>\n",
       "    <tr>\n",
       "      <th>4</th>\n",
       "      <td>1</td>\n",
       "      <td>0</td>\n",
       "      <td>1</td>\n",
       "      <td>-1</td>\n",
       "    </tr>\n",
       "    <tr>\n",
       "      <th>...</th>\n",
       "      <td>...</td>\n",
       "      <td>...</td>\n",
       "      <td>...</td>\n",
       "      <td>...</td>\n",
       "    </tr>\n",
       "    <tr>\n",
       "      <th>75</th>\n",
       "      <td>4</td>\n",
       "      <td>4</td>\n",
       "      <td>4</td>\n",
       "      <td>-1</td>\n",
       "    </tr>\n",
       "    <tr>\n",
       "      <th>76</th>\n",
       "      <td>4</td>\n",
       "      <td>4</td>\n",
       "      <td>5</td>\n",
       "      <td>-1</td>\n",
       "    </tr>\n",
       "    <tr>\n",
       "      <th>77</th>\n",
       "      <td>4</td>\n",
       "      <td>4</td>\n",
       "      <td>6</td>\n",
       "      <td>-1</td>\n",
       "    </tr>\n",
       "    <tr>\n",
       "      <th>78</th>\n",
       "      <td>4</td>\n",
       "      <td>4</td>\n",
       "      <td>7</td>\n",
       "      <td>-1</td>\n",
       "    </tr>\n",
       "    <tr>\n",
       "      <th>79</th>\n",
       "      <td>4</td>\n",
       "      <td>4</td>\n",
       "      <td>8</td>\n",
       "      <td>-1</td>\n",
       "    </tr>\n",
       "  </tbody>\n",
       "</table>\n",
       "<p>80 rows × 4 columns</p>\n",
       "</div>"
      ],
      "text/plain": [
       "    l_o  l_i  lambda  m_lambda\n",
       "0     0    1       1        -1\n",
       "1     0    2       2        -1\n",
       "2     0    3       3        -1\n",
       "3     0    4       4        -1\n",
       "4     1    0       1        -1\n",
       "..  ...  ...     ...       ...\n",
       "75    4    4       4        -1\n",
       "76    4    4       5        -1\n",
       "77    4    4       6        -1\n",
       "78    4    4       7        -1\n",
       "79    4    4       8        -1\n",
       "\n",
       "[80 rows x 4 columns]"
      ]
     },
     "execution_count": 18,
     "metadata": {},
     "output_type": "execute_result"
    }
   ],
   "source": [
    "print(\"data shape:\", list(res.values())[0].shape)\n",
    "DataFrame(data=res.keys(), columns=[\"l_o\", \"l_i\", \"lambda\", \"m_lambda\"])"
   ]
  },
  {
   "cell_type": "markdown",
   "metadata": {},
   "source": [
    "# Benchmarks"
   ]
  },
  {
   "cell_type": "markdown",
   "metadata": {},
   "source": [
    "## CPU"
   ]
  },
  {
   "cell_type": "code",
   "execution_count": 19,
   "metadata": {},
   "outputs": [
    {
     "name": "stdout",
     "output_type": "stream",
     "text": [
      "359 ms ± 4.56 ms per loop (mean ± std. dev. of 7 runs, 1 loop each)\n",
      "Size in GB: 1.9311904907226562\n"
     ]
    }
   ],
   "source": [
    "tensor_cpu = op(p, p, q, x, x, phi)\n",
    "%timeit op(p, p, q, x, x, phi)\n",
    "print(\"Size in GB:\", tensor_cpu.nbytes / 1024 ** 3)"
   ]
  },
  {
   "cell_type": "raw",
   "metadata": {
    "scrolled": false
   },
   "source": [
    "%%timeit\n",
    "mat = op(p, p, q, x, x, phi)\n",
    "res = poly.integrate(mat, mla, max_chunk_size=10)"
   ]
  },
  {
   "cell_type": "raw",
   "metadata": {},
   "source": [
    "35.7 s ± 209 ms per loop (mean ± std. dev. of 7 runs, 1 loop each)"
   ]
  },
  {
   "cell_type": "markdown",
   "metadata": {},
   "source": [
    "## GPU"
   ]
  },
  {
   "cell_type": "markdown",
   "metadata": {},
   "source": [
    "Import `cupy` instead of `numpy` and you can run on GPUs"
   ]
  },
  {
   "cell_type": "code",
   "execution_count": 20,
   "metadata": {},
   "outputs": [
    {
     "name": "stdout",
     "output_type": "stream",
     "text": [
      "Thu Jul  9 10:16:49 2020       \r\n",
      "+-----------------------------------------------------------------------------+\r\n",
      "| NVIDIA-SMI 440.100      Driver Version: 440.100      CUDA Version: 10.2     |\r\n",
      "|-------------------------------+----------------------+----------------------+\r\n",
      "| GPU  Name        Persistence-M| Bus-Id        Disp.A | Volatile Uncorr. ECC |\r\n",
      "| Fan  Temp  Perf  Pwr:Usage/Cap|         Memory-Usage | GPU-Util  Compute M. |\r\n",
      "|===============================+======================+======================|\r\n",
      "|   0  GeForce RTX 207...  Off  | 00000000:2D:00.0  On |                  N/A |\r\n",
      "|  0%   47C    P8    29W / 215W |    510MiB /  7979MiB |      0%      Default |\r\n",
      "+-------------------------------+----------------------+----------------------+\r\n",
      "                                                                               \r\n",
      "+-----------------------------------------------------------------------------+\r\n",
      "| Processes:                                                       GPU Memory |\r\n",
      "|  GPU       PID   Type   Process name                             Usage      |\r\n",
      "|=============================================================================|\r\n",
      "|    0      1400      G   /usr/lib/xorg/Xorg                            72MiB |\r\n",
      "|    0      1976      G   /usr/lib/xorg/Xorg                           153MiB |\r\n",
      "|    0      2217      G   /usr/bin/gnome-shell                         228MiB |\r\n",
      "|    0      3116      G   ...AAAAAAAAAAAACAAAAAAAAAA= --shared-files    43MiB |\r\n",
      "+-----------------------------------------------------------------------------+\r\n"
     ]
    }
   ],
   "source": [
    "import cupy as cp\n",
    "!nvidia-smi"
   ]
  },
  {
   "cell_type": "markdown",
   "metadata": {},
   "source": [
    "Move arrays to GPU by calling `cp.array`"
   ]
  },
  {
   "cell_type": "code",
   "execution_count": 21,
   "metadata": {},
   "outputs": [],
   "source": [
    "phi_gpu = cp.array(phi)\n",
    "x_gpu = cp.array(x)\n",
    "p_gpu = cp.array(p)\n",
    "q_gpu = cp.array(q)\n",
    "\n",
    "wphi_gpu = cp.array(wphi)\n",
    "wx_gpu = cp.array(wx)\n",
    "wp_gpu = cp.array(wp)"
   ]
  },
  {
   "cell_type": "markdown",
   "metadata": {},
   "source": [
    "The expression wrapper from latex to array also works for GPU arrays"
   ]
  },
  {
   "cell_type": "code",
   "execution_count": 22,
   "metadata": {},
   "outputs": [],
   "source": [
    "tensor_gpu = op(p_gpu, p_gpu, q_gpu, x_gpu, x_gpu, phi_gpu)"
   ]
  },
  {
   "cell_type": "markdown",
   "metadata": {},
   "source": [
    "And most importantly (porting the array back to CPU), they are still the same"
   ]
  },
  {
   "cell_type": "code",
   "execution_count": 23,
   "metadata": {},
   "outputs": [
    {
     "data": {
      "text/plain": [
       "4.607829016736289e-16"
      ]
     },
     "execution_count": 23,
     "metadata": {},
     "output_type": "execute_result"
    }
   ],
   "source": [
    "np.abs(cp.asnumpy(tensor_gpu) - tensor_cpu).mean()"
   ]
  },
  {
   "cell_type": "code",
   "execution_count": 24,
   "metadata": {},
   "outputs": [],
   "source": [
    "poly_gpu = ReducedAngularPolynomial(x, phi, lmax=4, wx=wx_gpu, wphi=wphi_gpu)\n",
    "poly_gpu.x = x_gpu\n",
    "poly_gpu.phi = phi_gpu\n",
    "poly_gpu.matrix = cp.array(poly_gpu.matrix)"
   ]
  },
  {
   "cell_type": "code",
   "execution_count": 25,
   "metadata": {},
   "outputs": [],
   "source": [
    "res_gpu = poly_gpu.integrate(tensor_gpu, mla, max_chunk_size=5)"
   ]
  },
  {
   "cell_type": "code",
   "execution_count": 26,
   "metadata": {},
   "outputs": [
    {
     "name": "stdout",
     "output_type": "stream",
     "text": [
      "Integrated arrays are the same as well\n"
     ]
    }
   ],
   "source": [
    "for key, val in res_gpu.items():\n",
    "    assert np.abs(cp.asnumpy(val) - res[key]).mean() < 1.0e-14\n",
    "\n",
    "print(\"Integrated arrays are the same as well\")"
   ]
  },
  {
   "cell_type": "code",
   "execution_count": 27,
   "metadata": {},
   "outputs": [
    {
     "name": "stdout",
     "output_type": "stream",
     "text": [
      "5.67 ms ± 91.4 µs per loop (mean ± std. dev. of 7 runs, 100 loops each)\n"
     ]
    },
    {
     "data": {
      "text/plain": [
       "1.9311904907226562"
      ]
     },
     "execution_count": 27,
     "metadata": {},
     "output_type": "execute_result"
    }
   ],
   "source": [
    "tensor_gpu = op(p_gpu, p_gpu, q_gpu, x_gpu, x_gpu, phi_gpu)\n",
    "%timeit op(p_gpu, p_gpu, q_gpu, x_gpu, x_gpu, phi_gpu)\n",
    "tensor_gpu.nbytes / 1024 ** 3"
   ]
  },
  {
   "cell_type": "markdown",
   "metadata": {},
   "source": [
    "Compared to 360 ms ± 654 µs per loop  on CPU"
   ]
  },
  {
   "cell_type": "raw",
   "metadata": {},
   "source": [
    "del res_gpu\n",
    "del val"
   ]
  },
  {
   "cell_type": "raw",
   "metadata": {},
   "source": [
    "%timeit poly_gpu.integrate(tensor_gpu, mla, max_chunk_size=1)"
   ]
  },
  {
   "cell_type": "raw",
   "metadata": {},
   "source": [
    "1.31 s ± 28.7 ms per loop (mean ± std. dev. of 7 runs, 10 loops each)"
   ]
  },
  {
   "cell_type": "markdown",
   "metadata": {},
   "source": [
    "Compared to 35.7 s ± 209 ms per loop on CPU"
   ]
  },
  {
   "cell_type": "markdown",
   "metadata": {},
   "source": [
    "## Integration only comparison (no channel mapping)"
   ]
  },
  {
   "cell_type": "raw",
   "metadata": {},
   "source": [
    "%%timeit\n",
    "(\n",
    "    tensor_cpu\n",
    "    * tensor_cpu\n",
    "    * wx.reshape(1, 1, 1, NX, 1, 1)\n",
    "    * wx.reshape(1, 1, 1, 1, NX, 1)\n",
    "    * wphi.reshape(1, 1, 1, 1, 1, NPHI)\n",
    ")"
   ]
  },
  {
   "cell_type": "raw",
   "metadata": {},
   "source": [
    "%timeit\n",
    "(\n",
    "    tensor_gpu\n",
    "    * tensor_gpu\n",
    "    * wx_gpu.reshape(1, 1, 1, NX, 1, 1)\n",
    "    * wx_gpu.reshape(1, 1, 1, 1, NX, 1)\n",
    "    * wphi_gpu.reshape(1, 1, 1, 1, 1, NPHI)\n",
    ")"
   ]
  },
  {
   "cell_type": "code",
   "execution_count": null,
   "metadata": {},
   "outputs": [],
   "source": []
  }
 ],
 "metadata": {
  "kernelspec": {
   "display_name": "numpwd",
   "language": "python",
   "name": "numpwd"
  },
  "language_info": {
   "codemirror_mode": {
    "name": "ipython",
    "version": 3
   },
   "file_extension": ".py",
   "mimetype": "text/x-python",
   "name": "python",
   "nbconvert_exporter": "python",
   "pygments_lexer": "ipython3",
   "version": "3.8.2"
  }
 },
 "nbformat": 4,
 "nbformat_minor": 4
}
