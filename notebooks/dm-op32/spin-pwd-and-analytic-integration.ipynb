{
 "cells": [
  {
   "cell_type": "markdown",
   "metadata": {},
   "source": [
    "# Spin decomposition of operator 32 (part 1): Spin"
   ]
  },
  {
   "cell_type": "markdown",
   "metadata": {},
   "source": [
    "Spin decomposition of operator\n",
    "$$\n",
    "\\mathcal{O}^{(32)} =  \\vec k \\cdot \\sigma_{DM} \\vec k \\cdot \\vec \\sigma_{2}\n",
    "$$\n",
    "where \n",
    "$\\sigma_{DM}$ is a Dark Matter spin operator, $\\sigma_{2}$ is a spin operator acting on the second nucleon and $\\vec k = \\vec p_i - \\vec p_o + \\vec q/2$.\n",
    "\n",
    "The notebook does two things:\n",
    "\n",
    "1. It computes the intermediate results Sachin has provided\n",
    "\n",
    "\\begin{multline}\n",
    "    \\mathcal{O}_{(s_o s_i) m_{\\sigma} m_{DM o} m_{DM i}}(x_i, x_o, \\phi, \\vec q)\n",
    "    =\n",
    "    \\frac{\\left(2 \\sigma + 1\\right)}{2 s_{o} + 1}\n",
    "    \\sum_{m_{s_i} m_{s_o}}\n",
    "    \\left\\langle s_{i} m_{s_i} , \\sigma m_{\\sigma} \\big\\vert s_{o} m_{s_o} \\right\\rangle\n",
    "    \\\\ \\times\n",
    "    \\int_{0}^{2\\pi} d \\Phi\n",
    "    \\left\\langle\n",
    "        s_o m_{s_o}\n",
    "        \\big\\vert\n",
    "            \\mathcal{O}_{DM}(x_i, x_o, \\phi, \\Phi, \\vec q)\n",
    "        \\big\\vert\n",
    "        s_i m_{s_i}\n",
    "    \\right\\rangle\n",
    "    e^{i \\left(\\Phi - \\frac{\\phi}{2}\\right) \\left(m_{\\sigma} - m_{DM i} + m_{DM o}\\right)}\n",
    "\\end{multline}\n",
    "\n",
    "2. It exports the operator used for the angular integrations which slightly differes from this expression as it keeps $m$ quantum numbers uncontracted\n",
    "\n",
    "$$\n",
    "    \\mathcal{O}_{s_o m_{s_o} s_i m_{s_i} m_\\lambda}(x_i, x_o, \\phi, \\vec q)\n",
    "    =\n",
    "    \\int_{0}^{2\\pi} d \\Phi \\exp( - i m_\\lambda \\Phi)\n",
    "    \\left\\langle\n",
    "        s_o m_{s_o}\n",
    "        \\big\\vert\n",
    "            \\mathcal{O}_{DM}(x_i, x_o, \\phi, \\Phi, \\vec q)\n",
    "        \\big\\vert\n",
    "        s_i m_{s_i}\n",
    "    \\right\\rangle\n",
    "$$\n",
    "\n",
    "In both expressions, $x_i = cos(\\theta_i)$ and $\\phi_i$ are the polar and azimuthal angle of momentum $p_i$ (and similarly for $p_o$) and \n",
    "$$\n",
    "    \\Phi = \\frac{\\phi_i + \\phi_o}{2}\\, , \\qquad\n",
    "    \\phi = \\phi_i - \\phi_o\n",
    "$$"
   ]
  },
  {
   "cell_type": "markdown",
   "metadata": {},
   "source": [
    "## Import modules"
   ]
  },
  {
   "cell_type": "code",
   "execution_count": null,
   "metadata": {},
   "outputs": [],
   "source": [
    "from itertools import product\n",
    "\n",
    "from pandas import DataFrame, Series, set_option, read_csv\n",
    "from pandas.testing import assert_frame_equal\n",
    "\n",
    "from sympy import S, Symbol, expand_trig, Function\n",
    "from sympy import exquo, ExactQuotientFailed, ComputationFailed\n",
    "from sympy import latex\n",
    "\n",
    "from numpwd.integrate.analytic import SPHERICAL_BASE_SUBS, ANGLE_BASE_SUBS, integrate\n",
    "from numpwd.qchannels.cg import get_cg\n",
    "from numpwd.qchannels.spin import (\n",
    "    expression_to_matrix,\n",
    "    pauli_contract_subsystem,\n",
    "    dict_to_data,\n",
    ")\n",
    "\n",
    "set_option(\"max_colwidth\", None)"
   ]
  },
  {
   "cell_type": "markdown",
   "metadata": {},
   "source": [
    "## Define the operator in a spin basis"
   ]
  },
  {
   "cell_type": "markdown",
   "metadata": {},
   "source": [
    "This notebook makes uses of Sympy (Symbolic Python) which is Pythons equivalent of Mathematica. Sympy expressions are created with the `S` function and can be conveted to latex using `latex`."
   ]
  },
  {
   "cell_type": "markdown",
   "metadata": {},
   "source": [
    "At first, we construct the nucleon part of the operator. We use the notation `sigma{n}{a}` where `n` indicates which nucleon `sigma` acts on and `a` which pauli matrix the operator corresponds to."
   ]
  },
  {
   "cell_type": "code",
   "execution_count": null,
   "metadata": {},
   "outputs": [],
   "source": [
    "expr = S(\"sigma10 * (sigma21 * k1 + sigma22 * k2 + sigma23 * k3)\")\n",
    "expr"
   ]
  },
  {
   "cell_type": "markdown",
   "metadata": {},
   "source": [
    "We need to specify $\\sigma_{10} = \\mathbb{1}_1$ to indicate that the spin of the first nucleon does not change."
   ]
  },
  {
   "cell_type": "code",
   "execution_count": null,
   "metadata": {},
   "outputs": [],
   "source": [
    "help(expression_to_matrix)"
   ]
  },
  {
   "cell_type": "code",
   "execution_count": null,
   "metadata": {},
   "outputs": [],
   "source": [
    "mat = expression_to_matrix(expr, pauli_symbol=\"sigma\")\n",
    "mat"
   ]
  },
  {
   "cell_type": "markdown",
   "metadata": {},
   "source": [
    "From this, we can also read off the DM matrix element (components where `ms1_out == ms1_in == 1/2`)"
   ]
  },
  {
   "cell_type": "code",
   "execution_count": null,
   "metadata": {},
   "outputs": [],
   "source": [
    "up = S(\"1/2\")\n",
    "dn = -up\n",
    "dm_mat = [\n",
    "    {\"ms_o\": up, \"ms_i\": up, \"val\": S(\"k3\")},\n",
    "    {\"ms_o\": dn, \"ms_i\": dn, \"val\": -S(\"k3\")},\n",
    "    {\"ms_o\": up, \"ms_i\": dn, \"val\": S(\"k1 - I*k2\")},\n",
    "    {\"ms_o\": dn, \"ms_i\": up, \"val\": S(\"k1 + I*k2\")},\n",
    "]\n",
    "dm_df = DataFrame(dm_mat).set_index([\"ms_o\", \"ms_i\"]).sort_index()\n",
    "dm_df"
   ]
  },
  {
   "cell_type": "markdown",
   "metadata": {},
   "source": [
    "Next we can contract the nucleon channels to a spin-0 or spin-1 system"
   ]
  },
  {
   "cell_type": "code",
   "execution_count": null,
   "metadata": {},
   "outputs": [],
   "source": [
    "help(pauli_contract_subsystem)"
   ]
  },
  {
   "cell_type": "code",
   "execution_count": null,
   "metadata": {},
   "outputs": [],
   "source": [
    "mat12 = pauli_contract_subsystem(mat)\n",
    "cols = [\"s_o\", \"ms_o\", \"s_i\", \"ms_i\"]\n",
    "nuc_df = DataFrame(dict_to_data(mat12, columns=cols))\n",
    "nuc_df = nuc_df.set_index(cols).sort_index()\n",
    "nuc_df"
   ]
  },
  {
   "cell_type": "markdown",
   "metadata": {},
   "source": [
    "And finally, we can combine all nucleon channels with all DM channels (note that a few of them will be zero later on)"
   ]
  },
  {
   "cell_type": "code",
   "execution_count": null,
   "metadata": {},
   "outputs": [],
   "source": [
    "def df_outer_product(df1, df2, suffixes=None, reset_index=False):\n",
    "    tmp1 = df1.reset_index() if reset_index else df1.copy()\n",
    "    tmp2 = df2.reset_index() if reset_index else df2.copy()\n",
    "\n",
    "    if suffixes is not None:\n",
    "        tmp1 = tmp1.rename(columns={key: f\"{key}{suffixes[0]}\" for key in tmp1.columns})\n",
    "        tmp2 = tmp2.rename(columns={key: f\"{key}{suffixes[1]}\" for key in tmp2.columns})\n",
    "\n",
    "    data = []\n",
    "    for row1, row2 in product(tmp1.to_dict(\"records\"), tmp2.to_dict(\"records\")):\n",
    "        data.append({**row1, **row2})\n",
    "\n",
    "    return DataFrame(data)"
   ]
  },
  {
   "cell_type": "code",
   "execution_count": null,
   "metadata": {
    "scrolled": false
   },
   "outputs": [],
   "source": [
    "df = df_outer_product(nuc_df, dm_df, suffixes=[\"_nuc\", \"_dm\"], reset_index=True)\n",
    "df[\"val\"] = df[\"val_nuc\"] * df[\"val_dm\"]\n",
    "spin_df = df.set_index(\n",
    "    [\"ms_o_dm\", \"ms_i_dm\", \"s_o_nuc\", \"ms_o_nuc\", \"s_i_nuc\", \"ms_i_nuc\"]\n",
    ").sort_index()[[\"val\"]]\n",
    "print(\"Number of channels:\", spin_df.size)\n",
    "spin_df[\"val\"] == spin_df[\"val\"].apply(lambda expr: expr.expand().simplify())\n",
    "spin_df.reset_index().head()"
   ]
  },
  {
   "cell_type": "raw",
   "metadata": {},
   "source": [
    "spin_df.reset_index().rename(\n",
    "    columns={\n",
    "        \"ms_o_dm\": \"ms_dm_o\",\n",
    "        \"ms_i_dm\": \"ms_dm_i\",\n",
    "        **{\n",
    "            key: key.replace(\"_nuc\", \"\")\n",
    "            for key in spin_df.reset_index().columns\n",
    "            if \"nuc\" in key\n",
    "        },\n",
    "    }\n",
    ").to_csv(\"op32_spin_elements_decomposition.csv\", index=False)"
   ]
  },
  {
   "cell_type": "markdown",
   "metadata": {},
   "source": [
    "## Compare to Sachin's results"
   ]
  },
  {
   "cell_type": "markdown",
   "metadata": {},
   "source": [
    "When combining expressions, they will share the factor"
   ]
  },
  {
   "cell_type": "code",
   "execution_count": null,
   "metadata": {},
   "outputs": [],
   "source": [
    "CG = Function(\"CG\")\n",
    "pwd_fact = CG(\"s_i_nuc\", \"ms_i_nuc\", \"sigma\", \"m_sigma\", \"s_o_nuc\", \"ms_o_nuc\")\n",
    "pwd_fact *= S(\"exp(I*(m_sigma + ms_o_dm - ms_i_dm)*(Phi-phi/2))\")\n",
    "pwd_fact *= (2 * S(\"sigma\") + 1) / (2 * S(\"s_o_nuc\") + 1)\n",
    "pwd_fact"
   ]
  },
  {
   "cell_type": "markdown",
   "metadata": {},
   "source": [
    "The momenta are defined as"
   ]
  },
  {
   "cell_type": "code",
   "execution_count": null,
   "metadata": {},
   "outputs": [],
   "source": [
    "momentum_subs = {f\"k{n}\": f\"q_{n}/2 + p_i{n} - p_o{n}\" for n in [1, 2, 3]}\n",
    "momentum_subs"
   ]
  },
  {
   "cell_type": "markdown",
   "metadata": {},
   "source": [
    "Where we eventually use that $\\vec q = q\\vec e_z$"
   ]
  },
  {
   "cell_type": "code",
   "execution_count": null,
   "metadata": {},
   "outputs": [],
   "source": [
    "qz_subs = {\"q_1\": 0, \"q_2\": 0}\n",
    "qz_subs"
   ]
  },
  {
   "cell_type": "markdown",
   "metadata": {},
   "source": [
    "The angular substitutions are"
   ]
  },
  {
   "cell_type": "code",
   "execution_count": null,
   "metadata": {},
   "outputs": [],
   "source": [
    "SPHERICAL_BASE_SUBS"
   ]
  },
  {
   "cell_type": "code",
   "execution_count": null,
   "metadata": {},
   "outputs": [],
   "source": [
    "ANGLE_BASE_SUBS"
   ]
  },
  {
   "cell_type": "markdown",
   "metadata": {},
   "source": [
    "Which is combined in the below function"
   ]
  },
  {
   "cell_type": "code",
   "execution_count": null,
   "metadata": {},
   "outputs": [],
   "source": [
    "def subs_all(expr):\n",
    "    return (\n",
    "        expr.subs(momentum_subs)\n",
    "        .subs(SPHERICAL_BASE_SUBS)\n",
    "        .subs(ANGLE_BASE_SUBS)\n",
    "        .subs(qz_subs)\n",
    "        .rewrite(\"exp\")\n",
    "        .expand()\n",
    "    )"
   ]
  },
  {
   "cell_type": "markdown",
   "metadata": {},
   "source": [
    "The below code is a little bit tricky:\n",
    "```\n",
    "df.groupby(keys).agg(method)\n",
    "```\n",
    "Corresponds to a for loop structure which collects entries which share the keys and aggreates them using method.\n",
    "For example, grouping by\n",
    "```\n",
    "[\"ms_o_dm\", \"ms_i_dm\", \"s_o_nuc\", \"s_i_nuc\"]\n",
    "```\n",
    "would sum over all `ms_o_nuc`  and `ms_i_nuc`  contributions which have the same other keys.\n",
    "The below code does exactly this sum, multiplying by the above factor and integrating over $\\Phi$."
   ]
  },
  {
   "cell_type": "code",
   "execution_count": null,
   "metadata": {},
   "outputs": [],
   "source": [
    "def op_rank_project(tmp):\n",
    "    data = dict()\n",
    "    # iterate over different ms nuc values\n",
    "    for row in tmp.to_dict(\"records\"):\n",
    "\n",
    "        # run loop over allowed sigma values\n",
    "        sig_min = abs(row[\"s_o_nuc\"] - row[\"s_i_nuc\"])\n",
    "        sig_max = abs(row[\"s_o_nuc\"] + row[\"s_i_nuc\"])\n",
    "        for sigma in range(sig_min, sig_max + 1):\n",
    "            m_sigma = row[\"ms_o_nuc\"] - row[\"ms_i_nuc\"]\n",
    "            if abs(m_sigma) > sigma:\n",
    "                continue\n",
    "\n",
    "            # store results for unique sigma and m_sigma\n",
    "            # s_i, s_o nuc and ms_i ms_o DM are unique by groupby\n",
    "            key = (sigma, m_sigma)\n",
    "            out = data.get(key, S(0))\n",
    "            data[key] = out + row[\"val\"] * pwd_fact.subs(\n",
    "                {**row, \"sigma\": sigma, \"m_sigma\": m_sigma}\n",
    "            ).replace(CG, get_cg)\n",
    "\n",
    "    # Run integrations\n",
    "    for key, val in data.items():\n",
    "        data[key] = integrate(subs_all(val), (\"Phi\", 0, \"2*pi\"))\n",
    "\n",
    "    out = Series(data, name=\"val\")\n",
    "    out.index.names = (\"sigma\", \"m_sigma\")\n",
    "    return out\n",
    "\n",
    "\n",
    "groups = [\"ms_o_dm\", \"ms_i_dm\", \"s_o_nuc\", \"s_i_nuc\"]\n",
    "# run integrations\n",
    "res = spin_df.reset_index().groupby(groups, as_index=True).agg(op_rank_project)\n",
    "\n",
    "index_cols = [\"sigma\", \"m_sigma\", \"ms_o_dm\", \"ms_i_dm\", \"s_o_nuc\", \"s_i_nuc\"]\n",
    "# Drop results which are zero\n",
    "non_zero_res = DataFrame(res[res != 0]).reset_index().set_index(index_cols).sort_index()\n",
    "print(\"Found\", non_zero_res.size, \"non-zero entries\")\n",
    "non_zero_res.head()"
   ]
  },
  {
   "cell_type": "raw",
   "metadata": {},
   "source": [
    "# This code saves results to file \n",
    "non_zero_res.to_csv(\"data/operator-c32-spin-pwd.csv\")\n",
    "read_in = (\n",
    "    read_csv(\"data/operator-c32-spin-pwd.csv\")\n",
    "    .applymap(S)\n",
    "    .set_index(non_zero_res.index.names)\n",
    ")\n",
    "assert_frame_equal(read_in, non_zero_res, check_index_type=False)"
   ]
  },
  {
   "cell_type": "markdown",
   "metadata": {},
   "source": [
    "Let's cross check results"
   ]
  },
  {
   "cell_type": "code",
   "execution_count": null,
   "metadata": {},
   "outputs": [],
   "source": [
    "alpha = S(\"q_3 + 2 * p_i * x_i - 2 * p_o * x_o\")\n",
    "beta1 = S(\"exp(I*phi) * p_i * sqrt(1 - x_i**2) - p_o * sqrt(1 - x_o**2)\")\n",
    "beta2 = S(\"exp(-I*phi) * p_i * sqrt(1 - x_i**2) - p_o * sqrt(1 - x_o**2)\")\n",
    "omega = S(\n",
    "    \"4*p_i**2 *(1-x_i**2) + 4 * p_o**2 * (1-x_o**2) - 8*p_i * p_o * cos(phi) * sqrt(1-x_i**2)*sqrt(1-x_o**2)\"\n",
    ").rewrite(\"exp\")\n",
    "alpha, beta1, beta2"
   ]
  },
  {
   "cell_type": "markdown",
   "metadata": {},
   "source": [
    "Define the \"basis\" for comparison"
   ]
  },
  {
   "cell_type": "code",
   "execution_count": null,
   "metadata": {},
   "outputs": [],
   "source": [
    "quotients = {\n",
    "    S(\"a**2\"): alpha ** 2,\n",
    "    S(\"a*b_1\"): alpha * beta1,\n",
    "    S(\"a*b_2\"): alpha * beta2,\n",
    "    S(\"b_1**2\"): beta1 ** 2,\n",
    "    S(\"b_2**2\"): beta2 ** 2,\n",
    "    S(\"e\"): omega,\n",
    "}"
   ]
  },
  {
   "cell_type": "code",
   "execution_count": null,
   "metadata": {},
   "outputs": [],
   "source": [
    "def decompose(ee):\n",
    "    \"\"\"Tries to identify which terms present in quotients describe the input.\"\"\"\n",
    "    fact = None\n",
    "    mat = None\n",
    "    for k, q in quotients.items():\n",
    "\n",
    "        try:\n",
    "            fact = exquo(ee, q)\n",
    "            mat = k\n",
    "            break\n",
    "        except (ExactQuotientFailed, ComputationFailed):\n",
    "            pass\n",
    "\n",
    "    out = Series([fact, mat], index=[\"fact\", \"mat\"])\n",
    "    return out\n",
    "\n",
    "\n",
    "decomposition = non_zero_res.val.apply(decompose)\n",
    "decomposition.head()"
   ]
  },
  {
   "cell_type": "markdown",
   "metadata": {},
   "source": [
    "Read in Sachin's legacy results for comparison"
   ]
  },
  {
   "cell_type": "code",
   "execution_count": null,
   "metadata": {},
   "outputs": [],
   "source": [
    "legacy = (\n",
    "    read_csv(\"data/input-op-32.csv\")\n",
    "    .rename(\n",
    "        columns={\n",
    "            \"m_chi_p\": \"ms_o_dm\",\n",
    "            \"m_chi\": \"ms_i_dm\",\n",
    "            \"s_p\": \"s_o_nuc\",\n",
    "            \"s\": \"s_i_nuc\",\n",
    "        }\n",
    "    )\n",
    "    .drop(columns=[\"O\", \"m_chi_x2\", \"m_chi_p_x2\"])\n",
    ")\n",
    "legacy[\"ms_o_dm\"] = legacy[\"ms_o_dm\"].apply(S)\n",
    "legacy[\"ms_i_dm\"] = legacy[\"ms_i_dm\"].apply(S)\n",
    "legacy = (\n",
    "    legacy.set_index(decomposition.index.names)\n",
    "    .sort_index()\n",
    "    .applymap(lambda el: S(el.replace(\"Sqrt\", \"sqrt\")))\n",
    ")\n",
    "legacy.head()"
   ]
  },
  {
   "cell_type": "markdown",
   "metadata": {},
   "source": [
    "If both frames would differ, this would raise an error (so nothing happening means they agree)"
   ]
  },
  {
   "cell_type": "code",
   "execution_count": null,
   "metadata": {},
   "outputs": [],
   "source": [
    "assert_frame_equal(legacy, decomposition)"
   ]
  },
  {
   "cell_type": "raw",
   "metadata": {},
   "source": [
    "decomposition.to_csv(\"operator-c32-spin-pwd-decomposed.csv\")"
   ]
  },
  {
   "cell_type": "markdown",
   "metadata": {},
   "source": [
    "## Run export used for angular integration"
   ]
  },
  {
   "cell_type": "markdown",
   "metadata": {},
   "source": [
    "The factor used now is slightly different and instead of summing over $m_s$, we now multiply by different $m_\\lambda$.\n",
    "Generally, the allowed $|m_\\lambda| \\leq \\lambda \\leq 2l_\\max$ can be quite many, however, because the expression has finite powers of $\\exp(i \\Phi)$, only a limited number of terms have non-zero results."
   ]
  },
  {
   "cell_type": "code",
   "execution_count": null,
   "metadata": {},
   "outputs": [],
   "source": [
    "pwd_fact_lambda = S(\"exp(-I*(m_lambda)*Phi)\")\n",
    "pwd_fact_lambda"
   ]
  },
  {
   "cell_type": "code",
   "execution_count": null,
   "metadata": {},
   "outputs": [],
   "source": [
    "def op_rank_project_lambda(tmp):\n",
    "    data = dict()\n",
    "    # sum over ms nuc\n",
    "    for row in tmp.to_dict(\"records\"):\n",
    "        # Save results for unique ms DM, s nuc m_lambda\n",
    "        for m_lambda in range(-2, 2 + 1):\n",
    "            out = data.get(m_lambda, S(0))\n",
    "            data[m_lambda] = out + row[\"val\"] * pwd_fact_lambda.subs(\n",
    "                {**row, \"m_lambda\": m_lambda}\n",
    "            )\n",
    "\n",
    "    # Run angular integrations\n",
    "    for key, val in data.items():\n",
    "        data[key] = integrate(subs_all(val), (\"Phi\", 0, \"2*pi\"))\n",
    "\n",
    "    out = Series(data, name=\"val\")\n",
    "    out.index.name = m_lambda\n",
    "    return out\n",
    "\n",
    "\n",
    "groups = [\"ms_o_dm\", \"ms_i_dm\", \"s_o_nuc\", \"s_i_nuc\", \"ms_o_nuc\", \"ms_i_nuc\"]\n",
    "res_lambda = (\n",
    "    spin_df.reset_index().groupby(groups, as_index=True).agg(op_rank_project_lambda)\n",
    ").stack()\n",
    "res_lambda = DataFrame(res_lambda[res_lambda != 0].sort_index()).rename(\n",
    "    columns={0: \"val\"}\n",
    ")\n",
    "print(\"Found\", res_lambda.size, \"non-zero channels\")\n",
    "res_lambda.index.names = [\n",
    "    \"ms_o_dm\",\n",
    "    \"ms_i_dm\",\n",
    "    \"s_o_nuc\",\n",
    "    \"s_i_nuc\",\n",
    "    \"ms_o_nuc\",\n",
    "    \"ms_i_nuc\",\n",
    "    \"m_lambda\",\n",
    "]\n",
    "res_lambda.head()"
   ]
  },
  {
   "cell_type": "raw",
   "metadata": {},
   "source": [
    "res_lambda.to_csv(\"operator-32-spin-pwd-lambda.csv\")"
   ]
  }
 ],
 "metadata": {
  "kernelspec": {
   "display_name": "numpwd",
   "language": "python",
   "name": "numpwd"
  },
  "language_info": {
   "codemirror_mode": {
    "name": "ipython",
    "version": 3
   },
   "file_extension": ".py",
   "mimetype": "text/x-python",
   "name": "python",
   "nbconvert_exporter": "python",
   "pygments_lexer": "ipython3",
   "version": "3.8.2"
  }
 },
 "nbformat": 4,
 "nbformat_minor": 4
}
