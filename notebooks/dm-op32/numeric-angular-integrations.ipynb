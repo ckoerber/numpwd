{
 "cells": [
  {
   "cell_type": "markdown",
   "metadata": {},
   "source": [
    "# Spin decomposition of operator 32 (part 2): Angular Mometum"
   ]
  },
  {
   "cell_type": "code",
   "execution_count": null,
   "metadata": {},
   "outputs": [],
   "source": []
  },
  {
   "cell_type": "markdown",
   "metadata": {},
   "source": [
    "## Imports"
   ]
  },
  {
   "cell_type": "code",
   "execution_count": null,
   "metadata": {},
   "outputs": [],
   "source": [
    "from itertools import product\n",
    "\n",
    "from pandas import read_csv, Series, DataFrame\n",
    "import numpy as np\n",
    "from sympy import S, Function\n",
    "from numpwd.qchannels.cg import get_cg\n",
    "from numpwd.integrate.angular import ReducedAngularPolynomial, get_x_mesh, get_phi_mesh\n",
    "from numpwd.integrate.numeric import ExpressionMap"
   ]
  },
  {
   "cell_type": "markdown",
   "metadata": {},
   "source": [
    "Read in results exported by part 1"
   ]
  },
  {
   "cell_type": "code",
   "execution_count": null,
   "metadata": {},
   "outputs": [],
   "source": [
    "df = read_csv(\"data/operator-32-spin-pwd-lambda.csv\").applymap(S)\n",
    "df.head()"
   ]
  },
  {
   "cell_type": "markdown",
   "metadata": {},
   "source": [
    "Specify mesh dimensions.\n",
    "Because we know that this matrix element has at most angular momentum components of order `lmax = 2`, the required meshs for exact numerical integrations can be quite small.\n",
    "If the denominator was present, the mesh must be larger to converge."
   ]
  },
  {
   "cell_type": "code",
   "execution_count": null,
   "metadata": {},
   "outputs": [],
   "source": [
    "lmax = 2\n",
    "nx = 3\n",
    "nphi = 7\n",
    "\n",
    "# Value to decide when something is considered exactly zero\n",
    "CUT = 1.0e-8\n",
    "\n",
    "x, wx = get_x_mesh(nx)\n",
    "phi, wphi = get_phi_mesh(nphi)\n",
    "# The contracted Ylms\n",
    "poly = ReducedAngularPolynomial(x, phi, lmax, wx=wx, wphi=wphi)"
   ]
  },
  {
   "cell_type": "markdown",
   "metadata": {},
   "source": [
    "## Run integrations"
   ]
  },
  {
   "cell_type": "code",
   "execution_count": null,
   "metadata": {},
   "outputs": [],
   "source": [
    "sachin_momentum_values = {\"p_i\": 100, \"p_o\": 200, \"q_3\": 300}\n",
    "sachin_momentum_values"
   ]
  },
  {
   "cell_type": "code",
   "execution_count": null,
   "metadata": {},
   "outputs": [],
   "source": [
    "def integrate(row):\n",
    "    mla = row[\"m_lambda\"]\n",
    "    # get the sympy expression\n",
    "    expr = row[\"val\"]\n",
    "    ee = expr.subs(sachin_momentum_values)\n",
    "    # convert the operator expression to a tensor\n",
    "    em = ExpressionMap(ee, (\"x_o\", \"x_i\", \"phi\"))\n",
    "    # find all poly channels which have given mla and integrate against operator\n",
    "    integrated_channels = poly.integrate(em(x, x, phi), mla)\n",
    "    # give proper labels\n",
    "    integrated_channels = Series(integrated_channels, name=\"val\")\n",
    "    integrated_channels.index.names = (\"l_o\", \"l_i\", \"lambda\", \"m_lambda\")\n",
    "    integrated_channels = integrated_channels[np.abs(integrated_channels) > CUT]\n",
    "    # check if imaginary part is zero (fails if not)\n",
    "    assert all(np.abs(integrated_channels.values.imag) < CUT)\n",
    "    # and return only real part\n",
    "    return integrated_channels.apply(lambda el: el.real)\n",
    "\n",
    "row = df.iloc[0]\n",
    "print(row)\n",
    "integrate(row)"
   ]
  },
  {
   "cell_type": "markdown",
   "metadata": {},
   "source": [
    "Run integrations for all entries"
   ]
  },
  {
   "cell_type": "code",
   "execution_count": null,
   "metadata": {},
   "outputs": [],
   "source": [
    "integrated = DataFrame(\n",
    "    df.set_index([\"ms_o_dm\", \"ms_i_dm\", \"s_o_nuc\", \"s_i_nuc\", \"ms_o_nuc\", \"ms_i_nuc\"])\n",
    "    .apply(integrate, axis=1)\n",
    "    .stack(level=[0, 1, 2, 3])\n",
    ").rename(columns={0: \"res\"})\n",
    "\n",
    "integrated.index.rename(\n",
    "    [n.replace(\"_nuc\", \"\") for n in integrated.index.names], inplace=True\n",
    ")\n",
    "integrated"
   ]
  },
  {
   "cell_type": "markdown",
   "metadata": {},
   "source": [
    "## Contract nuclear lsj channels"
   ]
  },
  {
   "cell_type": "markdown",
   "metadata": {},
   "source": [
    "Finally, we have to project the reduced angular polynomial back to the $m_l$ components and use these to contract the $(ls)j$ system.\n",
    "This is done by summing over $\\lambda, m_\\lambda$ and $m_l$ as well as $m_s$."
   ]
  },
  {
   "cell_type": "code",
   "execution_count": null,
   "metadata": {},
   "outputs": [],
   "source": [
    "CG = Function(\"CG\")\n",
    "fact = CG(\"l_o\", \"ml_o\", \"s_o\", \"ms_o\", \"j_o\", \"mj_o\")\n",
    "fact *= CG(\"l_i\", \"ml_i\", \"s_i\", \"ms_i\", \"j_i\", \"mj_i\")\n",
    "fact *= CG(\"l_i\", \"ml_i\", \"la\", \"m_la\", \"l_o\", \"ml_o\")\n",
    "fact"
   ]
  },
  {
   "cell_type": "code",
   "execution_count": null,
   "metadata": {},
   "outputs": [],
   "source": [
    "def get_j_range(j1, j2):\n",
    "    return range(abs(j1 - j2), j1 + j2 + 1)\n",
    "\n",
    "def get_m_range(j):\n",
    "    return range(-j, j + 1)"
   ]
  },
  {
   "cell_type": "code",
   "execution_count": null,
   "metadata": {},
   "outputs": [],
   "source": [
    "def run_pwd(df):\n",
    "\n",
    "    data = dict()\n",
    "    # Sum over lambda and m_lambda\n",
    "    for row in df.to_dict(\"records\"):\n",
    "        ranges = {\n",
    "            \"j_o\": get_j_range(row[\"s_o\"], row[\"l_o\"]),\n",
    "            \"j_i\": get_j_range(row[\"s_i\"], row[\"l_i\"]),\n",
    "            \"ml_o\": get_m_range(row[\"l_o\"]),\n",
    "        }\n",
    "        # sum over all m_s, m_l and collect by j m_j\n",
    "        for vals in product(*ranges.values()):\n",
    "            pars = dict(zip(ranges.keys(), vals))\n",
    "            pars.update(row)\n",
    "            pars[\"m_la\"] = pars.pop(\"m_lambda\")\n",
    "            pars[\"la\"] = pars.pop(\"lambda\")\n",
    "            pars[\"ml_i\"] = pars[\"ml_o\"] - pars[\"m_la\"]\n",
    "            pars[\"mj_i\"] = pars[\"ml_i\"] + pars[\"ms_i\"]\n",
    "            pars[\"mj_o\"] = pars[\"ml_o\"] + pars[\"ms_o\"]\n",
    "            if abs(pars[\"ml_i\"]) > pars[\"l_i\"]:\n",
    "                continue\n",
    "            if abs(pars[\"mj_i\"]) > pars[\"j_i\"]:\n",
    "                continue\n",
    "            if abs(pars[\"mj_o\"]) > pars[\"j_o\"]:\n",
    "                continue\n",
    "\n",
    "            key = (pars[\"j_o\"], pars[\"j_i\"], pars[\"mj_o\"], pars[\"mj_i\"])\n",
    "            tmp = data.get(key, S(0))\n",
    "            data[key] = tmp + float(fact.subs(pars).replace(CG, get_cg)) * row[\"res\"]\n",
    "\n",
    "    out = Series(data, name=\"val\")\n",
    "    out.index.names = (\"j_o\", \"j_i\", \"mj_o\", \"mj_i\")\n",
    "\n",
    "    return out\n",
    "\n",
    "group_keys = [\"ms_o_dm\", \"ms_i_dm\", \"s_o\", \"s_i\", \"l_o\", \"l_i\"]\n",
    "res = DataFrame(integrated.reset_index().groupby(group_keys).agg(run_pwd)).query(\n",
    "    \"val > @CUT or val < -@CUT\"\n",
    ")\n",
    "print(\"Found\", res.size, \"non-zero matrix elements\")\n",
    "res.head()"
   ]
  },
  {
   "cell_type": "markdown",
   "metadata": {
    "scrolled": false
   },
   "source": [
    "Select results with DM spin up and sort differently to simplify comparison with Sachin."
   ]
  },
  {
   "cell_type": "code",
   "execution_count": null,
   "metadata": {},
   "outputs": [],
   "source": [
    "dm_up = (\n",
    "    res.reset_index()\n",
    "    .query(\"ms_o_dm == ms_i_dm == 1/2\")\n",
    "    .set_index(\n",
    "        [\"l_o\", \"l_i\", \"s_o\", \"s_i\", \"j_o\", \"j_i\", \"mj_o\", \"mj_i\", \"ms_o_dm\", \"ms_i_dm\"]\n",
    "    )\n",
    "    .sort_index()\n",
    "    .reset_index()\n",
    ")\n",
    "dm_up.head(20)"
   ]
  },
  {
   "cell_type": "raw",
   "metadata": {},
   "source": [
    "res.to_csv(\"operator-c32-full-pwd.csv\")"
   ]
  }
 ],
 "metadata": {
  "kernelspec": {
   "display_name": "numpwd",
   "language": "python",
   "name": "numpwd"
  },
  "language_info": {
   "codemirror_mode": {
    "name": "ipython",
    "version": 3
   },
   "file_extension": ".py",
   "mimetype": "text/x-python",
   "name": "python",
   "nbconvert_exporter": "python",
   "pygments_lexer": "ipython3",
   "version": "3.8.2"
  }
 },
 "nbformat": 4,
 "nbformat_minor": 4
}
