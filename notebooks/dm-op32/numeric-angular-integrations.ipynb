{
 "cells": [
  {
   "cell_type": "code",
   "execution_count": null,
   "metadata": {},
   "outputs": [],
   "source": [
    "from itertools import product\n",
    "\n",
    "from pandas import read_csv, Series, DataFrame\n",
    "import numpy as np\n",
    "from sympy import S, Function\n",
    "from numpwd.qchannels.cg import get_cg\n",
    "from numpwd.integrate.angular import ReducedAngularPolynomial, get_x_mesh, get_phi_mesh\n",
    "from numpwd.integrate.numeric import ExpressionMap"
   ]
  },
  {
   "cell_type": "code",
   "execution_count": null,
   "metadata": {},
   "outputs": [],
   "source": [
    "df = read_csv(\"data/operator-32-spin-pwd-lambda.csv\").applymap(S)\n",
    "df.head()"
   ]
  },
  {
   "cell_type": "code",
   "execution_count": null,
   "metadata": {},
   "outputs": [],
   "source": [
    "lmax = 2\n",
    "nx = 3\n",
    "nphi = 7\n",
    "\n",
    "CUT = 1.0e-8\n",
    "\n",
    "x, wx = get_x_mesh(nx)\n",
    "phi, wphi = get_phi_mesh(nphi)\n",
    "poly = ReducedAngularPolynomial(x, phi, lmax, wx=wx, wphi=wphi)"
   ]
  },
  {
   "cell_type": "code",
   "execution_count": null,
   "metadata": {},
   "outputs": [],
   "source": [
    "df.head()"
   ]
  },
  {
   "cell_type": "code",
   "execution_count": null,
   "metadata": {},
   "outputs": [],
   "source": [
    "mla, expr = df[[\"m_lambda\", \"val\"]].iloc[0]\n",
    "ee = expr.subs({\"p_i\": 100, \"p_o\": 200, \"q_3\": 300})\n",
    "ee"
   ]
  },
  {
   "cell_type": "code",
   "execution_count": null,
   "metadata": {},
   "outputs": [],
   "source": [
    "def integrate(row):\n",
    "    mla = row[\"m_lambda\"]\n",
    "    expr = row[\"val\"]\n",
    "    ee = expr.subs({\"p_i\": 100, \"p_o\": 200, \"q_3\": 300})\n",
    "    em = ExpressionMap(ee, (\"x_o\", \"x_i\", \"phi\"))\n",
    "    s = Series(poly.integrate(em(x, x, phi), mla), name=\"val\")\n",
    "    s.index.names = (\"l_o\", \"l_i\", \"lambda\", \"m_lambda\")\n",
    "    s = s[np.abs(s) > CUT]\n",
    "    assert all(np.abs(s.values.imag) < CUT)\n",
    "    return s.apply(lambda el: el.real)"
   ]
  },
  {
   "cell_type": "code",
   "execution_count": null,
   "metadata": {},
   "outputs": [],
   "source": [
    "integrated = DataFrame(\n",
    "    df.set_index([\"ms_o_dm\", \"ms_i_dm\", \"s_o_nuc\", \"s_i_nuc\", \"ms_o_nuc\", \"ms_i_nuc\"])\n",
    "    .apply(integrate, axis=1)\n",
    "    .stack(level=[0, 1, 2, 3])\n",
    ").rename(columns={0: \"res\"})\n",
    "# .rename(index=, level=1)\n",
    "integrated.index.rename(\n",
    "    [n.replace(\"_nuc\", \"\") for n in integrated.index.names], inplace=True\n",
    ")\n",
    "integrated"
   ]
  },
  {
   "cell_type": "code",
   "execution_count": null,
   "metadata": {},
   "outputs": [],
   "source": [
    "CG = Function(\"CG\")\n",
    "fact = CG(\"l_o\", \"ml_o\", \"s_o\", \"ms_o\", \"j_o\", \"mj_o\")\n",
    "fact *= CG(\"l_i\", \"ml_i\", \"s_i\", \"ms_i\", \"j_i\", \"mj_i\")\n",
    "fact *= CG(\"l_i\", \"ml_i\", \"la\", \"m_la\", \"l_o\", \"ml_o\")\n",
    "fact"
   ]
  },
  {
   "cell_type": "code",
   "execution_count": null,
   "metadata": {},
   "outputs": [],
   "source": [
    "def get_j_range(j1, j2):\n",
    "    return range(abs(j1 - j2), j1 + j2 + 1)\n",
    "\n",
    "\n",
    "def get_m_range(j):\n",
    "    return range(-j, j + 1)"
   ]
  },
  {
   "cell_type": "code",
   "execution_count": null,
   "metadata": {},
   "outputs": [],
   "source": [
    "def run_pwd(df):\n",
    "\n",
    "    data = dict()\n",
    "    for row in df.to_dict(\"records\"):\n",
    "        ranges = {\n",
    "            \"j_o\": get_j_range(row[\"s_o\"], row[\"l_o\"]),\n",
    "            \"j_i\": get_j_range(row[\"s_i\"], row[\"l_i\"]),\n",
    "            \"ml_o\": get_m_range(row[\"l_o\"]),\n",
    "        }\n",
    "        for vals in product(*ranges.values()):\n",
    "            pars = dict(zip(ranges.keys(), vals))\n",
    "            pars.update(row)\n",
    "            pars[\"m_la\"] = pars.pop(\"m_lambda\")\n",
    "            pars[\"la\"] = pars.pop(\"lambda\")\n",
    "            pars[\"ml_i\"] = pars[\"ml_o\"] - pars[\"m_la\"]\n",
    "            pars[\"mj_i\"] = pars[\"ml_i\"] + pars[\"ms_i\"]\n",
    "            pars[\"mj_o\"] = pars[\"ml_o\"] + pars[\"ms_o\"]\n",
    "            if abs(pars[\"ml_i\"]) > pars[\"l_i\"]:\n",
    "                continue\n",
    "            if abs(pars[\"mj_i\"]) > pars[\"j_i\"]:\n",
    "                continue\n",
    "            if abs(pars[\"mj_o\"]) > pars[\"j_o\"]:\n",
    "                continue\n",
    "\n",
    "            key = (pars[\"j_o\"], pars[\"j_i\"], pars[\"mj_o\"], pars[\"mj_i\"])\n",
    "            tmp = data.get(key, S(0))\n",
    "            data[key] = tmp + float(fact.subs(pars).replace(CG, get_cg)) * row[\"res\"]\n",
    "\n",
    "    out = Series(data, name=\"val\")\n",
    "    out.index.names = (\"j_o\", \"j_i\", \"mj_o\", \"mj_i\")\n",
    "\n",
    "    return out"
   ]
  },
  {
   "cell_type": "code",
   "execution_count": null,
   "metadata": {
    "scrolled": false
   },
   "outputs": [],
   "source": [
    "group_keys = [\"ms_o_dm\", \"ms_i_dm\", \"s_o\", \"s_i\", \"l_o\", \"l_i\"]\n",
    "res = DataFrame(integrated.reset_index().groupby(group_keys).agg(run_pwd)).query(\"val > @CUT or val < -@CUT\")"
   ]
  },
  {
   "cell_type": "code",
   "execution_count": null,
   "metadata": {},
   "outputs": [],
   "source": [
    "dm_up = res.reset_index().query(\"ms_o_dm == ms_i_dm == 1/2\").set_index(\n",
    "    [\"l_o\", \"l_i\", \"s_o\", \"s_i\", \"j_o\", \"j_i\", \"mj_o\", \"mj_i\", \"ms_o_dm\", \"ms_i_dm\"]\n",
    ").sort_index().reset_index()\n",
    "dm_up.head(20)"
   ]
  },
  {
   "cell_type": "raw",
   "metadata": {},
   "source": [
    "res.to_csv(\"operator-c32-full-pwd.csv\")"
   ]
  },
  {
   "cell_type": "code",
   "execution_count": null,
   "metadata": {},
   "outputs": [],
   "source": []
  }
 ],
 "metadata": {
  "kernelspec": {
   "display_name": "numpwd",
   "language": "python",
   "name": "numpwd"
  },
  "language_info": {
   "codemirror_mode": {
    "name": "ipython",
    "version": 3
   },
   "file_extension": ".py",
   "mimetype": "text/x-python",
   "name": "python",
   "nbconvert_exporter": "python",
   "pygments_lexer": "ipython3",
   "version": "3.8.2"
  }
 },
 "nbformat": 4,
 "nbformat_minor": 4
}
