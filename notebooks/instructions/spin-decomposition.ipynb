{
 "cells": [
  {
   "cell_type": "code",
   "execution_count": null,
   "metadata": {},
   "outputs": [],
   "source": [
    "from sympy import S, expand_trig, trigsimp\n",
    "\n",
    "from pandas import DataFrame, set_option, Series\n",
    "\n",
    "from numpwd.qchannels.spin import get_spin_matrix_element, dict_to_data\n",
    "from numpwd.qchannels.lsj import project_op\n",
    "from numpwd.integrate.analytic import SPHERICAL_BASE_SUBS, ANGLE_BASE_SUBS, integrate\n",
    "\n",
    "set_option(\"max_colwidth\", None)"
   ]
  },
  {
   "cell_type": "markdown",
   "metadata": {},
   "source": [
    "This notebook presents how to decompose the expression\n",
    "$$\n",
    "    \\vec \\sigma_1 \\cdot l_1 \\vec \\sigma_2 \\cdot l_2\n",
    "$$\n",
    "onto it's operator ranks $s_o, s_i, \\sigma, m_\\sigma$"
   ]
  },
  {
   "cell_type": "code",
   "execution_count": null,
   "metadata": {},
   "outputs": [],
   "source": [
    "sig1_k1 = S(\"sigma11 * l11 + sigma12  * l12 + sigma13 * l13\")\n",
    "sig2_k2 = S(\"sigma21 * l21 + sigma22  * l22 + sigma23 * l23\")\n",
    "\n",
    "kernel = sig1_k1 * sig2_k2\n",
    "kernel = kernel.subs(\n",
    "    {\"l11\": \"+p_i1 - p_o1\", \"l12\": \"+p_i2 - p_o2\", \"l13\": \"+p_i3 - p_o3 + q/2\"}\n",
    ")\n",
    "kernel = kernel.subs(\n",
    "    {\"l21\": \"-p_i1 + p_o1\", \"l22\": \"-p_i2 + p_o2\", \"l23\": \"-p_i3 + p_o3 + q/2\"}\n",
    ")\n",
    "kernel"
   ]
  },
  {
   "cell_type": "code",
   "execution_count": null,
   "metadata": {},
   "outputs": [],
   "source": [
    "help(get_spin_matrix_element)"
   ]
  },
  {
   "cell_type": "code",
   "execution_count": null,
   "metadata": {},
   "outputs": [],
   "source": [
    "decomposition = get_spin_matrix_element(kernel)\n",
    "decomp_df = (\n",
    "    DataFrame(decomposition).set_index([\"s_o\", \"ms_o\", \"s_i\", \"ms_i\"]).sort_index()\n",
    ")\n",
    "decomp_df"
   ]
  },
  {
   "cell_type": "code",
   "execution_count": null,
   "metadata": {},
   "outputs": [],
   "source": [
    "help(project_op)"
   ]
  },
  {
   "cell_type": "code",
   "execution_count": null,
   "metadata": {},
   "outputs": [],
   "source": [
    "res = project_op(decomposition, \"s_o\", \"s_i\")\n",
    "ddf = DataFrame(dict_to_data(res, columns=[\"s_o\", \"s_i\", \"sigma\", \"m_sigma\"]))\n",
    "ddf.head()"
   ]
  },
  {
   "cell_type": "code",
   "execution_count": null,
   "metadata": {},
   "outputs": [],
   "source": [
    "SPHERICAL_BASE_SUBS"
   ]
  },
  {
   "cell_type": "code",
   "execution_count": null,
   "metadata": {},
   "outputs": [],
   "source": [
    "ANGLE_BASE_SUBS"
   ]
  },
  {
   "cell_type": "code",
   "execution_count": null,
   "metadata": {},
   "outputs": [],
   "source": [
    "def integrate_out_big_phi(row):\n",
    "    \"\"\"Runs angular substiutions, multiplies with m_sigma factor and integrates out big phi\"\"\"\n",
    "    return integrate(\n",
    "        expand_trig(\n",
    "            row[\"val\"].subs(SPHERICAL_BASE_SUBS).subs(ANGLE_BASE_SUBS)\n",
    "            * S(f\"exp(I * {row['m_sigma']} * (Phi - phi /2))\")\n",
    "        ).expand(), (\"Phi\", 0, \"2*pi\")\n",
    "    )"
   ]
  },
  {
   "cell_type": "code",
   "execution_count": null,
   "metadata": {},
   "outputs": [],
   "source": [
    "ddf = DataFrame(dict_to_data(res, columns=[\"s_o\", \"s_i\", \"sigma\", \"m_sigma\"]))\n",
    "ddf[\"res\"] = ddf.apply(integrate_out_big_phi, axis=1)\n",
    "ddf = ddf.set_index([\"s_o\", \"s_i\", \"sigma\", \"m_sigma\"]).sort_index()\n",
    "ddf.head()"
   ]
  },
  {
   "cell_type": "code",
   "execution_count": null,
   "metadata": {},
   "outputs": [],
   "source": [
    "alpha = S(\"p_i**2 + p_o**2 - q**2/4\")\n",
    "beta = S(\"exp(I * phi) * p_i * sqrt(1 - x_i**2) - p_o * sqrt(1 - x_o**2)\")\n",
    "delta = S(\"p_i * x_i - p_o * x_o\")\n",
    "gamma = S(\"p_i * p_o * (x_i * x_o  + cos(phi)* sqrt(1-x_i**2) * sqrt(1-x_o**2))\")\n",
    "q = S(\"q\")\n",
    "pi = S(\"pi\")"
   ]
  },
  {
   "cell_type": "code",
   "execution_count": null,
   "metadata": {},
   "outputs": [],
   "source": [
    "(ddf.loc[(0, 0, 0, 0), \"res\"] - 2 * pi * (alpha - 2 * gamma)).rewrite(\"exp\").expand()"
   ]
  },
  {
   "cell_type": "code",
   "execution_count": null,
   "metadata": {},
   "outputs": [],
   "source": [
    "(ddf.loc[(0, 1, 1, -1), \"res\"] + S(\"sqrt(6)\") * pi * beta * q).rewrite(\"exp\").expand()"
   ]
  },
  {
   "cell_type": "code",
   "execution_count": null,
   "metadata": {},
   "outputs": [],
   "source": []
  }
 ],
 "metadata": {
  "kernelspec": {
   "display_name": "numpwd",
   "language": "python",
   "name": "numpwd"
  },
  "language_info": {
   "codemirror_mode": {
    "name": "ipython",
    "version": 3
   },
   "file_extension": ".py",
   "mimetype": "text/x-python",
   "name": "python",
   "nbconvert_exporter": "python",
   "pygments_lexer": "ipython3",
   "version": "3.8.2"
  }
 },
 "nbformat": 4,
 "nbformat_minor": 4
}
