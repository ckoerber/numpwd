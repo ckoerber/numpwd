{
 "cells": [
  {
   "cell_type": "code",
   "execution_count": null,
   "metadata": {},
   "outputs": [],
   "source": [
    "from itertools import product\n",
    "\n",
    "from scipy.special import sph_harm\n",
    "\n",
    "import numpy as np\n",
    "import pandas as pd\n",
    "\n",
    "from numpwd.integrate.angular import ReducedAngularPolynomial, get_x_mesh, get_phi_mesh\n",
    "\n",
    "pd.set_option(\"display.precision\", 3)"
   ]
  },
  {
   "cell_type": "code",
   "execution_count": null,
   "metadata": {},
   "outputs": [],
   "source": [
    "x, wx = get_x_mesh(10)\n",
    "phi, wphi = get_phi_mesh(20)"
   ]
  },
  {
   "cell_type": "code",
   "execution_count": null,
   "metadata": {},
   "outputs": [],
   "source": [
    "ml = 0\n",
    "l = 0\n",
    "theta = np.arccos(x).reshape([10, 1])\n",
    "yml = sph_harm(ml, l, phi, theta)"
   ]
  },
  {
   "cell_type": "code",
   "execution_count": null,
   "metadata": {},
   "outputs": [],
   "source": [
    "np.sum(yml.conj() * yml * wx.reshape((10, 1)) * wphi)"
   ]
  },
  {
   "cell_type": "markdown",
   "metadata": {},
   "source": [
    "Using the orthnormality of spherical harmonics\n",
    "$$\n",
    "    \\int d x_1 d \\phi_1 Y_{l_a m_a}^*(x_1, \\phi_1) Y_{l_b m_b}(x_1, \\phi_1) = \\delta_{l_a l_b} \\delta_{m_a m_b}\n",
    "$$\n",
    "we have\n",
    "$$\n",
    "    \\int d x_1 d \\phi_1 \\int d x_2 d \\phi_2\n",
    "    Y_{l_{a1} m_{a1}}^*(x_1, \\phi_1) Y_{l_{a2} m_{a2}}(x_2, \\phi_2) \n",
    "    Y_{l_{b1} m_{b1}}(x_1, \\phi_1) Y^*_{l_{b2} m_{b2}}(x_2, \\phi_2)\n",
    "    =\n",
    "    \\delta_{l_{a1} l_{b1}} \\delta_{m_{a1} m_{b1}}\n",
    "    \\delta_{l_{a2} l_{b2}} \\delta_{m_{a2} m_{b2}}\n",
    "$$\n",
    "\n",
    "After projecting onto $a$ operator quantum numbers and refactoring the integral\n",
    "\n",
    "\\begin{multline}\n",
    "    \\frac{2 \\lambda + 1}{2l_{a1} + 1}\n",
    "    \\sum_{m_{a1} m_{a2}}\n",
    "    \\left\\langle l_{a1} m_{a1}, \\lambda m_\\lambda \\vert l_{a2} m_{a2} \\right\\rangle \n",
    "    \\int d x_1 d \\phi_1 \\int d x_2 d \\phi_2\n",
    "    \\\\\n",
    "    \\times \n",
    "    Y_{l_{a1} m_{a1}}^*(x_1, 0) Y_{l_{a2} m_{a2}}(x_2, 0)\n",
    "    \\exp\\left( -i m_{a1} \\phi_1 + i m_{a2} \\phi_2  \\right)\n",
    "    \\\\\n",
    "    \\times \n",
    "    Y_{l_{b1} m_{b1}}(x_1, \\phi_1) Y^*_{l_{b2} m_{b2}}(x_2, \\phi_2)\n",
    "    \\\\\n",
    "    =\n",
    "    \\frac{2 \\lambda + 1}{2l_{b1} + 1}\n",
    "    \\sum_{m_{a1} m_{a2}}\n",
    "    \\left\\langle l_{b1} m_{b1}, \\lambda m_\\lambda \\vert l_{b1} m_{b1} \\right\\rangle\n",
    "    \\delta_{l_{a1} l_{b1}}\n",
    "    \\delta_{l_{a2} l_{b2}}\n",
    "\\end{multline}\n",
    "\n",
    "we find $\\phi_1 = \\Phi - \\phi/2$, $\\phi_2 = \\Phi + \\phi/2$\n",
    "\n",
    "\\begin{multline}\n",
    "    =\n",
    "    \\int d x_1  d x_2 d \\phi\n",
    "    A_{(l_{a2} l_{a1}) \\lambda m_\\lambda}(x_1, x_2, \\phi)\n",
    "    \\int d \\Phi\n",
    "    e^{i m_\\lambda \\Phi}\n",
    "    Y_{l_{b1} m_{b1}}(x_1, 0) Y^*_{l_{b2} m_{b2}}(x_2, 0)\n",
    "    e^{-i (m_{b2} - m_{b1}) \\Phi}\n",
    "    e^{-i \\frac{m_{b2} + m_{b1}}{2} \\phi}\n",
    "    \\\\\n",
    "    =\n",
    "    \\int d x_1  d x_2 d \\phi\n",
    "    A_{(l_{a2} l_{a1}) \\lambda m_\\lambda}(x_1, x_2, \\phi)\n",
    "    2 \\pi \\delta_{m_\\lambda, m_{b2} - m_{b1}}\n",
    "    Y_{l_{b1} m_{b1}}(x_1, 0) Y^*_{l_{b2} m_{b2}}(x_2, 0)\n",
    "    e^{-i \\frac{m_{b2} + m_{b1}}{2} \\phi}\n",
    "    \\\\\n",
    "    =\n",
    "    \\int d x_1  d x_2 d \\phi\n",
    "    A_{(l_{a2} l_{a1}) \\lambda m_\\lambda}(x_1, x_2, \\phi)\n",
    "    O_{(l_{b2} l_{b1}) m_{\\lambda} m_{b1} m_{b2}}(x_1, x_2, \\phi)\n",
    "\\end{multline}\n"
   ]
  },
  {
   "cell_type": "code",
   "execution_count": null,
   "metadata": {},
   "outputs": [],
   "source": [
    "lmax = 2\n",
    "\n",
    "channels = []\n",
    "for lo, li in product(range(lmax + 1), range(lmax + 1)):\n",
    "    for la in range(abs(li - lo), li + lo + 1):\n",
    "        for mla in range(-la, la + 1):\n",
    "            channels.append([lo, li, la, mla])\n",
    "\n",
    "nchannels = len(channels)"
   ]
  },
  {
   "cell_type": "code",
   "execution_count": null,
   "metadata": {},
   "outputs": [],
   "source": [
    "nx = 10\n",
    "nphi = 20\n",
    "\n",
    "matrix = np.zeros(shape=[nchannels, nx, nx, nphi], dtype=np.complex128)\n",
    "\n",
    "x, wx = get_x_mesh(nx)\n",
    "phi, wphi = get_phi_mesh(nphi)\n",
    "\n",
    "e_i_phi = np.exp(1j * phi).reshape([1, 1, nphi]) + matrix[0]\n",
    "\n",
    "pphi = 0\n",
    "theta = np.arccos(x)  # pylint: disable=E1111\n",
    "\n",
    "ylmi = {}\n",
    "ylmo = {}\n",
    "for l in range(lmax + 1):\n",
    "    for ml in range(-l, l + 1):\n",
    "        # WARNING: scipy uses the opposite convention as we use in physics\n",
    "        ##: e.g.: l=n, ml=m, phi=theta [0, 2pi], theta=phi [0, pi]\n",
    "        ## ---> left is physics, right is scipy <---\n",
    "        ## The scipy call structure is thus sph_harm(m, n, theta, phi)\n",
    "        ## which means we want sph_harm(ml, l, phi, theta)\n",
    "        yml = sph_harm(ml, l, pphi, theta)\n",
    "        ylmo[l, ml] = yml.reshape([nx, 1, 1])\n",
    "        ylmi[l, ml] = yml.reshape([1, nx, 1])\n",
    "\n",
    "for idx, (lo, li, la, mla) in enumerate(channels):\n",
    "    for mlo, mli in product(range(-lo, lo + 1), range(-li, li + 1)):\n",
    "        if mli + mla != mlo:\n",
    "            continue\n",
    "\n",
    "        # Note that Y_lm have been computed for phi = 0\n",
    "        ## Since exp(I mla Phi) is in spin element\n",
    "        ## This term only contains (ml_i + ml_o) / 2\n",
    "        matrix[idx] += (\n",
    "            ylmo[lo, mlo] * ylmi[li, mli] * e_i_phi ** (-(mli + mlo) / 2) * 2 * np.pi\n",
    "        )"
   ]
  },
  {
   "cell_type": "code",
   "execution_count": null,
   "metadata": {},
   "outputs": [],
   "source": [
    "ang_poly = ReducedAngularPolynomial(x, phi, lmax, wx=wx, wphi=wphi)"
   ]
  },
  {
   "cell_type": "code",
   "execution_count": null,
   "metadata": {},
   "outputs": [],
   "source": [
    "nca = nco = 0\n",
    "\n",
    "np.sum(\n",
    "    ang_poly.matrix[nca]\n",
    "    * matrix[nco]\n",
    "    * wx.reshape((nx, 1, 1))\n",
    "    * wx.reshape((1, nx, 1))\n",
    "    * wphi.reshape((1, 1, nphi))\n",
    ")"
   ]
  },
  {
   "cell_type": "code",
   "execution_count": null,
   "metadata": {},
   "outputs": [],
   "source": [
    "res = pd.Series(ang_poly.integrate(matrix[nco], mla=0), name=\"val\")\n",
    "res.index.names = [\"lo\", \"li\", \"la\", \"mla\"]\n",
    "pd.DataFrame(res)"
   ]
  },
  {
   "cell_type": "code",
   "execution_count": null,
   "metadata": {},
   "outputs": [],
   "source": []
  }
 ],
 "metadata": {
  "kernelspec": {
   "display_name": "numpwd",
   "language": "python",
   "name": "numpwd"
  },
  "language_info": {
   "codemirror_mode": {
    "name": "ipython",
    "version": 3
   },
   "file_extension": ".py",
   "mimetype": "text/x-python",
   "name": "python",
   "nbconvert_exporter": "python",
   "pygments_lexer": "ipython3",
   "version": "3.8.2"
  }
 },
 "nbformat": 4,
 "nbformat_minor": 4
}
