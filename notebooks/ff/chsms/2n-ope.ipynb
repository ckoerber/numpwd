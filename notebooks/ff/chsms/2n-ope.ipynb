{
 "cells": [
  {
   "cell_type": "markdown",
   "metadata": {},
   "source": [
    "## Load in density"
   ]
  },
  {
   "cell_type": "code",
   "execution_count": null,
   "metadata": {},
   "outputs": [],
   "source": [
    "import os\n",
    "import re\n",
    "from numpwd.densities.h5 import read_h5\n",
    "from pandas import DataFrame"
   ]
  },
  {
   "cell_type": "code",
   "execution_count": null,
   "metadata": {},
   "outputs": [],
   "source": [
    "DATA = os.environ[\"DATA\"]\n",
    "DENS_DIR = os.path.join(DATA, \"4he\", \"chsms\")\n",
    "DENSITIES = [\n",
    "    el\n",
    "    for el in os.listdir(DENS_DIR)\n",
    "    if el.endswith(\".h5\") and \"th=1.80E+02\" in el and \"cut=4\" in el\n",
    "]"
   ]
  },
  {
   "cell_type": "code",
   "execution_count": null,
   "metadata": {},
   "outputs": [],
   "source": [
    "DENSITIES[0]"
   ]
  },
  {
   "cell_type": "code",
   "execution_count": null,
   "metadata": {},
   "outputs": [],
   "source": [
    "patterns = (\n",
    "    r\"compton-dens-(?P<nuc>[0-9A-z]+)\",\n",
    "    r\"\\-(?P<potential>[a-z0-9\\+]+)\",\n",
    "    r\"\\-(?P<order>[a-z0-9\\+]+)\",\n",
    "    r\"\\-cut=(?P<cut>[0-9]+)\",\n",
    "    r\"\\-(?P<empot>[a-zA-Z]+)\",\n",
    "    r\"\\-(?P<cmpi>(?:[a-z0-9]+))\",\n",
    "    r\"\\-Lam=(?P<Lam>(?:[\\.0-9]+))\",\n",
    "    r\"\\-c1=(?P<c1>(?:[\\-\\.0-9]+))\",\n",
    "    r\"\\-c3=(?P<c3>(?:[\\-\\.0-9]+))\",\n",
    "    r\"\\-c4=(?P<c4>(?:[\\-\\.0-9]+))\",\n",
    "    r\"\\-Lamnum=(?P<lambda>(?:[0-9\\.e\\+]+))\",\n",
    "    r\"\\-tnfcut=(?P<tnfcut>(?:[0-9]+))\",\n",
    "    r\"\\-om=(?P<omega>(?:[0-9\\.]+E[\\+\\-][0-9]+))\",\n",
    "    r\"\\-th=(?P<theta>(?:[0-9\\.E\\+]+))\",\n",
    "    r\"\\-nx=(?P<nx>(?:[0-9]+))\",\n",
    "    r\"\\-nphi=(?P<nphi>(?:[0-9]+))\",\n",
    "    r\"\\-np12\\=np34\\=(?P<np12_np34>(?:[0-9\\+]+))\",\n",
    "    r\"\\-np3\\=(?P<np3>(?:[0-9\\+]+))\",\n",
    "    r\"\\-nq4\\=nq=(?P<nq4_nq>(?:[0-9\\+]+))\",\n",
    "    r\"\\-j12max=(?P<j12max>(?:[0-9]+))\",\n",
    "    r\"\\-lmax=(?P<lmax>(?:[0-9]+))\",\n",
    "    r\"\\-lsummax=(?P<lsummax>(?:[0-9]+))\",\n",
    "    r\"\\-tau4max=(?P<tau4max>(?:[0-9]+))\",\n",
    "    r\"\\-rho\\.h5\",\n",
    ")\n",
    "ppat = \"\"\n",
    "data = None\n",
    "for pat in patterns:\n",
    "    ppat += pat\n",
    "    match = re.search(ppat, DENSITIES[0])\n",
    "    if not match:\n",
    "        print(data)\n",
    "        raise ValueError(ppat)\n",
    "    else:\n",
    "        data = match.groupdict()"
   ]
  },
  {
   "cell_type": "code",
   "execution_count": null,
   "metadata": {},
   "outputs": [],
   "source": [
    "pattern = re.compile(\"\".join(patterns))\n",
    "pattern.search(DENSITIES[0]).groupdict()"
   ]
  },
  {
   "cell_type": "code",
   "execution_count": null,
   "metadata": {},
   "outputs": [],
   "source": [
    "dtypes = {\n",
    "    int: [\"nx\", \"nphi\", \"j12max\", \"lmax\", \"lsummax\", \"tau4max\", \"cut\"],\n",
    "    float: [\"lambda\", \"omega\", \"theta\", \"c1\", \"c3\", \"c4\", \"Lam\"],\n",
    "}\n",
    "\n",
    "densities = DataFrame([pattern.search(el).groupdict() for el in DENSITIES])\n",
    "for dtype, cols in dtypes.items():\n",
    "    for col in cols:\n",
    "        densities[col] = densities[col].astype(dtype)\n",
    "\n",
    "densities[\"file\"] = DENSITIES\n",
    "\n",
    "densities = densities.sort_values(\"omega\").reset_index(drop=True)\n",
    "densities.drop(columns=[\"file\"]).head()"
   ]
  },
  {
   "cell_type": "code",
   "execution_count": null,
   "metadata": {},
   "outputs": [],
   "source": [
    "filename = DENSITIES[0]\n",
    "dens = read_h5(os.path.join(DENS_DIR, filename))\n",
    "dens"
   ]
  },
  {
   "cell_type": "code",
   "execution_count": null,
   "metadata": {},
   "outputs": [],
   "source": [
    "HBARC = 197.327"
   ]
  },
  {
   "cell_type": "markdown",
   "metadata": {},
   "source": [
    "## Convert to operator format"
   ]
  },
  {
   "cell_type": "code",
   "execution_count": null,
   "metadata": {},
   "outputs": [],
   "source": [
    "from numpwd.operators.h5 import read, H5_VALUE_PREP\n",
    "from numpwd.integrate.numeric import ExpressionMap\n",
    "from numpwd.convolution.channels import get_channel_overlap_indices\n",
    "import numpy as np\n",
    "from numpwd.utils.h5io import get_dsets, write_data, H5ValuePrep, read_data\n",
    "from h5py import File as H5File\n",
    "import pandas as pd"
   ]
  },
  {
   "cell_type": "code",
   "execution_count": null,
   "metadata": {},
   "outputs": [],
   "source": [
    "ope1 = read(\"../ope1.h5\")\n",
    "ope2 = read(\"../ope2.h5\")"
   ]
  },
  {
   "cell_type": "code",
   "execution_count": null,
   "metadata": {},
   "outputs": [],
   "source": [
    "ope1.isospin = ope1.isospin.set_index([\"t_o\", \"mt_o\", \"t_i\", \"mt_i\"])\n",
    "ope1.channels = DataFrame(\n",
    "    ope1.channels, columns=[\"l_o\", \"l_i\", \"s_o\", \"s_i\", \"j_o\", \"j_i\", \"mj_o\", \"mj_i\"]\n",
    ")"
   ]
  },
  {
   "cell_type": "code",
   "execution_count": null,
   "metadata": {},
   "outputs": [],
   "source": [
    "ope2.isospin = ope2.isospin.set_index([\"t_o\", \"mt_o\", \"t_i\", \"mt_i\"])\n",
    "ope2.channels = DataFrame(\n",
    "    ope2.channels, columns=[\"l_o\", \"l_i\", \"s_o\", \"s_i\", \"j_o\", \"j_i\", \"mj_o\", \"mj_i\"]\n",
    ")"
   ]
  },
  {
   "cell_type": "code",
   "execution_count": null,
   "metadata": {},
   "outputs": [],
   "source": [
    "def convolute(data):\n",
    "    filename = data[\"file\"]\n",
    "    dens = read_h5(os.path.join(DENS_DIR, filename))\n",
    "\n",
    "    p2wp = dens.p ** 2 * dens.wp\n",
    "    weight = p2wp.reshape(-1, 1) * p2wp\n",
    "\n",
    "    res = {}\n",
    "    for key, op in {\"ope1\": ope1, \"ope2\": ope2}.items():\n",
    "        idx_q = np.argmin(np.abs(dens.current_info[\"qval\"] - op.args[2][1]))\n",
    "        np.testing.assert_allclose(dens.p, op.args[0][1])     \n",
    "\n",
    "        isospin = (\n",
    "            pd.merge(\n",
    "                dens.channels,\n",
    "                op.isospin.reset_index(),\n",
    "                how=\"left\",\n",
    "                on=op.isospin.index.names,\n",
    "            )[\"expr\"]\n",
    "            .fillna(0)\n",
    "            .values.reshape(len(dens.channels), 1, 1)\n",
    "        )\n",
    "\n",
    "        idx_dens, idx_op = get_channel_overlap_indices(dens.channels, op.channels)\n",
    "        res[key] = np.sum(\n",
    "            (isospin * dens.matrix)[idx_dens] * op.matrix[idx_op, :, :, idx_q] * weight\n",
    "        )\n",
    "\n",
    "    return pd.Series(res)"
   ]
  },
  {
   "cell_type": "code",
   "execution_count": null,
   "metadata": {},
   "outputs": [],
   "source": [
    "convolute(densities.iloc[4])"
   ]
  },
  {
   "cell_type": "code",
   "execution_count": null,
   "metadata": {},
   "outputs": [],
   "source": [
    "result = densities.copy()\n",
    "result[\"q\"] = result[\"omega\"] / HBARC * 2\n",
    "result = result.join(result.apply(convolute, axis=1))\n",
    "rres = result[[\"q\", \"ope1\", \"ope2\"]]\n",
    "rres"
   ]
  },
  {
   "cell_type": "markdown",
   "metadata": {},
   "source": [
    "## Present result"
   ]
  },
  {
   "cell_type": "code",
   "execution_count": null,
   "metadata": {},
   "outputs": [],
   "source": [
    "import seaborn as sns\n",
    "import matplotlib.pylab as plt"
   ]
  },
  {
   "cell_type": "code",
   "execution_count": null,
   "metadata": {},
   "outputs": [],
   "source": [
    "densities.drop(columns=[\"omega\", \"file\"]).describe(include=\"O\").T"
   ]
  },
  {
   "cell_type": "code",
   "execution_count": null,
   "metadata": {},
   "outputs": [],
   "source": [
    "densities.drop(columns=[\"omega\", \"file\"]).describe(\n",
    "    include=[np.number], percentiles=[]\n",
    ").T[[\"mean\"]]"
   ]
  },
  {
   "cell_type": "code",
   "execution_count": null,
   "metadata": {
    "scrolled": false
   },
   "outputs": [],
   "source": [
    "fig, ax = plt.subplots(figsize=(3, 2), dpi=200)\n",
    "\n",
    "tmp = (\n",
    "    rres.set_index(\"q\")\n",
    "    .stack()\n",
    "    .reset_index()\n",
    "    .rename(columns={\"level_1\": \"kind\", 0: \"val\"})\n",
    ")\n",
    "\n",
    "sns.lineplot(\n",
    "    data=tmp,\n",
    "    x=\"q\",\n",
    "    y=\"val\",\n",
    "    hue=\"kind\",\n",
    "    ax=ax,\n",
    "    ls=\"--\",\n",
    "    lw=1,\n",
    "    marker=\"o\",\n",
    "    ms=4,\n",
    "    legend=\"brief\",\n",
    ")\n",
    "\n",
    "ax.legend(loc=\"best\", fontsize=4, frameon=False)\n",
    "ax.set_ylabel(r\"$\\left\\langle O_{2N}(\\Lambda) \\right\\rangle$ [fm$^{-5}$]\")\n",
    "ax.set_xlabel(r\"$q$ [fm$^{-1}$]\")\n",
    "\n",
    "sns.despine()\n",
    "\n",
    "plt.show()"
   ]
  },
  {
   "cell_type": "code",
   "execution_count": null,
   "metadata": {},
   "outputs": [],
   "source": [
    "fig.savefig(\"ope1.pdf\", bbox_inches=\"tight\")"
   ]
  },
  {
   "cell_type": "code",
   "execution_count": null,
   "metadata": {},
   "outputs": [],
   "source": []
  }
 ],
 "metadata": {
  "kernelspec": {
   "display_name": "numpwd",
   "language": "python",
   "name": "numpwd"
  },
  "language_info": {
   "codemirror_mode": {
    "name": "ipython",
    "version": 3
   },
   "file_extension": ".py",
   "mimetype": "text/x-python",
   "name": "python",
   "nbconvert_exporter": "python",
   "pygments_lexer": "ipython3",
   "version": "3.8.2"
  }
 },
 "nbformat": 4,
 "nbformat_minor": 4
}
