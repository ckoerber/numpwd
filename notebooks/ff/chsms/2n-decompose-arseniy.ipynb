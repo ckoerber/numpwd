{
 "cells": [
  {
   "cell_type": "code",
   "execution_count": null,
   "metadata": {},
   "outputs": [],
   "source": [
    "from sympy import sympify, limit, oo"
   ]
  },
  {
   "cell_type": "raw",
   "metadata": {},
   "source": [
    "import re\n",
    "\n",
    "subs = {\n",
    "    \"pijpr\": \"p_o\",\n",
    "    \"pij\": \"p_i\",\n",
    "    r\"\\\\\\[Pi\\]\": \"pi\",\n",
    "    r\"\\^\": \"**\",\n",
    "    r\"\\n\": \" \",\n",
    "    \" \": \" * \",\n",
    "    r\"\\\\\\[CapitalLambda\\]\": \"L\",\n",
    "    r\"Sqrt\\[2\\]\": \"sqrt(2)\",\n",
    "}\n",
    "\n",
    "tmp = s.strip()\n",
    "for sub, pat in subs.items():\n",
    "    tmp = re.sub(sub, pat, tmp)\n",
    "\n",
    "print(tmp)\n",
    "str(sympify(tmp).subs({\"khalf\": \"k/2\"}))"
   ]
  },
  {
   "cell_type": "markdown",
   "metadata": {},
   "source": [
    "This is the `1s0 -> 1s0` and `3s1 -> 3s1`  transition"
   ]
  },
  {
   "cell_type": "code",
   "execution_count": null,
   "metadata": {},
   "outputs": [],
   "source": [
    "ss = \"\"\"\n",
    "L ** 2 * (L ** 2 + k ** 2 / 4 - k * p_o - p_i ** 2 + p_o ** 2) * exp(\n",
    "    -(p_i ** 2 + (k / 2 - p_o) ** 2) / L ** 2\n",
    ") / (pi ** 2 * k * p_o) - L ** 2 * (\n",
    "    L ** 2 + k ** 2 / 4 + k * p_o - p_i ** 2 + p_o ** 2\n",
    ") * exp(\n",
    "    -(p_i ** 2 + (k / 2 + p_o) ** 2) / L ** 2\n",
    ") / (\n",
    "    pi ** 2 * k * p_o\n",
    ") + L ** 2 * (\n",
    "    L ** 2 + k ** 2 / 4 - k * p_i + p_i ** 2 - p_o ** 2\n",
    ") * exp(\n",
    "    2 * k * p_i / L ** 2 - (p_o ** 2 + (k / 2 + p_i) ** 2) / L ** 2\n",
    ") / (\n",
    "    pi ** 2 * k * p_i\n",
    ") - L ** 2 * (\n",
    "    L ** 2 + k ** 2 / 4 + k * p_i + p_i ** 2 - p_o ** 2\n",
    ") * exp(\n",
    "    -(p_o ** 2 + (k / 2 + p_i) ** 2) / L ** 2\n",
    ") / (\n",
    "    pi ** 2 * k * p_i\n",
    ")\n",
    "\"\"\"\n",
    "ss = sympify(ss)"
   ]
  },
  {
   "cell_type": "code",
   "execution_count": null,
   "metadata": {},
   "outputs": [],
   "source": [
    "ss"
   ]
  },
  {
   "cell_type": "code",
   "execution_count": null,
   "metadata": {},
   "outputs": [],
   "source": [
    "limit(ss, \"L\", oo)"
   ]
  },
  {
   "cell_type": "markdown",
   "metadata": {},
   "source": [
    "This is the `3s1 -> 3d1` transition Apparently needs a factor of two from `d->s`."
   ]
  },
  {
   "cell_type": "code",
   "execution_count": null,
   "metadata": {},
   "outputs": [],
   "source": [
    "sd = \"\"\"\n",
    "2 * sqrt(2) * L ** 2 * p_o ** 2 * exp(-(p_o ** 2 + (k / 2 + p_i) ** 2) / L ** 2) / (\n",
    "    3 * pi ** 2 * k * p_i\n",
    ") - 2 * sqrt(2) * L ** 2 * p_o ** 2 * exp(-(p_o ** 2 + (k / 2 - p_i) ** 2) / L ** 2) / (\n",
    "    3 * pi ** 2 * k * p_i\n",
    ") + (\n",
    "    -sqrt(2) * L ** 6 / (2 * pi ** 2 * k * p_o ** 3)\n",
    "    - sqrt(2) * L ** 4 / (2 * pi ** 2 * p_o ** 2)\n",
    "    - 2 * sqrt(2) * L ** 4 / (3 * pi ** 2 * k * p_o)\n",
    "    - sqrt(2) * L ** 2 * k / (6 * pi ** 2 * p_o)\n",
    "    - 2 * sqrt(2) * L ** 2 / (3 * pi ** 2)\n",
    "    - 2 * sqrt(2) * L ** 2 * p_o / (3 * pi ** 2 * k)\n",
    ") * exp(\n",
    "    -(p_i ** 2 + (k / 2 + p_o) ** 2) / L ** 2\n",
    ") + (\n",
    "    sqrt(2) * L ** 6 / (2 * pi ** 2 * k * p_o ** 3)\n",
    "    - sqrt(2) * L ** 4 / (2 * pi ** 2 * p_o ** 2)\n",
    "    + 2 * sqrt(2) * L ** 4 / (3 * pi ** 2 * k * p_o)\n",
    "    + sqrt(2) * L ** 2 * k / (6 * pi ** 2 * p_o)\n",
    "    - 2 * sqrt(2) * L ** 2 / (3 * pi ** 2)\n",
    "    + 2 * sqrt(2) * L ** 2 * p_o / (3 * pi ** 2 * k)\n",
    ") * exp(\n",
    "    -(p_i ** 2 + (k / 2 - p_o) ** 2) / L ** 2\n",
    ")\n",
    "\"\"\"\n",
    "sd = sympify(sd)"
   ]
  },
  {
   "cell_type": "code",
   "execution_count": null,
   "metadata": {},
   "outputs": [],
   "source": [
    "ds = sd.subs({\"p_i\": \"p_o\", \"p_o\": \"p_i\"}) * 2"
   ]
  },
  {
   "cell_type": "code",
   "execution_count": null,
   "metadata": {},
   "outputs": [],
   "source": [
    "str(ds)"
   ]
  },
  {
   "cell_type": "code",
   "execution_count": null,
   "metadata": {},
   "outputs": [],
   "source": [
    "sd.simplify()"
   ]
  },
  {
   "cell_type": "code",
   "execution_count": null,
   "metadata": {},
   "outputs": [],
   "source": [
    "limit(sd, \"L\", oo)"
   ]
  },
  {
   "cell_type": "code",
   "execution_count": null,
   "metadata": {},
   "outputs": [],
   "source": [
    "from numpwd.qchannels.lsj import get_two_n_channels, generate_matrix_channels\n",
    "from pandas import DataFrame"
   ]
  },
  {
   "cell_type": "code",
   "execution_count": null,
   "metadata": {},
   "outputs": [],
   "source": [
    "channels = DataFrame(get_two_n_channels(l_max=2, s_max=1))\n",
    "allowed = {\n",
    "    \"1s0\": \"s==l==j==0\",\n",
    "    \"3s1\": \"(s==j==1 and l==0)\",\n",
    "    \"3d1\": \"(s==j==1 and l==2)\",\n",
    "}\n",
    "\n",
    "channels = channels.query(\" or \".join(allowed.values())).reset_index()\n",
    "channels"
   ]
  },
  {
   "cell_type": "code",
   "execution_count": null,
   "metadata": {},
   "outputs": [],
   "source": [
    "allowed_transitions = [\n",
    "    lambda ci, co: ci[\"ml\"] == co[\"ml\"]\n",
    "    and ci[\"ms\"] == co[\"ms\"]\n",
    "    and ci[\"mj\"] == co[\"mj\"]\n",
    "    and ci[\"j\"] == co[\"j\"]\n",
    "    and ci[\"s\"] == co[\"s\"]\n",
    "    and ci[\"l\"] in [0, 2]\n",
    "    and co[\"l\"] in [0, 2]\n",
    "    and not (ci[\"l\"] == co[\"l\"] == 2)\n",
    "]\n",
    "op_channels = (\n",
    "    DataFrame(\n",
    "        list(\n",
    "            generate_matrix_channels(\n",
    "                channels.to_dict(\"records\"), allowed_transitions=allowed_transitions\n",
    "            )\n",
    "        )\n",
    "    )\n",
    "    .drop(\n",
    "        columns=[\"cg_o\", \"cg_i\", \"index_o\", \"index_i\", \"ml_o\", \"ml_i\", \"ms_o\", \"ms_i\"]\n",
    "    )\n",
    "    .groupby([\"l_o\", \"s_i\", \"j_i\", \"l_i\", \"s_o\", \"j_o\", \"mj_i\", \"mj_o\"])\n",
    "    .sum()\n",
    "    .reset_index()\n",
    ")\n",
    "print(op_channels)"
   ]
  },
  {
   "cell_type": "markdown",
   "metadata": {},
   "source": [
    "## Load in density"
   ]
  },
  {
   "cell_type": "code",
   "execution_count": null,
   "metadata": {},
   "outputs": [],
   "source": [
    "import os\n",
    "import re\n",
    "from numpwd.densities.h5 import read_h5"
   ]
  },
  {
   "cell_type": "code",
   "execution_count": null,
   "metadata": {},
   "outputs": [],
   "source": [
    "DATA = os.environ[\"DATA\"]\n",
    "DENS_DIR = os.path.join(DATA, \"4he\", \"chsms\")\n",
    "DENSITIES = [\n",
    "    el\n",
    "    for el in os.listdir(DENS_DIR)\n",
    "    if el.endswith(\".h5\") and \"th=1.80E+02\" in el and \"cut=4\" in el\n",
    "]"
   ]
  },
  {
   "cell_type": "code",
   "execution_count": null,
   "metadata": {},
   "outputs": [],
   "source": [
    "DENSITIES[0]"
   ]
  },
  {
   "cell_type": "code",
   "execution_count": null,
   "metadata": {},
   "outputs": [],
   "source": [
    "patterns = (\n",
    "    r\"compton-dens-(?P<nuc>[0-9A-z]+)\",\n",
    "    r\"\\-(?P<potential>[a-z0-9\\+]+)\",\n",
    "    r\"\\-(?P<order>[a-z0-9\\+]+)\",\n",
    "    r\"\\-cut=(?P<cut>[0-9]+)\",\n",
    "    r\"\\-(?P<empot>[a-zA-Z]+)\",\n",
    "    r\"\\-(?P<cmpi>(?:[a-z0-9]+))\",\n",
    "    r\"\\-Lam=(?P<Lam>(?:[\\.0-9]+))\",\n",
    "    r\"\\-c1=(?P<c1>(?:[\\-\\.0-9]+))\",\n",
    "    r\"\\-c3=(?P<c3>(?:[\\-\\.0-9]+))\",\n",
    "    r\"\\-c4=(?P<c4>(?:[\\-\\.0-9]+))\",\n",
    "    r\"\\-Lamnum=(?P<lambda>(?:[0-9\\.e\\+]+))\",\n",
    "    r\"\\-tnfcut=(?P<tnfcut>(?:[0-9]+))\",\n",
    "    r\"\\-om=(?P<omega>(?:[0-9\\.]+E[\\+\\-][0-9]+))\",\n",
    "    r\"\\-th=(?P<theta>(?:[0-9\\.E\\+]+))\",\n",
    "    r\"\\-nx=(?P<nx>(?:[0-9]+))\",\n",
    "    r\"\\-nphi=(?P<nphi>(?:[0-9]+))\",\n",
    "    r\"\\-np12\\=np34\\=(?P<np12_np34>(?:[0-9\\+]+))\",\n",
    "    r\"\\-np3\\=(?P<np3>(?:[0-9\\+]+))\",\n",
    "    r\"\\-nq4\\=nq=(?P<nq4_nq>(?:[0-9\\+]+))\",\n",
    "    r\"\\-j12max=(?P<j12max>(?:[0-9]+))\",\n",
    "    r\"\\-lmax=(?P<lmax>(?:[0-9]+))\",\n",
    "    r\"\\-lsummax=(?P<lsummax>(?:[0-9]+))\",\n",
    "    r\"\\-tau4max=(?P<tau4max>(?:[0-9]+))\",\n",
    "    r\"\\-rho\\.h5\",\n",
    ")\n",
    "ppat = \"\"\n",
    "data = None\n",
    "for pat in patterns:\n",
    "    ppat += pat\n",
    "    match = re.search(ppat, DENSITIES[0])\n",
    "    if not match:\n",
    "        print(data)\n",
    "        raise ValueError(ppat)\n",
    "    else:\n",
    "        data = match.groupdict()"
   ]
  },
  {
   "cell_type": "code",
   "execution_count": null,
   "metadata": {},
   "outputs": [],
   "source": [
    "pattern = re.compile(\"\".join(patterns))\n",
    "pattern.search(DENSITIES[0]).groupdict()"
   ]
  },
  {
   "cell_type": "code",
   "execution_count": null,
   "metadata": {},
   "outputs": [],
   "source": [
    "dtypes = {\n",
    "    int: [\"nx\", \"nphi\", \"j12max\", \"lmax\", \"lsummax\", \"tau4max\", \"cut\"],\n",
    "    float: [\"lambda\", \"omega\", \"theta\", \"c1\", \"c3\", \"c4\", \"Lam\"],\n",
    "}\n",
    "\n",
    "densities = DataFrame([pattern.search(el).groupdict() for el in DENSITIES])\n",
    "for dtype, cols in dtypes.items():\n",
    "    for col in cols:\n",
    "        densities[col] = densities[col].astype(dtype)\n",
    "\n",
    "densities[\"file\"] = DENSITIES\n",
    "\n",
    "densities = densities.sort_values(\"omega\").reset_index(drop=True)\n",
    "densities.drop(columns=[\"file\"]).head()"
   ]
  },
  {
   "cell_type": "code",
   "execution_count": null,
   "metadata": {},
   "outputs": [],
   "source": [
    "filename = DENSITIES[0]\n",
    "dens = read_h5(os.path.join(DENS_DIR, filename))\n",
    "dens"
   ]
  },
  {
   "cell_type": "code",
   "execution_count": null,
   "metadata": {},
   "outputs": [],
   "source": [
    "HBARC = 197"
   ]
  },
  {
   "cell_type": "markdown",
   "metadata": {},
   "source": [
    "## Convert to operator format"
   ]
  },
  {
   "cell_type": "code",
   "execution_count": null,
   "metadata": {},
   "outputs": [],
   "source": [
    "from numpwd.operators.base import Operator\n",
    "from numpwd.integrate.numeric import ExpressionMap\n",
    "from numpwd.convolution.channels import get_channel_overlap_indices\n",
    "import numpy as np"
   ]
  },
  {
   "cell_type": "code",
   "execution_count": null,
   "metadata": {},
   "outputs": [],
   "source": [
    "def allocate_matrix(mss, msd, mds, op_channels):\n",
    "    matrix = []\n",
    "    for _, channel in op_channels.iterrows():\n",
    "        lo = \"s\" if channel[\"l_o\"] == 0 else \"d\"\n",
    "        li = \"s\" if channel[\"l_i\"] == 0 else \"d\"\n",
    "        so = str(2 * channel[\"s_o\"] + 1)\n",
    "        si = str(2 * channel[\"s_i\"] + 1)\n",
    "        jo = str(channel[\"j_o\"])\n",
    "        ji = str(channel[\"j_i\"])\n",
    "\n",
    "        ci = si + li + ji\n",
    "        co = so + lo + jo\n",
    "\n",
    "        if ci == co == \"1s0\" or ci == co == \"3s1\":\n",
    "            matrix.append(mss * float(channel[\"cg\"]))\n",
    "        elif ci == \"3s1\" and co == \"3d1\":\n",
    "            matrix.append(msd * float(channel[\"cg\"]))\n",
    "        elif ci == \"3d1\" and co == \"3s1\":\n",
    "            matrix.append(mds * float(channel[\"cg\"]))\n",
    "        else:\n",
    "            raise ValueError(f\"ci={ci}, co={co}\")\n",
    "\n",
    "    return np.array(matrix)"
   ]
  },
  {
   "cell_type": "code",
   "execution_count": null,
   "metadata": {},
   "outputs": [],
   "source": [
    "def allocate_op(mss, msd, mds, op_channels, p):\n",
    "    op = Operator()\n",
    "    op.channels = op_channels.drop(columns=\"cg\")\n",
    "    op.args = [(\"p_o\", p), (\"p_i\", p)]\n",
    "    op.isospin = {(0, 0, 0, 0): 1, (1, 1, 1, 1): 1, (1, 0, 1, 0): 1, (1, -1, 1, -1): 1}\n",
    "    op.matrix = allocate_matrix(mss, msd, mds, op_channels)\n",
    "    op.misc[\"pwd type\"] = \"analytic\"\n",
    "    op.check()\n",
    "    return op"
   ]
  },
  {
   "cell_type": "code",
   "execution_count": null,
   "metadata": {},
   "outputs": [],
   "source": [
    "def convolute(data):\n",
    "    filename = data[\"file\"]\n",
    "    dens = read_h5(os.path.join(DENS_DIR, filename))\n",
    "    p = dens.p\n",
    "    q = dens.current_info[\"qval\"] + 1.0e-7\n",
    "    cutoff = data[\"Lam\"] / HBARC\n",
    "\n",
    "    fcn_ss = ExpressionMap(ss.subs({\"L\": cutoff, \"k\": q}), [\"p_o\", \"p_i\"])\n",
    "    fcn_sd = ExpressionMap(sd.subs({\"L\": cutoff, \"k\": q}), [\"p_o\", \"p_i\"])\n",
    "    fcn_ds = ExpressionMap(ds.subs({\"L\": cutoff, \"k\": q}), [\"p_o\", \"p_i\"])\n",
    "\n",
    "    matrix_ss = fcn_ss(p, p)\n",
    "    matrix_sd = fcn_sd(p, p)\n",
    "    matrix_ds = fcn_ds(p, p)\n",
    "\n",
    "    op = allocate_op(matrix_ss, matrix_sd, matrix_ds, op_channels, p)\n",
    "    op.misc[\"Lam\"] = data[\"Lam\"]\n",
    "    op.misc[\"q\"] = q\n",
    "\n",
    "    idx_dens, idx_op = get_channel_overlap_indices(dens.channels, op.channels)\n",
    "    p2wp = dens.p ** 2 * dens.wp\n",
    "    weight = p2wp.reshape(-1, 1) * p2wp\n",
    "\n",
    "    return np.sum(dens.matrix[idx_dens] * op.matrix[idx_op] * weight)"
   ]
  },
  {
   "cell_type": "code",
   "execution_count": null,
   "metadata": {},
   "outputs": [],
   "source": [
    "result = densities.copy()\n",
    "result[\"q\"] = result[\"omega\"] / HBARC * 2\n",
    "result[\"nme\"] = result.apply(convolute, axis=1)"
   ]
  },
  {
   "cell_type": "markdown",
   "metadata": {},
   "source": [
    "## Present result"
   ]
  },
  {
   "cell_type": "code",
   "execution_count": null,
   "metadata": {},
   "outputs": [],
   "source": [
    "import seaborn as sns\n",
    "import matplotlib.pylab as plt"
   ]
  },
  {
   "cell_type": "code",
   "execution_count": null,
   "metadata": {},
   "outputs": [],
   "source": [
    "densities.drop(columns=[\"omega\", \"file\"]).describe(include=\"O\").T"
   ]
  },
  {
   "cell_type": "code",
   "execution_count": null,
   "metadata": {},
   "outputs": [],
   "source": [
    "densities.drop(columns=[\"omega\", \"file\"]).describe(\n",
    "    include=[np.number], percentiles=[]\n",
    ").T[[\"mean\"]]"
   ]
  },
  {
   "cell_type": "code",
   "execution_count": null,
   "metadata": {},
   "outputs": [],
   "source": [
    "fig, ax = plt.subplots(figsize=(3, 2), dpi=200)\n",
    "\n",
    "result[[\"q\", \"nme\"]].plot(\n",
    "    x=\"q\", y=\"nme\", ax=ax, ls=\"--\", lw=1, marker=\"o\", ms=4, legend=False\n",
    ")\n",
    "\n",
    "ax.set_ylabel(r\"$\\left\\langle O_{2N}(\\Lambda) \\right\\rangle$\")\n",
    "ax.set_xlabel(r\"$q$ [fm$^{-1}$]\")\n",
    "\n",
    "sns.despine()\n",
    "\n",
    "plt.show()"
   ]
  },
  {
   "cell_type": "code",
   "execution_count": null,
   "metadata": {},
   "outputs": [],
   "source": [
    "print(result[[\"q\", \"nme\"]])"
   ]
  },
  {
   "cell_type": "code",
   "execution_count": null,
   "metadata": {},
   "outputs": [],
   "source": [
    "fig.savefig(\"2ncontact.pdf\", bbox_inches=\"tight\")"
   ]
  },
  {
   "cell_type": "code",
   "execution_count": null,
   "metadata": {},
   "outputs": [],
   "source": []
  }
 ],
 "metadata": {
  "kernelspec": {
   "display_name": "numpwd",
   "language": "python",
   "name": "numpwd"
  },
  "language_info": {
   "codemirror_mode": {
    "name": "ipython",
    "version": 3
   },
   "file_extension": ".py",
   "mimetype": "text/x-python",
   "name": "python",
   "nbconvert_exporter": "python",
   "pygments_lexer": "ipython3",
   "version": "3.8.2"
  }
 },
 "nbformat": 4,
 "nbformat_minor": 4
}
