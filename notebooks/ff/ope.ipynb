{
 "cells": [
  {
   "cell_type": "markdown",
   "metadata": {},
   "source": [
    "# Partial wave decomposition of One-Pion Exchange Diagram\n",
    "\n",
    "See also https://arxiv.org/src/1911.04877v2/anc/supplemental.pdf"
   ]
  },
  {
   "cell_type": "markdown",
   "metadata": {},
   "source": [
    "## Define matrix element"
   ]
  },
  {
   "cell_type": "code",
   "execution_count": null,
   "metadata": {},
   "outputs": [],
   "source": [
    "from sympy import symbols, solve, sympify, Symbol\n",
    "from sympy.physics.vector import ReferenceFrame\n",
    "import numpy as np"
   ]
  },
  {
   "cell_type": "code",
   "execution_count": null,
   "metadata": {},
   "outputs": [],
   "source": [
    "eqs = (\n",
    "    \"p12i - p1i + p2i\",\n",
    "    \"p12o - p1o + p2o\",\n",
    "    \"P12i - p1i - p2i - k\",\n",
    "    \"P12o - p1o - p2o\",\n",
    ")\n",
    "mc = {\"P12o\": \"P12i\"}\n",
    "subs = solve(eqs, \"p1i\", \"p2i\", \"p1o\", \"p2o\")\n",
    "\n",
    "mom_subs = {\n",
    "    \"q1\": sympify(\"p1o - p1i\").subs(subs).subs(mc),\n",
    "    \"q2\": sympify(\"p2o - p2i\").subs(subs).subs(mc),\n",
    "}\n",
    "\n",
    "print(mom_subs)"
   ]
  },
  {
   "cell_type": "code",
   "execution_count": null,
   "metadata": {},
   "outputs": [],
   "source": [
    "m_pi = symbols(\"m_pi\")"
   ]
  },
  {
   "cell_type": "code",
   "execution_count": null,
   "metadata": {},
   "outputs": [],
   "source": [
    "N = ReferenceFrame(\"N\")\n",
    "\n",
    "sigma1 = np.dot(symbols(\"sigma11 sigma12 sigma13\"), [N.x, N.y, N.z])\n",
    "sigma2 = np.dot(symbols(\"sigma21 sigma22 sigma23\"), [N.x, N.y, N.z])\n",
    "\n",
    "q = Symbol(\"q\") * N.z\n",
    "p12i = np.dot(symbols(\"p_i1 p_i2 p_i3\"), [N.x, N.y, N.z])\n",
    "p12o = np.dot(symbols(\"p_o1 p_o2 p_o3\"), [N.x, N.y, N.z])\n",
    "\n",
    "q1 = q / 2 - p12i / 2 + p12o / 2\n",
    "q2 = q / 2 + p12i / 2 - p12o / 2"
   ]
  },
  {
   "cell_type": "code",
   "execution_count": null,
   "metadata": {},
   "outputs": [],
   "source": [
    "fact = sympify(\"3 * g_A ** 2 / 16 / f_pi ** 2 / m_N\")"
   ]
  },
  {
   "cell_type": "code",
   "execution_count": null,
   "metadata": {},
   "outputs": [],
   "source": [
    "ope1 = sigma1.dot(q) * sigma2.dot(q2) / (q2.dot(q2) + m_pi ** 2)\n",
    "ope1 += ope1.subs({\"q21\": \"q11\", \"q22\": \"q12\", \"q23\": \"q13\"})\n",
    "ope1 *= fact\n",
    "ope1"
   ]
  },
  {
   "cell_type": "code",
   "execution_count": null,
   "metadata": {},
   "outputs": [],
   "source": [
    "ope2 = sigma1.dot(q2) * sigma2.dot(q2) * q2.dot(q) / (q2.dot(q2) + m_pi ** 2) ** 2\n",
    "ope2 += ope2.subs({\"q21\": \"q11\", \"q22\": \"q12\", \"q23\": \"q13\"})\n",
    "ope2 *= fact\n",
    "ope2"
   ]
  },
  {
   "cell_type": "markdown",
   "metadata": {},
   "source": [
    "## Partial wave decomposition"
   ]
  },
  {
   "cell_type": "code",
   "execution_count": null,
   "metadata": {},
   "outputs": [],
   "source": [
    "from numpwd.integrate.analytic import SPHERICAL_BASE_SUBS, ANGLE_BASE_SUBS\n",
    "from numpwd.operators.expression import decompose_operator\n",
    "from yaml import dump"
   ]
  },
  {
   "cell_type": "code",
   "execution_count": null,
   "metadata": {},
   "outputs": [],
   "source": [
    "HBARC = 197.327\n",
    "constants = dict(m_N=938.918 / HBARC, g_A=1.29, m_pi=138.03 / HBARC, f_pi=92.4 / HBARC)"
   ]
  },
  {
   "cell_type": "code",
   "execution_count": null,
   "metadata": {},
   "outputs": [],
   "source": [
    "import os\n",
    "from numpwd.densities.h5 import read_h5\n",
    "import re\n",
    "\n",
    "DATA = os.environ[\"DATA\"]\n",
    "DENS_DIR = os.path.join(DATA, \"4he\", \"chsms\")\n",
    "DENSITIES = [\n",
    "    el\n",
    "    for el in os.listdir(DENS_DIR)\n",
    "    if el.endswith(\".h5\") and \"th=1.80E+02\" in el and \"cut=4\" in el\n",
    "]\n",
    "\n",
    "f = DENSITIES[0]\n",
    "dens = read_h5(os.path.join(DENS_DIR, f))\n",
    "\n",
    "pattern = r\"\\-om=([0-9\\.]+E[\\+\\-][0-9]+)\"\n",
    "omega = np.sort([float(re.search(pattern, f).group(1)) for f in DENSITIES])\n",
    "q = omega / HBARC * 2"
   ]
  },
  {
   "cell_type": "code",
   "execution_count": null,
   "metadata": {},
   "outputs": [],
   "source": [
    "ope_expr1 = ope1.subs(SPHERICAL_BASE_SUBS).subs(ANGLE_BASE_SUBS).simplify()"
   ]
  },
  {
   "cell_type": "code",
   "execution_count": null,
   "metadata": {},
   "outputs": [],
   "source": [
    "isospin_expression = sympify(\"tau10 * tau20\")\n",
    "args = [[\"p_o\", dens.p.tolist()], [\"p_i\", dens.p.tolist()], [\"q\", q.tolist()]]\n",
    "substitutions = [\n",
    "    SPHERICAL_BASE_SUBS,\n",
    "    ANGLE_BASE_SUBS,\n",
    "    constants,\n",
    "]\n",
    "spin_decomposition_kwargs = {}\n",
    "integration_kwargs = {\n",
    "    \"nx\": 10,\n",
    "    \"nphi\": 16,\n",
    "    \"lmax\": 5,\n",
    "    \"numeric_zero\": 1.0e-8,\n",
    "    \"m_lambda_max\": None,\n",
    "}"
   ]
  },
  {
   "cell_type": "code",
   "execution_count": null,
   "metadata": {},
   "outputs": [],
   "source": [
    "ope1_kwargs = dict(\n",
    "    spin_momentum_expression=str(ope1),\n",
    "    isospin_expression=str(isospin_expression),\n",
    "    args=args,\n",
    "    substitutions=substitutions,\n",
    "    spin_decomposition_kwargs=spin_decomposition_kwargs,\n",
    "    integration_kwargs=integration_kwargs,\n",
    "    misc={\n",
    "        \"op-name\": \"one-pion exchange 1\",\n",
    "        \"momentum-mesh\": {\n",
    "            \"meshtype\": \"TRNS\",\n",
    "            \"n1\": 28,\n",
    "            \"n2\": 8,\n",
    "            \"ntot\": 36,\n",
    "            \"p1\": 1.0,\n",
    "            \"p2\": 7.0,\n",
    "            \"p3\": 20.0,\n",
    "        },\n",
    "    },\n",
    ")\n",
    "\n",
    "with open(\"ope1.yml\", \"w\") as out:\n",
    "    dump(ope1_kwargs, out)"
   ]
  },
  {
   "cell_type": "code",
   "execution_count": null,
   "metadata": {},
   "outputs": [],
   "source": [
    "ope2_kwargs = ope1_kwargs.copy()\n",
    "ope2_kwargs[\"spin_momentum_expression\"] = str(ope2)\n",
    "\n",
    "with open(\"ope2.yml\", \"w\") as out:\n",
    "    dump(ope2_kwargs, out)"
   ]
  },
  {
   "cell_type": "code",
   "execution_count": null,
   "metadata": {},
   "outputs": [],
   "source": [
    "op_ope1 = decompose_operator(**ope1_kwargs)"
   ]
  },
  {
   "cell_type": "code",
   "execution_count": null,
   "metadata": {},
   "outputs": [],
   "source": []
  }
 ],
 "metadata": {
  "kernelspec": {
   "display_name": "numpwd",
   "language": "python",
   "name": "numpwd"
  },
  "language_info": {
   "codemirror_mode": {
    "name": "ipython",
    "version": 3
   },
   "file_extension": ".py",
   "mimetype": "text/x-python",
   "name": "python",
   "nbconvert_exporter": "python",
   "pygments_lexer": "ipython3",
   "version": "3.8.2"
  }
 },
 "nbformat": 4,
 "nbformat_minor": 4
}
