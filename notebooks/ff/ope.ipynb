{
 "cells": [
  {
   "cell_type": "code",
   "execution_count": null,
   "metadata": {},
   "outputs": [],
   "source": [
    "from sympy import symbols, solve, sympify, Symbol\n",
    "from sympy.physics.vector import ReferenceFrame\n",
    "import numpy as np\n",
    "\n",
    "from numpwd.integrate.analytic import SPHERICAL_BASE_SUBS, ANGLE_BASE_SUBS"
   ]
  },
  {
   "cell_type": "code",
   "execution_count": null,
   "metadata": {},
   "outputs": [],
   "source": [
    "eqs = (\n",
    "    \"p12i - p1i + p2i\",\n",
    "    \"p12o - p1o + p2o\",\n",
    "    \"P12i - p1i - p2i - k\",\n",
    "    \"P12o - p1o - p2o\",\n",
    "    \n",
    ")\n",
    "mc = {\"P12o\": \"P12i\"}\n",
    "subs = solve(eqs, \"p1i\", \"p2i\", \"p1o\" ,\"p2o\")\n",
    "\n",
    "mom_subs = {\n",
    "    \"q1\": sympify(\"p1o - p1i\").subs(subs).subs(mc),\n",
    "    \"q2\": sympify(\"p2o - p2i\").subs(subs).subs(mc)\n",
    "}\n",
    "\n",
    "print(mom_subs)"
   ]
  },
  {
   "cell_type": "code",
   "execution_count": null,
   "metadata": {},
   "outputs": [],
   "source": [
    "m_pi = symbols(\"m_pi\")\n",
    "\n",
    "s10, s11, s12, s13 = symbols(\"simga_10 sigma_11 sigma_12 sigma_13\")\n",
    "s20, s21, s22, s23 = symbols(\"simga_20 sigma_21 sigma_22 sigma_23\")"
   ]
  },
  {
   "cell_type": "code",
   "execution_count": null,
   "metadata": {},
   "outputs": [],
   "source": [
    "N = ReferenceFrame(\"N\")\n",
    "\n",
    "sigma1 = np.dot(symbols(\"sigma_11 sigma_12 sigma_13\"), [N.x, N.y, N.z])\n",
    "sigma2 = np.dot(symbols(\"sigma_21 sigma_22 sigma_23\"), [N.x, N.y, N.z])\n",
    "\n",
    "k = Symbol(\"k\") * N.z\n",
    "p12i = np.dot(symbols(\"p_i1 p_i2 p_i3\"), [N.x, N.y, N.z])\n",
    "p12o = np.dot(symbols(\"p_o1 p_o2 p_o3\"), [N.x, N.y, N.z])\n",
    "\n",
    "q1 = k/2 - p12i/2 + p12o/2\n",
    "q2 = k/2 + p12i/2 - p12o/2"
   ]
  },
  {
   "cell_type": "code",
   "execution_count": null,
   "metadata": {},
   "outputs": [],
   "source": [
    "ope1 = sigma1.dot(k) * sigma2.dot(q2) / (q2.dot(q2) + m_pi**2)\n",
    "ope1 += ope1.subs({\"q21\": \"q11\", \"q22\": \"q12\", \"q23\": \"q13\"})\n",
    "ope1"
   ]
  },
  {
   "cell_type": "code",
   "execution_count": null,
   "metadata": {},
   "outputs": [],
   "source": [
    "ope2 = sigma1.dot(q2) * sigma2.dot(q2) * q2.dot(k) / (q2.dot(q2) + m_pi**2)**2\n",
    "ope2 += ope2.subs({\"q21\": \"q11\", \"q22\": \"q12\", \"q23\": \"q13\"})\n",
    "ope2"
   ]
  },
  {
   "cell_type": "code",
   "execution_count": null,
   "metadata": {},
   "outputs": [],
   "source": [
    "ope1.subs(SPHERICAL_BASE_SUBS).subs(ANGLE_BASE_SUBS).simplify()"
   ]
  },
  {
   "cell_type": "code",
   "execution_count": null,
   "metadata": {},
   "outputs": [],
   "source": [
    "ope2.subs(SPHERICAL_BASE_SUBS).subs(ANGLE_BASE_SUBS).simplify()"
   ]
  },
  {
   "cell_type": "code",
   "execution_count": null,
   "metadata": {},
   "outputs": [],
   "source": []
  }
 ],
 "metadata": {
  "kernelspec": {
   "display_name": "numpwd",
   "language": "python",
   "name": "numpwd"
  },
  "language_info": {
   "codemirror_mode": {
    "name": "ipython",
    "version": 3
   },
   "file_extension": ".py",
   "mimetype": "text/x-python",
   "name": "python",
   "nbconvert_exporter": "python",
   "pygments_lexer": "ipython3",
   "version": "3.8.2"
  }
 },
 "nbformat": 4,
 "nbformat_minor": 4
}
