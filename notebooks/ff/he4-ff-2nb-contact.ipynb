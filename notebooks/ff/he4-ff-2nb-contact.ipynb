{
 "cells": [
  {
   "cell_type": "code",
   "execution_count": null,
   "metadata": {},
   "outputs": [],
   "source": [
    "from numpwd.integrate.numeric import ExpressionMap\n",
    "from numpwd.densities.h5 import read_h5\n",
    "from numpwd.operators.base import Operator\n",
    "from numpwd.convolution.channels import get_channel_overlap_indices\n",
    "\n",
    "from pandas import DataFrame\n",
    "import pandas as pd\n",
    "\n",
    "from sympy import sympify\n",
    "import numpy as np\n",
    "import os"
   ]
  },
  {
   "cell_type": "markdown",
   "metadata": {},
   "source": [
    "## Read density"
   ]
  },
  {
   "cell_type": "code",
   "execution_count": null,
   "metadata": {},
   "outputs": [],
   "source": [
    "DATA = os.path.join(os.environ[\"HOME\"], \"data\", \"nuc\", \"4he\", \"av18\")\n",
    "f = \"compton-dens-4he-av18-empot-no3nf-om=0.00E+00-th=1.80E+02-nx=16-nphi=16-np12=np34=28+8-np3=36+8-nq4=nq=36+6-j12max=5-lmax=6-lsummax=14-tau4max=0-rho.h5\""
   ]
  },
  {
   "cell_type": "code",
   "execution_count": null,
   "metadata": {},
   "outputs": [],
   "source": [
    "dens = read_h5(os.path.join(DATA, f))"
   ]
  },
  {
   "cell_type": "code",
   "execution_count": null,
   "metadata": {},
   "outputs": [],
   "source": [
    "dens.channels"
   ]
  },
  {
   "cell_type": "markdown",
   "metadata": {},
   "source": [
    "This is a pure contact interaction. So $l_i = l_o = 0$"
   ]
  },
  {
   "cell_type": "markdown",
   "metadata": {},
   "source": [
    "## Operator A"
   ]
  },
  {
   "cell_type": "code",
   "execution_count": null,
   "metadata": {},
   "outputs": [],
   "source": [
    "def get_contact_frame(dens):\n",
    "    id_dens = dens.channels.query(\n",
    "        \"mj_o == mj_i and l_o == l_i == 0 and s_o == s_i and j_o == j_i and t_o == t_i and mt_o == mt_i\"\n",
    "    ).index\n",
    "    weight = dens.p ** 2 * dens.wp\n",
    "    weight = weight.reshape(1, len(weight), 1) * weight.reshape(1, 1, len(weight))\n",
    "    channel_res = np.sum(dens.matrix[id_dens] * weight, axis=(1, 2))\n",
    "    df = dens.channels.copy().loc[id_dens]\n",
    "    df[\"res\"] = channel_res\n",
    "    return df"
   ]
  },
  {
   "cell_type": "code",
   "execution_count": null,
   "metadata": {},
   "outputs": [],
   "source": [
    "df = get_contact_frame(dens)\n",
    "df.head()"
   ]
  },
  {
   "cell_type": "code",
   "execution_count": null,
   "metadata": {},
   "outputs": [],
   "source": [
    "def op_a(df, k2):\n",
    "    return df[\"res\"].sum() * k2\n",
    "\n",
    "\n",
    "op_a(df, 1)"
   ]
  },
  {
   "cell_type": "code",
   "execution_count": null,
   "metadata": {},
   "outputs": [],
   "source": [
    "def op_b(df, k2):\n",
    "    out = 0\n",
    "    grouped = df.groupby(\"s_o\")\n",
    "    for so, group in grouped:\n",
    "        out += group[\"res\"].sum() * k2 * (-3 if so == 0 else 1)\n",
    "    return out\n",
    "\n",
    "\n",
    "op_b(df, 1)"
   ]
  },
  {
   "cell_type": "markdown",
   "metadata": {},
   "source": [
    "The c factor is effectively\n",
    "$$ (-1)^{m_s + 1} $$\n",
    "\n",
    "Thus the $(ls)jm_j$ contraction becomes\n",
    "$$\n",
    "    \\sum_{m_l m_s}\n",
    "    < l m_l, s m_s | j m_j>\n",
    "    < l m_l, s m_s | j' m_j'> (-1)^{m_s +1}\n",
    "$$\n",
    "$$\n",
    "    -\\delta_{j j'}\\delta_{m_j m_j'}\\delta_{s 0}\n",
    "    +\\delta_{s 1}\n",
    "    \\left(\\sum_{m_l m_s}\n",
    "    < l m_l, 1 m_s | j m_j>\n",
    "    < l m_l, 1 m_s | j' m_j'>\n",
    "    -2\n",
    "    < l m_j, 1 0 | j m_j>\n",
    "    < l m_j, 1 0 | j' m_j>\\right)\n",
    "$$\n",
    "and using that $l=0$\n",
    "$$\n",
    "    < 0 0, 1 0 | j 0>\n",
    "    =\n",
    "    \\delta_{j1}\n",
    "$$"
   ]
  },
  {
   "cell_type": "code",
   "execution_count": null,
   "metadata": {},
   "outputs": [],
   "source": [
    "def op_c(df, k2):\n",
    "    out = 0\n",
    "    grouped = df.groupby([\"s_o\", \"mj_o\"])\n",
    "    for (s, mj), group in grouped:\n",
    "        if s == 0:\n",
    "            fact = -1\n",
    "        elif s == 1 and mj != 0:\n",
    "            fact = 1\n",
    "        elif s == 1 and mj == 0:\n",
    "            fact = -1\n",
    "        out += group[\"res\"].sum() * k2 * fact\n",
    "    return out\n",
    "\n",
    "\n",
    "op_c(df, 1)"
   ]
  },
  {
   "cell_type": "code",
   "execution_count": null,
   "metadata": {},
   "outputs": [],
   "source": []
  }
 ],
 "metadata": {
  "kernelspec": {
   "display_name": "numpwd",
   "language": "python",
   "name": "numpwd"
  },
  "language_info": {
   "codemirror_mode": {
    "name": "ipython",
    "version": 3
   },
   "file_extension": ".py",
   "mimetype": "text/x-python",
   "name": "python",
   "nbconvert_exporter": "python",
   "pygments_lexer": "ipython3",
   "version": "3.8.2"
  }
 },
 "nbformat": 4,
 "nbformat_minor": 4
}
