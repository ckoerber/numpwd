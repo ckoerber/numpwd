{
 "cells": [
  {
   "cell_type": "markdown",
   "metadata": {},
   "source": [
    "## Spin Orbit"
   ]
  },
  {
   "cell_type": "code",
   "execution_count": null,
   "metadata": {},
   "outputs": [],
   "source": [
    "from sympy import sympify\n",
    "import numpy as np\n",
    "from numpwd.qchannels.spin import expression_to_matrix_spin_half\n",
    "from pandas import Series, DataFrame"
   ]
  },
  {
   "cell_type": "code",
   "execution_count": null,
   "metadata": {},
   "outputs": [],
   "source": [
    "y1p1 = sympify(\"-1/2 * sqrt(3/2/pi) * (x + I*y)/r\")\n",
    "y10 = sympify(\"1/2 * sqrt(3/pi) * z/r\")\n",
    "y1m1 = sympify(\"1/2 * sqrt(3/2/pi) * (x - I*y)/r\")"
   ]
  },
  {
   "cell_type": "code",
   "execution_count": null,
   "metadata": {},
   "outputs": [],
   "source": [
    "xx = (y1p1 - y1m1) * sympify(\"r\")\n",
    "yy = (y1p1 + y1m1) * sympify(\"r\")\n",
    "zz = (y10) * sympify(\"r\")\n",
    "\n",
    "x_fact = (xx / sympify(\"x\")).simplify()\n",
    "y_fact = (yy / sympify(\"y\")).simplify()\n",
    "z_fact = (zz / sympify(\"z\")).simplify()\n",
    "\n",
    "print(\n",
    "    (xx / x_fact).simplify(), (yy / y_fact).simplify(), (zz / z_fact).simplify(),\n",
    ")"
   ]
  },
  {
   "cell_type": "code",
   "execution_count": null,
   "metadata": {},
   "outputs": [],
   "source": [
    "k = [\n",
    "    sympify(\"y(1,1) - y(1,-1)\") / x_fact * sympify(\"k\"),\n",
    "    sympify(\"y(1,1) + y(1,-1)\") / y_fact * sympify(\"k\"),\n",
    "    sympify(\"y(1,0)\") / z_fact * sympify(\"k\"),\n",
    "]\n",
    "q = [0, 0, sympify(\"q\")]\n",
    "sigma = [sympify(f\"sigma_1{n}\") for n in range(1, 4)]"
   ]
  },
  {
   "cell_type": "code",
   "execution_count": null,
   "metadata": {},
   "outputs": [],
   "source": [
    "expr = np.dot(sigma, np.cross(q, k)).expand().simplify()\n",
    "expr"
   ]
  },
  {
   "cell_type": "code",
   "execution_count": null,
   "metadata": {},
   "outputs": [],
   "source": [
    "res = expression_to_matrix_spin_half(expr, pauli_label=\"_1\")\n",
    "s = (\n",
    "    Series(res)\n",
    "    .reset_index()\n",
    "    .rename(columns={\"level_0\": \"ms_o\", \"level_1\": \"ms_i\", 0: \"res\"})\n",
    "    .set_index([\"ms_o\", \"ms_i\"])\n",
    ")\n",
    "s / sympify(\"sqrt(4*pi/3)*k\")"
   ]
  },
  {
   "cell_type": "code",
   "execution_count": null,
   "metadata": {},
   "outputs": [],
   "source": []
  }
 ],
 "metadata": {
  "kernelspec": {
   "display_name": "numpwd",
   "language": "python",
   "name": "numpwd"
  },
  "language_info": {
   "codemirror_mode": {
    "name": "ipython",
    "version": 3
   },
   "file_extension": ".py",
   "mimetype": "text/x-python",
   "name": "python",
   "nbconvert_exporter": "python",
   "pygments_lexer": "ipython3",
   "version": "3.8.2"
  }
 },
 "nbformat": 4,
 "nbformat_minor": 4
}
