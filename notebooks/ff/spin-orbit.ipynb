{
 "cells": [
  {
   "cell_type": "markdown",
   "metadata": {},
   "source": [
    "## Spin Orbit"
   ]
  },
  {
   "cell_type": "code",
   "execution_count": 11,
   "metadata": {},
   "outputs": [],
   "source": [
    "from sympy import sympify\n",
    "import numpy as np\n",
    "from numpwd.qchannels.spin import expression_to_matrix_spin_half"
   ]
  },
  {
   "cell_type": "code",
   "execution_count": 5,
   "metadata": {},
   "outputs": [],
   "source": [
    "y1p1 = sympify(\"-1/2 * sqrt(3/2/pi) * (x + I*y)/r\")\n",
    "y10 = sympify(\"1/2 * sqrt(3/pi) * z/r\")\n",
    "y1m1 = sympify(\"1/2 * sqrt(3/2/pi) * (x - I*y)/r\")"
   ]
  },
  {
   "cell_type": "code",
   "execution_count": 6,
   "metadata": {},
   "outputs": [],
   "source": [
    "x_fact = ((y1p1 - y1m1) / sympify(\"x/r\")).simplify()\n",
    "y_fact = ((y1p1 + y1m1) / sympify(\"y/r\")).simplify()\n",
    "z_fact = ((y10) / sympify(\"z/r\")).simplify()"
   ]
  },
  {
   "cell_type": "code",
   "execution_count": 7,
   "metadata": {},
   "outputs": [],
   "source": [
    "k = [\n",
    "    sympify(\"y(1,1) - y(1,-1)\") / x_fact,\n",
    "    sympify(\"y(1,1) + y(1,-1)\") / y_fact,\n",
    "    sympify(\"y(1,0)\") / z_fact,\n",
    "]\n",
    "q = [0, 0, sympify(\"q\")]\n",
    "sigma = [sympify(f\"sigma_1{n}\") for n in range(1, 4)]"
   ]
  },
  {
   "cell_type": "code",
   "execution_count": 10,
   "metadata": {},
   "outputs": [
    {
     "data": {
      "text/latex": [
       "$\\displaystyle \\frac{\\sqrt{6} \\sqrt{\\pi} q \\left(- i \\sigma_{11} y{\\left(1,-1 \\right)} - i \\sigma_{11} y{\\left(1,1 \\right)} + \\sigma_{12} y{\\left(1,-1 \\right)} - \\sigma_{12} y{\\left(1,1 \\right)}\\right)}{3}$"
      ],
      "text/plain": [
       "sqrt(6)*sqrt(pi)*q*(-I*sigma_11*y(1, -1) - I*sigma_11*y(1, 1) + sigma_12*y(1, -1) - sigma_12*y(1, 1))/3"
      ]
     },
     "execution_count": 10,
     "metadata": {},
     "output_type": "execute_result"
    }
   ],
   "source": [
    "expr = np.dot(sigma, np.cross(q, k)).expand().simplify()\n",
    "expr"
   ]
  },
  {
   "cell_type": "code",
   "execution_count": 13,
   "metadata": {},
   "outputs": [
    {
     "data": {
      "text/plain": [
       "{(-1/2, 1/2): -2*sqrt(6)*I*sqrt(pi)*q*y(1, 1)/3,\n",
       " (1/2, -1/2): -2*sqrt(6)*I*sqrt(pi)*q*y(1, -1)/3}"
      ]
     },
     "execution_count": 13,
     "metadata": {},
     "output_type": "execute_result"
    }
   ],
   "source": [
    "expression_to_matrix_spin_half(expr, pauli_label=\"_1\")"
   ]
  },
  {
   "cell_type": "code",
   "execution_count": null,
   "metadata": {},
   "outputs": [],
   "source": []
  }
 ],
 "metadata": {
  "kernelspec": {
   "display_name": "numpwd",
   "language": "python",
   "name": "numpwd"
  },
  "language_info": {
   "codemirror_mode": {
    "name": "ipython",
    "version": 3
   },
   "file_extension": ".py",
   "mimetype": "text/x-python",
   "name": "python",
   "nbconvert_exporter": "python",
   "pygments_lexer": "ipython3",
   "version": "3.8.2"
  }
 },
 "nbformat": 4,
 "nbformat_minor": 4
}
