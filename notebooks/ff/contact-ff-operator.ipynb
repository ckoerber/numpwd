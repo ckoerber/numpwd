{
 "cells": [
  {
   "cell_type": "code",
   "execution_count": null,
   "metadata": {},
   "outputs": [],
   "source": [
    "from numpy import array\n",
    "from pandas.testing import assert_frame_equal\n",
    "from sympy import sympify, exp, Symbol, oo, limit, diff\n",
    "\n",
    "from numpwd.integrate.analytic import SPHERICAL_BASE_SUBS, ANGLE_BASE_SUBS\n",
    "from numpwd.operators.base import CHANNEL_COLUMNS\n",
    "from numpwd.operators.expression import decompose_operator\n",
    "from numpwd.qchannels.spin import get_spin_matrix_element, dict_to_data\n",
    "from pandas import DataFrame"
   ]
  },
  {
   "cell_type": "code",
   "execution_count": null,
   "metadata": {},
   "outputs": [],
   "source": [
    "spin_expression = sympify(\"(sigma_ex1 * k1 + sigma_ex2 * k2 + sigma_ex3 * k3)\")\n",
    "spin_expression *= sympify(\"sigma10 * (sigma21 * k1 + sigma22 * k2 + sigma23 * k3)\")\n",
    "spin_expression"
   ]
  },
  {
   "cell_type": "code",
   "execution_count": null,
   "metadata": {},
   "outputs": [],
   "source": [
    "isospin_expression = sympify(\"tau10 * tau20\")\n",
    "isospin_expression"
   ]
  },
  {
   "cell_type": "markdown",
   "metadata": {},
   "source": [
    "## Set up spin momentum expressions"
   ]
  },
  {
   "cell_type": "code",
   "execution_count": null,
   "metadata": {},
   "outputs": [],
   "source": [
    "pi = sympify([\"p_i1\", \"p_i2\", \"p_i3\"])\n",
    "po = sympify([\"p_o1\", \"p_o2\", \"p_o3\"])\n",
    "k = sympify([\"k_1\", \"k_2\", \"k_3\"])\n",
    "\n",
    "Lambda = Symbol(\"L\")\n",
    "sigma1 = sympify([f\"sigma1{n}\" for n in range(1, 4)])\n",
    "sigma2 = sympify([f\"sigma2{n}\" for n in range(1, 4)])"
   ]
  },
  {
   "cell_type": "code",
   "execution_count": null,
   "metadata": {},
   "outputs": [],
   "source": [
    "pi_m_k = [pp - kk / 2 for pp, kk in zip(pi, k)]\n",
    "pi_p_k = [pp + kk / 2 for pp, kk in zip(pi, k)]\n",
    "po_m_k = [pp - kk / 2 for pp, kk in zip(po, k)]\n",
    "po_p_k = [pp + kk / 2 for pp, kk in zip(po, k)]"
   ]
  },
  {
   "cell_type": "code",
   "execution_count": null,
   "metadata": {},
   "outputs": [],
   "source": [
    "def e1(p1, p2):\n",
    "    p12 = sum([el ** 2 for el in p1])\n",
    "    p22 = sum([el ** 2 for el in p2])\n",
    "    return (p12 - p22) * exp(-(p12 + p22) / Lambda ** 2)\n",
    "\n",
    "\n",
    "f1 = e1(pi_m_k, po) + e1(pi_p_k, po) + e1(po_m_k, pi) + e1(po_p_k, pi)"
   ]
  },
  {
   "cell_type": "code",
   "execution_count": null,
   "metadata": {},
   "outputs": [],
   "source": [
    "def e2(p1, p2):\n",
    "    p12 = sum([el ** 2 for el in p1])\n",
    "    p22 = sum([el ** 2 for el in p2])\n",
    "    s1_p1 = sum([el1 * el2 for el1, el2 in zip(sigma1, p1)])\n",
    "    s2_p1 = sum([el1 * el2 for el1, el2 in zip(sigma2, p1)])\n",
    "    s1_p2 = sum([el1 * el2 for el1, el2 in zip(sigma1, p2)])\n",
    "    s2_p2 = sum([el1 * el2 for el1, el2 in zip(sigma2, p2)])\n",
    "    return (s1_p1 * s2_p1 - s1_p2 * s2_p2) * exp(-(p12 + p22) / Lambda ** 2)\n",
    "\n",
    "\n",
    "f2 = e2(pi_m_k, po) + e2(pi_p_k, po) + e2(po_m_k, pi) + e2(po_p_k, pi)"
   ]
  },
  {
   "cell_type": "markdown",
   "metadata": {},
   "source": [
    "## Substitutions"
   ]
  },
  {
   "cell_type": "code",
   "execution_count": null,
   "metadata": {},
   "outputs": [],
   "source": [
    "kz_subs = {\"k_1\": 0, \"k_2\": 0}\n",
    "k0_subs = {\"k_3\": 0, **kz_subs}\n",
    "substitutions = {**SPHERICAL_BASE_SUBS, **kz_subs}\n",
    "substitutions"
   ]
  },
  {
   "cell_type": "markdown",
   "metadata": {},
   "source": [
    "## Operator Definitions"
   ]
  },
  {
   "cell_type": "markdown",
   "metadata": {},
   "source": [
    "### Operator A"
   ]
  },
  {
   "cell_type": "code",
   "execution_count": null,
   "metadata": {},
   "outputs": [],
   "source": [
    "expr_a = f1 * sympify(\"sigma10 * sigma20\")"
   ]
  },
  {
   "cell_type": "markdown",
   "metadata": {},
   "source": [
    "$\\lim\\Lambda \\to \\infty$"
   ]
  },
  {
   "cell_type": "code",
   "execution_count": null,
   "metadata": {},
   "outputs": [],
   "source": [
    "expr_a_simple = expr_a.subs({Lambda: oo}).simplify()\n",
    "expr_a_simple"
   ]
  },
  {
   "cell_type": "markdown",
   "metadata": {},
   "source": [
    "Spherical substitutions and $k_2 = k_1 = 0$ "
   ]
  },
  {
   "cell_type": "code",
   "execution_count": null,
   "metadata": {},
   "outputs": [],
   "source": [
    "expr_a_subsed = expr_a.subs(substitutions).simplify()\n",
    "expr_a_subsed"
   ]
  },
  {
   "cell_type": "markdown",
   "metadata": {},
   "source": [
    "Contributions to different spin channels"
   ]
  },
  {
   "cell_type": "code",
   "execution_count": null,
   "metadata": {
    "scrolled": true
   },
   "outputs": [],
   "source": [
    "spin_mom_a = DataFrame(get_spin_matrix_element(expr_a_subsed))\n",
    "spin_mom_a"
   ]
  },
  {
   "cell_type": "code",
   "execution_count": null,
   "metadata": {},
   "outputs": [],
   "source": [
    "spin_mom_a.set_index([col for col in spin_mom_a.columns if col != \"expr\"]).apply(\n",
    "    lambda row: row[\"expr\"].subs({Lambda: oo}).expand(), axis=1\n",
    ").reset_index().rename(columns={0: \"expr\"})"
   ]
  },
  {
   "cell_type": "markdown",
   "metadata": {},
   "source": [
    "radius a"
   ]
  },
  {
   "cell_type": "code",
   "execution_count": null,
   "metadata": {},
   "outputs": [],
   "source": [
    "r2a = diff(expr_a, \"k_3\", \"k_3\").subs(k0_subs).subs(SPHERICAL_BASE_SUBS).simplify()\n",
    "r2a"
   ]
  },
  {
   "cell_type": "code",
   "execution_count": null,
   "metadata": {},
   "outputs": [],
   "source": [
    "limit(r2a, Lambda, oo)"
   ]
  },
  {
   "cell_type": "markdown",
   "metadata": {},
   "source": [
    "### Operator B"
   ]
  },
  {
   "cell_type": "code",
   "execution_count": null,
   "metadata": {},
   "outputs": [],
   "source": [
    "expr_b = sum([el1 * el2 for el1, el2 in zip(sigma1, sigma2)]) * f1"
   ]
  },
  {
   "cell_type": "markdown",
   "metadata": {},
   "source": [
    "$\\lim\\Lambda \\to \\infty$"
   ]
  },
  {
   "cell_type": "code",
   "execution_count": null,
   "metadata": {},
   "outputs": [],
   "source": [
    "expr_b_simple = expr_b.subs({Lambda: oo}).simplify()\n",
    "expr_b_simple"
   ]
  },
  {
   "cell_type": "markdown",
   "metadata": {},
   "source": [
    "Spherical substitutions and $k_2 = k_1 = 0$ "
   ]
  },
  {
   "cell_type": "code",
   "execution_count": null,
   "metadata": {
    "scrolled": true
   },
   "outputs": [],
   "source": [
    "expr_b_subsed = expr_b.subs(substitutions).simplify()\n",
    "expr_b_subsed"
   ]
  },
  {
   "cell_type": "markdown",
   "metadata": {},
   "source": [
    "Contributions to different spin channels"
   ]
  },
  {
   "cell_type": "code",
   "execution_count": null,
   "metadata": {
    "scrolled": false
   },
   "outputs": [],
   "source": [
    "spin_mom_b = DataFrame(get_spin_matrix_element(expr_b_subsed))\n",
    "spin_mom_b"
   ]
  },
  {
   "cell_type": "code",
   "execution_count": null,
   "metadata": {},
   "outputs": [],
   "source": [
    "spin_mom_b.set_index([col for col in spin_mom_b.columns if col != \"expr\"]).apply(\n",
    "    lambda row: row[\"expr\"].subs({Lambda: oo}).expand(), axis=1\n",
    ").reset_index().rename(columns={0: \"expr\"})"
   ]
  },
  {
   "cell_type": "markdown",
   "metadata": {},
   "source": [
    "radius a"
   ]
  },
  {
   "cell_type": "code",
   "execution_count": null,
   "metadata": {},
   "outputs": [],
   "source": [
    "r2b = diff(expr_b, \"k_3\", \"k_3\").subs(k0_subs).subs(SPHERICAL_BASE_SUBS).simplify()\n",
    "r2b"
   ]
  },
  {
   "cell_type": "code",
   "execution_count": null,
   "metadata": {
    "scrolled": true
   },
   "outputs": [],
   "source": [
    "limit(r2b, Lambda, oo)"
   ]
  },
  {
   "cell_type": "markdown",
   "metadata": {},
   "source": [
    "### Operator C"
   ]
  },
  {
   "cell_type": "code",
   "execution_count": null,
   "metadata": {},
   "outputs": [],
   "source": [
    "expr_c = f2"
   ]
  },
  {
   "cell_type": "markdown",
   "metadata": {},
   "source": [
    "$\\lim\\Lambda \\to \\infty$"
   ]
  },
  {
   "cell_type": "code",
   "execution_count": null,
   "metadata": {},
   "outputs": [],
   "source": [
    "expr_c_simple = expr_c.subs({Lambda: oo}).simplify()\n",
    "expr_c_simple"
   ]
  },
  {
   "cell_type": "markdown",
   "metadata": {},
   "source": [
    "Spherical substitutions and $k_2 = k_1 = 0$ "
   ]
  },
  {
   "cell_type": "code",
   "execution_count": null,
   "metadata": {},
   "outputs": [],
   "source": [
    "expr_c_subsed = expr_c.subs(substitutions)  # .simplify()\n",
    "# expr_c_subsed"
   ]
  },
  {
   "cell_type": "markdown",
   "metadata": {},
   "source": [
    "Contributions to different spin channels"
   ]
  },
  {
   "cell_type": "code",
   "execution_count": null,
   "metadata": {
    "scrolled": false
   },
   "outputs": [],
   "source": [
    "spin_mom_c = DataFrame(get_spin_matrix_element(expr_c_subsed, simplify=False))\n",
    "spin_mom_c"
   ]
  },
  {
   "cell_type": "code",
   "execution_count": null,
   "metadata": {},
   "outputs": [],
   "source": [
    "spin_mom_c.set_index([col for col in spin_mom_c.columns if col != \"expr\"]).apply(\n",
    "    lambda row: row[\"expr\"].subs({Lambda: oo}).expand(), axis=1\n",
    ").reset_index().rename(columns={0: \"expr\"})"
   ]
  },
  {
   "cell_type": "markdown",
   "metadata": {},
   "source": [
    "radius a"
   ]
  },
  {
   "cell_type": "code",
   "execution_count": null,
   "metadata": {},
   "outputs": [],
   "source": [
    "r2c = diff(expr_c, \"k_3\", \"k_3\").subs(k0_subs).subs(SPHERICAL_BASE_SUBS)#.expand()\n",
    "#r2c"
   ]
  },
  {
   "cell_type": "code",
   "execution_count": null,
   "metadata": {
    "scrolled": true
   },
   "outputs": [],
   "source": [
    "r2c.subs({Lambda: oo})"
   ]
  }
 ],
 "metadata": {
  "kernelspec": {
   "display_name": "numpwd",
   "language": "python",
   "name": "numpwd"
  },
  "language_info": {
   "codemirror_mode": {
    "name": "ipython",
    "version": 3
   },
   "file_extension": ".py",
   "mimetype": "text/x-python",
   "name": "python",
   "nbconvert_exporter": "python",
   "pygments_lexer": "ipython3",
   "version": "3.8.2"
  }
 },
 "nbformat": 4,
 "nbformat_minor": 4
}
