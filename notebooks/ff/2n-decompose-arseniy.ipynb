{
 "cells": [
  {
   "cell_type": "code",
   "execution_count": null,
   "metadata": {},
   "outputs": [],
   "source": [
    "from sympy import sympify, limit, oo"
   ]
  },
  {
   "cell_type": "raw",
   "metadata": {},
   "source": [
    "s = \"\"\"\"\"\""
   ]
  },
  {
   "cell_type": "raw",
   "metadata": {},
   "source": [
    "import re\n",
    "\n",
    "subs = {\n",
    "    \"pijpr\": \"p_o\",\n",
    "    \"pij\": \"p_i\",\n",
    "    r\"\\\\\\[Pi\\]\": \"pi\",\n",
    "    r\"\\^\": \"**\",\n",
    "    r\"\\n\": \" \",\n",
    "    \" \": \" * \",\n",
    "    r\"\\\\\\[CapitalLambda\\]\": \"L\",\n",
    "    r\"Sqrt\\[2\\]\": \"sqrt(2)\",\n",
    "}\n",
    "\n",
    "tmp = s.strip()\n",
    "for sub, pat in subs.items():\n",
    "    tmp = re.sub(sub, pat, tmp)\n",
    "\n",
    "print(tmp)\n",
    "str(sympify(tmp).subs({\"khalf\": \"k/2\"}))"
   ]
  },
  {
   "cell_type": "code",
   "execution_count": null,
   "metadata": {},
   "outputs": [],
   "source": [
    "ss = \"\"\"\n",
    "L ** 2 * (L ** 2 + k ** 2 / 4 - k * p_o - p_i ** 2 + p_o ** 2) * exp(\n",
    "    -(p_i ** 2 + (k / 2 - p_o) ** 2) / L ** 2\n",
    ") / (pi ** 2 * k * p_o) - L ** 2 * (\n",
    "    L ** 2 + k ** 2 / 4 + k * p_o - p_i ** 2 + p_o ** 2\n",
    ") * exp(\n",
    "    -(p_i ** 2 + (k / 2 + p_o) ** 2) / L ** 2\n",
    ") / (\n",
    "    pi ** 2 * k * p_o\n",
    ") + L ** 2 * (\n",
    "    L ** 2 + k ** 2 / 4 - k * p_i + p_i ** 2 - p_o ** 2\n",
    ") * exp(\n",
    "    2 * k * p_i / L ** 2 - (p_o ** 2 + (k / 2 + p_i) ** 2) / L ** 2\n",
    ") / (\n",
    "    pi ** 2 * k * p_i\n",
    ") - L ** 2 * (\n",
    "    L ** 2 + k ** 2 / 4 + k * p_i + p_i ** 2 - p_o ** 2\n",
    ") * exp(\n",
    "    -(p_o ** 2 + (k / 2 + p_i) ** 2) / L ** 2\n",
    ") / (\n",
    "    pi ** 2 * k * p_i\n",
    ")\n",
    "\"\"\"\n",
    "ss = sympify(ss)"
   ]
  },
  {
   "cell_type": "code",
   "execution_count": null,
   "metadata": {},
   "outputs": [],
   "source": [
    "ss"
   ]
  },
  {
   "cell_type": "code",
   "execution_count": null,
   "metadata": {},
   "outputs": [],
   "source": [
    "limit(ss, \"L\", oo)"
   ]
  },
  {
   "cell_type": "code",
   "execution_count": null,
   "metadata": {},
   "outputs": [],
   "source": [
    "sd = \"\"\"\n",
    "2 * sqrt(2) * L ** 2 * p_o ** 2 * exp(-(p_o ** 2 + (k / 2 + p_i) ** 2) / L ** 2) / (\n",
    "    3 * pi ** 2 * k * p_i\n",
    ") - 2 * sqrt(2) * L ** 2 * p_o ** 2 * exp(-(p_o ** 2 + (k / 2 - p_i) ** 2) / L ** 2) / (\n",
    "    3 * pi ** 2 * k * p_i\n",
    ") + (\n",
    "    -sqrt(2) * L ** 6 / (2 * pi ** 2 * k * p_o ** 3)\n",
    "    - sqrt(2) * L ** 4 / (2 * pi ** 2 * p_o ** 2)\n",
    "    - 2 * sqrt(2) * L ** 4 / (3 * pi ** 2 * k * p_o)\n",
    "    - sqrt(2) * L ** 2 * k / (6 * pi ** 2 * p_o)\n",
    "    - 2 * sqrt(2) * L ** 2 / (3 * pi ** 2)\n",
    "    - 2 * sqrt(2) * L ** 2 * p_o / (3 * pi ** 2 * k)\n",
    ") * exp(\n",
    "    -(p_i ** 2 + (k / 2 + p_o) ** 2) / L ** 2\n",
    ") + (\n",
    "    sqrt(2) * L ** 6 / (2 * pi ** 2 * k * p_o ** 3)\n",
    "    - sqrt(2) * L ** 4 / (2 * pi ** 2 * p_o ** 2)\n",
    "    + 2 * sqrt(2) * L ** 4 / (3 * pi ** 2 * k * p_o)\n",
    "    + sqrt(2) * L ** 2 * k / (6 * pi ** 2 * p_o)\n",
    "    - 2 * sqrt(2) * L ** 2 / (3 * pi ** 2)\n",
    "    + 2 * sqrt(2) * L ** 2 * p_o / (3 * pi ** 2 * k)\n",
    ") * exp(\n",
    "    -(p_i ** 2 + (k / 2 - p_o) ** 2) / L ** 2\n",
    ")\n",
    "\"\"\"\n",
    "sd = sympify(sd)"
   ]
  },
  {
   "cell_type": "code",
   "execution_count": null,
   "metadata": {},
   "outputs": [],
   "source": [
    "sd.simplify()"
   ]
  },
  {
   "cell_type": "code",
   "execution_count": null,
   "metadata": {},
   "outputs": [],
   "source": [
    "limit(sd, \"L\", oo)"
   ]
  },
  {
   "cell_type": "code",
   "execution_count": null,
   "metadata": {},
   "outputs": [],
   "source": []
  }
 ],
 "metadata": {
  "kernelspec": {
   "display_name": "numpwd",
   "language": "python",
   "name": "numpwd"
  },
  "language_info": {
   "codemirror_mode": {
    "name": "ipython",
    "version": 3
   },
   "file_extension": ".py",
   "mimetype": "text/x-python",
   "name": "python",
   "nbconvert_exporter": "python",
   "pygments_lexer": "ipython3",
   "version": "3.8.2"
  }
 },
 "nbformat": 4,
 "nbformat_minor": 4
}
