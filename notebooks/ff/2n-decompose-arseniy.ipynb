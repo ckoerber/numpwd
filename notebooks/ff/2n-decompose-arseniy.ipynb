{
 "cells": [
  {
   "cell_type": "code",
   "execution_count": null,
   "metadata": {},
   "outputs": [],
   "source": [
    "from sympy import sympify, limit, oo"
   ]
  },
  {
   "cell_type": "raw",
   "metadata": {},
   "source": [
    "s = \"\"\"\"\"\""
   ]
  },
  {
   "cell_type": "raw",
   "metadata": {},
   "source": [
    "import re\n",
    "\n",
    "subs = {\n",
    "    \"pijpr\": \"p_o\",\n",
    "    \"pij\": \"p_i\",\n",
    "    r\"\\\\\\[Pi\\]\": \"pi\",\n",
    "    r\"\\^\": \"**\",\n",
    "    r\"\\n\": \" \",\n",
    "    \" \": \" * \",\n",
    "    r\"\\\\\\[CapitalLambda\\]\": \"L\",\n",
    "    r\"Sqrt\\[2\\]\": \"sqrt(2)\",\n",
    "}\n",
    "\n",
    "tmp = s.strip()\n",
    "for sub, pat in subs.items():\n",
    "    tmp = re.sub(sub, pat, tmp)\n",
    "\n",
    "print(tmp)\n",
    "str(sympify(tmp).subs({\"khalf\": \"k/2\"}))"
   ]
  },
  {
   "cell_type": "markdown",
   "metadata": {},
   "source": [
    "This is the `1s0 -> 1s0` and `3s1 -> 3s1`  transition"
   ]
  },
  {
   "cell_type": "code",
   "execution_count": null,
   "metadata": {},
   "outputs": [],
   "source": [
    "ss = \"\"\"\n",
    "L ** 2 * (L ** 2 + k ** 2 / 4 - k * p_o - p_i ** 2 + p_o ** 2) * exp(\n",
    "    -(p_i ** 2 + (k / 2 - p_o) ** 2) / L ** 2\n",
    ") / (pi ** 2 * k * p_o) - L ** 2 * (\n",
    "    L ** 2 + k ** 2 / 4 + k * p_o - p_i ** 2 + p_o ** 2\n",
    ") * exp(\n",
    "    -(p_i ** 2 + (k / 2 + p_o) ** 2) / L ** 2\n",
    ") / (\n",
    "    pi ** 2 * k * p_o\n",
    ") + L ** 2 * (\n",
    "    L ** 2 + k ** 2 / 4 - k * p_i + p_i ** 2 - p_o ** 2\n",
    ") * exp(\n",
    "    2 * k * p_i / L ** 2 - (p_o ** 2 + (k / 2 + p_i) ** 2) / L ** 2\n",
    ") / (\n",
    "    pi ** 2 * k * p_i\n",
    ") - L ** 2 * (\n",
    "    L ** 2 + k ** 2 / 4 + k * p_i + p_i ** 2 - p_o ** 2\n",
    ") * exp(\n",
    "    -(p_o ** 2 + (k / 2 + p_i) ** 2) / L ** 2\n",
    ") / (\n",
    "    pi ** 2 * k * p_i\n",
    ")\n",
    "\"\"\"\n",
    "ss = sympify(ss)"
   ]
  },
  {
   "cell_type": "code",
   "execution_count": null,
   "metadata": {},
   "outputs": [],
   "source": [
    "ss"
   ]
  },
  {
   "cell_type": "code",
   "execution_count": null,
   "metadata": {},
   "outputs": [],
   "source": [
    "limit(ss, \"L\", oo)"
   ]
  },
  {
   "cell_type": "markdown",
   "metadata": {},
   "source": [
    "This is the `3s1 -> 3d1` transition Apparently needs a factor of two from `d->s`."
   ]
  },
  {
   "cell_type": "code",
   "execution_count": null,
   "metadata": {},
   "outputs": [],
   "source": [
    "sd = \"\"\"\n",
    "2 * sqrt(2) * L ** 2 * p_o ** 2 * exp(-(p_o ** 2 + (k / 2 + p_i) ** 2) / L ** 2) / (\n",
    "    3 * pi ** 2 * k * p_i\n",
    ") - 2 * sqrt(2) * L ** 2 * p_o ** 2 * exp(-(p_o ** 2 + (k / 2 - p_i) ** 2) / L ** 2) / (\n",
    "    3 * pi ** 2 * k * p_i\n",
    ") + (\n",
    "    -sqrt(2) * L ** 6 / (2 * pi ** 2 * k * p_o ** 3)\n",
    "    - sqrt(2) * L ** 4 / (2 * pi ** 2 * p_o ** 2)\n",
    "    - 2 * sqrt(2) * L ** 4 / (3 * pi ** 2 * k * p_o)\n",
    "    - sqrt(2) * L ** 2 * k / (6 * pi ** 2 * p_o)\n",
    "    - 2 * sqrt(2) * L ** 2 / (3 * pi ** 2)\n",
    "    - 2 * sqrt(2) * L ** 2 * p_o / (3 * pi ** 2 * k)\n",
    ") * exp(\n",
    "    -(p_i ** 2 + (k / 2 + p_o) ** 2) / L ** 2\n",
    ") + (\n",
    "    sqrt(2) * L ** 6 / (2 * pi ** 2 * k * p_o ** 3)\n",
    "    - sqrt(2) * L ** 4 / (2 * pi ** 2 * p_o ** 2)\n",
    "    + 2 * sqrt(2) * L ** 4 / (3 * pi ** 2 * k * p_o)\n",
    "    + sqrt(2) * L ** 2 * k / (6 * pi ** 2 * p_o)\n",
    "    - 2 * sqrt(2) * L ** 2 / (3 * pi ** 2)\n",
    "    + 2 * sqrt(2) * L ** 2 * p_o / (3 * pi ** 2 * k)\n",
    ") * exp(\n",
    "    -(p_i ** 2 + (k / 2 - p_o) ** 2) / L ** 2\n",
    ")\n",
    "\"\"\"\n",
    "sd = sympify(sd)"
   ]
  },
  {
   "cell_type": "code",
   "execution_count": null,
   "metadata": {},
   "outputs": [],
   "source": [
    "ds = sd.subs({\"p_i\": \"p_o\", \"p_o\": \"p_i\"}) * 2"
   ]
  },
  {
   "cell_type": "code",
   "execution_count": null,
   "metadata": {},
   "outputs": [],
   "source": [
    "str(ds)"
   ]
  },
  {
   "cell_type": "code",
   "execution_count": null,
   "metadata": {},
   "outputs": [],
   "source": [
    "sd.simplify()"
   ]
  },
  {
   "cell_type": "code",
   "execution_count": null,
   "metadata": {},
   "outputs": [],
   "source": [
    "limit(sd, \"L\", oo)"
   ]
  },
  {
   "cell_type": "code",
   "execution_count": null,
   "metadata": {},
   "outputs": [],
   "source": [
    "from numpwd.qchannels.lsj import get_two_n_channels, generate_matrix_channels\n",
    "from pandas import DataFrame"
   ]
  },
  {
   "cell_type": "code",
   "execution_count": null,
   "metadata": {},
   "outputs": [],
   "source": [
    "channels = DataFrame(get_two_n_channels(l_max=2, s_max=1))\n",
    "allowed = {\n",
    "    \"1s0\": \"s==l==j==0\",\n",
    "    \"3s1\": \"(s==j==1 and l==0)\",\n",
    "    \"3d1\": \"(s==j==1 and l==2)\",\n",
    "}\n",
    "\n",
    "channels = channels.query(\" or \".join(allowed.values())).reset_index()\n",
    "channels"
   ]
  },
  {
   "cell_type": "code",
   "execution_count": null,
   "metadata": {},
   "outputs": [],
   "source": [
    "allowed_transitions = [\n",
    "    lambda ci, co: ci[\"ml\"] == co[\"ml\"]\n",
    "    and ci[\"ms\"] == co[\"ms\"]\n",
    "    and ci[\"mj\"] == co[\"mj\"]\n",
    "    and ci[\"j\"] == co[\"j\"]\n",
    "    and ci[\"s\"] == co[\"s\"]\n",
    "    and ci[\"l\"] in [0, 2]\n",
    "    and co[\"l\"] in [0, 2]\n",
    "    and not (ci[\"l\"] == co[\"l\"] == 2)\n",
    "]\n",
    "df = (\n",
    "    DataFrame(\n",
    "        list(\n",
    "            generate_matrix_channels(\n",
    "                channels.to_dict(\"records\"), allowed_transitions=allowed_transitions\n",
    "            )\n",
    "        )\n",
    "    )\n",
    "    .drop(\n",
    "        columns=[\"cg_o\", \"cg_i\", \"index_o\", \"index_i\", \"ml_o\", \"ml_i\", \"ms_o\", \"ms_i\"]\n",
    "    )\n",
    "    .groupby([\"l_o\", \"s_i\", \"j_i\", \"l_i\", \"s_o\", \"j_o\", \"mj_i\", \"mj_o\"])\n",
    "    .sum()\n",
    "    .reset_index()\n",
    ")\n",
    "df"
   ]
  },
  {
   "cell_type": "markdown",
   "metadata": {},
   "source": [
    "## Convert to operator format"
   ]
  },
  {
   "cell_type": "code",
   "execution_count": null,
   "metadata": {},
   "outputs": [],
   "source": [
    "from numpwd.integrate.numeric import ExpressionMap\n",
    "import numpy as np"
   ]
  },
  {
   "cell_type": "code",
   "execution_count": null,
   "metadata": {},
   "outputs": [],
   "source": [
    "cutoff = 100\n",
    "fcn_ss = ExpressionMap(ss.subs({\"L\": cutoff}), [\"p_o\", \"p_i\", \"k\"])\n",
    "fcn_sd = ExpressionMap(sd.subs({\"L\": cutoff}), [\"p_o\", \"p_i\", \"k\"])\n",
    "fcn_ds = ExpressionMap(ds.subs({\"L\": cutoff}), [\"p_o\", \"p_i\", \"k\"])\n",
    "\n",
    "\n",
    "p = np.arange(1, 3)\n",
    "k = np.array([2])\n",
    "\n",
    "matrix_ss = fcn_ss(p, p, k)\n",
    "matrix_sd = fcn_sd(p, p, k)\n",
    "matrix_ds = fcn_ds(p, p, k)"
   ]
  },
  {
   "cell_type": "code",
   "execution_count": null,
   "metadata": {},
   "outputs": [],
   "source": [
    "matrix = []\n",
    "for idx, channel in df.iterrows():\n",
    "    lo = \"s\" if channel[\"l_o\"] == 0 else \"d\"\n",
    "    li = \"s\" if channel[\"l_i\"] == 0 else \"d\"\n",
    "    so = str(2 * channel[\"s_o\"] + 1)\n",
    "    si = str(2 * channel[\"s_i\"] + 1)\n",
    "    jo = str(channel[\"j_o\"])\n",
    "    ji = str(channel[\"j_i\"])\n",
    "\n",
    "    ci = si + li + ji\n",
    "    co = so + lo + jo\n",
    "\n",
    "    if ci == co == \"1s0\" or ci == co == \"3s1\":\n",
    "        matrix.append(matrix_ss * channel[\"cg\"])\n",
    "    elif ci == \"3s1\" and co == \"3d1\":\n",
    "        matrix.append(matrix_sd * channel[\"cg\"])\n",
    "    elif ci == \"3d1\" and co == \"3s1\":\n",
    "        matrix.append(matrix_ds * channel[\"cg\"])\n",
    "    else:\n",
    "        raise ValueError(f\"ci={ci}, co={co}\")\n",
    "\n",
    "matrix = np.array(matrix)"
   ]
  },
  {
   "cell_type": "code",
   "execution_count": null,
   "metadata": {},
   "outputs": [],
   "source": [
    "from numpwd.operators.base import Operator"
   ]
  },
  {
   "cell_type": "code",
   "execution_count": null,
   "metadata": {},
   "outputs": [],
   "source": [
    "op = Operator()\n",
    "op.channels = df.drop(columns=\"cg\")\n",
    "op.args = [(\"p_o\", p), (\"p_i\", p), (\"q\", k)]\n",
    "op.isospin = {(0, 0, 0, 0): 1, (1, 1, 1, 1): 1, (1, 0, 1, 0): 1, (1, -1, 1, -1): 1}\n",
    "op.matrix = matrix\n",
    "op.misc[\"cutoff\"] = cutoff\n",
    "op.misc[\"pwd type\"] = \"analytic\"\n",
    "op.check()"
   ]
  },
  {
   "cell_type": "code",
   "execution_count": null,
   "metadata": {},
   "outputs": [],
   "source": [
    "op.misc"
   ]
  },
  {
   "cell_type": "code",
   "execution_count": null,
   "metadata": {},
   "outputs": [],
   "source": []
  }
 ],
 "metadata": {
  "kernelspec": {
   "display_name": "numpwd",
   "language": "python",
   "name": "numpwd"
  },
  "language_info": {
   "codemirror_mode": {
    "name": "ipython",
    "version": 3
   },
   "file_extension": ".py",
   "mimetype": "text/x-python",
   "name": "python",
   "nbconvert_exporter": "python",
   "pygments_lexer": "ipython3",
   "version": "3.8.2"
  }
 },
 "nbformat": 4,
 "nbformat_minor": 4
}
