{
 "cells": [
  {
   "cell_type": "code",
   "execution_count": null,
   "metadata": {},
   "outputs": [],
   "source": [
    "from numpwd.integrate.numeric import ExpressionMap\n",
    "from numpwd.densities.h5 import read_h5\n",
    "from numpwd.operators.base import Operator\n",
    "\n",
    "from pandas import DataFrame\n",
    "import pandas as pd\n",
    "\n",
    "from sympy import sympify\n",
    "import numpy as np\n",
    "import os"
   ]
  },
  {
   "cell_type": "markdown",
   "metadata": {},
   "source": [
    "## Read density"
   ]
  },
  {
   "cell_type": "code",
   "execution_count": null,
   "metadata": {},
   "outputs": [],
   "source": [
    "DATA = os.path.join(os.environ[\"HOME\"], \"data\", \"nuc\", \"4he\", \"av18\")\n",
    "f = \"compton-dens-4he-av18-empot-no3nf-om=0.00E+00-th=1.80E+02-nx=16-nphi=16-np12=np34=28+8-np3=36+8-nq4=nq=36+6-j12max=5-lmax=6-lsummax=14-tau4max=0-rho.h5\""
   ]
  },
  {
   "cell_type": "code",
   "execution_count": null,
   "metadata": {},
   "outputs": [],
   "source": [
    "dens = read_h5(os.path.join(DATA, f))"
   ]
  },
  {
   "cell_type": "code",
   "execution_count": null,
   "metadata": {},
   "outputs": [],
   "source": [
    "dens.channels"
   ]
  },
  {
   "cell_type": "markdown",
   "metadata": {},
   "source": [
    "## Contact interaction"
   ]
  },
  {
   "cell_type": "code",
   "execution_count": null,
   "metadata": {},
   "outputs": [],
   "source": [
    "expr_ss = sympify(\n",
    "    \"-2*(3 - 2/L**2*(p_i**2+p_o**2) + (p_i**2-p_o**2)**2/L**4)*exp(-(p_i**2+p_o**2)/L**2)\"\n",
    ")\n",
    "expr_ss"
   ]
  },
  {
   "cell_type": "code",
   "execution_count": null,
   "metadata": {},
   "outputs": [],
   "source": [
    "expr_ds = sympify(\n",
    "    \"-4*sqrt(2)/3*(2*p_i**2/L**2 + p_i**2*(p_o**2-p_i**2)/L**4)*exp(-(p_i**2+p_o**2)/L**2)\"\n",
    ")\n",
    "expr_ds"
   ]
  },
  {
   "cell_type": "code",
   "execution_count": null,
   "metadata": {},
   "outputs": [],
   "source": [
    "Lambda = 400  # MeV\n",
    "HBARC = 197\n",
    "Lambda_ifm = Lambda / HBARC\n",
    "Lambda_ifm"
   ]
  },
  {
   "cell_type": "code",
   "execution_count": null,
   "metadata": {},
   "outputs": [],
   "source": [
    "args = (\"p_o\", \"p_i\")\n",
    "fc_cont = {\n",
    "    \"ss\": ExpressionMap(expr_ss.subs({\"L\": Lambda_ifm}), args),\n",
    "    \"ds\": ExpressionMap(expr_ds.subs({\"L\": Lambda_ifm}), args),\n",
    "}"
   ]
  },
  {
   "cell_type": "code",
   "execution_count": null,
   "metadata": {},
   "outputs": [],
   "source": [
    "fpi = 0.0924e3 / HBARC  # in i fm\n",
    "LambdaB = 0.650e3 / HBARC  # i fm\n",
    "\n",
    "nu = fpi ** 2 * LambdaB ** 3\n",
    "\n",
    "c1s0 = -0.6 / nu\n",
    "c3s0 = -1.36643 / nu\n",
    "c3d1 = 2 * -0.922071 / nu\n",
    "\n",
    "print(c1s0, c3s0, c3d1)\n",
    "\n",
    "fc_cont_array = np.array(\n",
    "    [\n",
    "        c1s0 * fc_cont[\"ss\"](dens.p, dens.p),  # 1s0, 1s0\n",
    "        c3s0 * fc_cont[\"ss\"](dens.p, dens.p),  # 3s1, 3s1\n",
    "        c3d1 * fc_cont[\"ds\"](dens.p, dens.p),  # 3d1, 3s1\n",
    "        c3d1 * fc_cont[\"ds\"](dens.p, dens.p).T,  # 3s1, 3d1\n",
    "    ]\n",
    ")\n",
    "print(fc_cont_array.shape)\n",
    "\n",
    "channels = DataFrame(\n",
    "    [\n",
    "        {\"l_o\": 0, \"s_o\": 0, \"j_o\": 0, \"l_i\": 0, \"s_i\": 0, \"j_i\": 0},  # 1s0, 1s0\n",
    "        {\"l_o\": 0, \"s_o\": 1, \"j_o\": 1, \"l_i\": 0, \"s_i\": 1, \"j_i\": 1},  # 3s1, 3s1\n",
    "        {\"l_o\": 2, \"s_o\": 1, \"j_o\": 1, \"l_i\": 0, \"s_i\": 1, \"j_i\": 1},  # 3d1, 3s1\n",
    "        {\"l_o\": 0, \"s_o\": 1, \"j_o\": 1, \"l_i\": 2, \"s_i\": 1, \"j_i\": 1},  # 3s1, 3d1\n",
    "    ]\n",
    ")\n",
    "channels"
   ]
  },
  {
   "cell_type": "markdown",
   "metadata": {},
   "source": [
    "## Convolution"
   ]
  },
  {
   "cell_type": "code",
   "execution_count": null,
   "metadata": {},
   "outputs": [],
   "source": [
    "isospin = {\n",
    "    (0, +0, 0, +0): 1.0,\n",
    "    (1, -1, 1, -1): 1.0,\n",
    "    (1, +0, 1, +0): 1.0,\n",
    "    (1, +1, 1, +1): 1.0,\n",
    "}\n",
    "\n",
    "op = Operator(\n",
    "    matrix=fc_cont_array,\n",
    "    channels=channels,\n",
    "    args=tuple((arg, dens.p) for arg in args),\n",
    "    isospin=isospin,\n",
    ")\n",
    "# op.check()"
   ]
  },
  {
   "cell_type": "code",
   "execution_count": null,
   "metadata": {},
   "outputs": [],
   "source": [
    "p2dp = dens.p ** 2 * dens.wp\n",
    "p2dp_io = p2dp.reshape(-1, 1) * p2dp\n",
    "p2dp_io.shape"
   ]
  },
  {
   "cell_type": "code",
   "execution_count": null,
   "metadata": {},
   "outputs": [],
   "source": [
    "cols = [\"l_o\", \"s_o\", \"j_o\", \"l_i\", \"s_i\", \"j_i\"]"
   ]
  },
  {
   "cell_type": "code",
   "execution_count": null,
   "metadata": {},
   "outputs": [],
   "source": [
    "id_dens, id_op = (\n",
    "    pd.merge(\n",
    "        dens.channels.reset_index(),\n",
    "        op.channels.reset_index(),\n",
    "        how=\"inner\",\n",
    "        left_on=cols,\n",
    "        right_on=cols,\n",
    "        suffixes=[\"_dens\", \"_op\"],\n",
    "    )\n",
    "    .rename(columns={\"id\": \"id_dens\", \"index\": \"id_op\"})[[\"id_dens\", \"id_op\"]]\n",
    "    .values.T\n",
    ")\n",
    "id_dens, id_op"
   ]
  },
  {
   "cell_type": "code",
   "execution_count": null,
   "metadata": {},
   "outputs": [],
   "source": [
    "np.sum(op.matrix[id_op] * dens.matrix[id_dens] * p2dp_io) * 3 / np.pi ** 2"
   ]
  },
  {
   "cell_type": "code",
   "execution_count": null,
   "metadata": {},
   "outputs": [],
   "source": []
  }
 ],
 "metadata": {
  "kernelspec": {
   "display_name": "numpwd",
   "language": "python",
   "name": "numpwd"
  },
  "language_info": {
   "codemirror_mode": {
    "name": "ipython",
    "version": 3
   },
   "file_extension": ".py",
   "mimetype": "text/x-python",
   "name": "python",
   "nbconvert_exporter": "python",
   "pygments_lexer": "ipython3",
   "version": "3.8.2"
  }
 },
 "nbformat": 4,
 "nbformat_minor": 4
}
