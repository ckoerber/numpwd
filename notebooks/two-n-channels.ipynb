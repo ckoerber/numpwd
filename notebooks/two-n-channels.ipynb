{
 "cells": [
  {
   "cell_type": "code",
   "execution_count": null,
   "metadata": {},
   "outputs": [],
   "source": [
    "from sympy.physics.quantum.cg import CG\n",
    "from itertools import product\n",
    "import pandas as pd"
   ]
  },
  {
   "cell_type": "code",
   "execution_count": null,
   "metadata": {},
   "outputs": [],
   "source": [
    "allowed_channels = {\n",
    "    \"l_max\": 4,\n",
    "    \"s_max\": 1,\n",
    "    \"j_max\": 2,\n",
    "}"
   ]
  },
  {
   "cell_type": "code",
   "execution_count": null,
   "metadata": {},
   "outputs": [],
   "source": [
    "def m_range(j):\n",
    "    return range(-j, j + 1)\n",
    "\n",
    "\n",
    "def get_two_n_channels(l_max, j_max, s_max=1, numeric=False):\n",
    "    channels = []\n",
    "\n",
    "    for j, s, l in product(*map(range, [j_max + 1, s_max + 1, l_max + 1])):\n",
    "\n",
    "        if not (abs(l - s) <= j <= l + s):\n",
    "            continue\n",
    "\n",
    "        for mj, ms, ml in product(*map(m_range, [j, s, l])):\n",
    "            if ml + ms != mj:\n",
    "                continue\n",
    "\n",
    "            if ml == ms == mj == 0 and (l + s - j) % 2 == 1:\n",
    "                # if all m signs flip, the CG is the same up to (-1)**(l+s-j)\n",
    "                # thus if all m==0, l+s-j must be even\n",
    "                continue\n",
    "\n",
    "            cg = CG(l, ml, s, ms, j, mj).doit()\n",
    "            yield {\n",
    "                \"l\": l,\n",
    "                \"ml\": ml,\n",
    "                \"s\": s,\n",
    "                \"ms\": ms,\n",
    "                \"j\": j,\n",
    "                \"mj\": mj,\n",
    "                \"cg\": cg.evalf() if numeric else cg,\n",
    "            }\n",
    "\n",
    "\n",
    "channels = list(get_two_n_channels(**allowed_channels, numeric=False))\n",
    "\n",
    "df = pd.DataFrame(channels)\n",
    "df.head()"
   ]
  },
  {
   "cell_type": "code",
   "execution_count": null,
   "metadata": {},
   "outputs": [],
   "source": [
    "transitions = [\n",
    "    lambda i, o: i[\"s\"] == o[\"s\"] and i[\"ms\"] == o[\"ms\"] and i[\"mj\"] == o[\"mj\"]\n",
    "]\n",
    "transitions = []"
   ]
  },
  {
   "cell_type": "code",
   "execution_count": null,
   "metadata": {},
   "outputs": [],
   "source": [
    "def get_matrix_channels(two_n_channels, allowed_transitions):\n",
    "    channels = []\n",
    "    for c_i, c_o in product(two_n_channels.copy(), two_n_channels.copy()):\n",
    "        if not allowed_transitions or any([allowed(c_i, c_o) for allowed in allowed_transitions]):\n",
    "            data = {\"cg\": c_i[\"cg\"] * c_o[\"cg\"]}\n",
    "            data.update({key + \"_i\": val for key, val in c_i.items()})\n",
    "            data.update({key + \"_o\": val for key, val in c_o.items()})\n",
    "            yield data\n",
    "\n",
    "\n",
    "df = pd.DataFrame(get_matrix_channels(channels, transitions))\n",
    "df.head()"
   ]
  },
  {
   "cell_type": "code",
   "execution_count": null,
   "metadata": {},
   "outputs": [],
   "source": [
    "df[\"mla\"] = df[\"ml_i\"] - df[\"ml_o\"]\n",
    "cols = [\"s_o\", \"ms_o\", \"s_i\", \"ms_i\", \"mla\"]\n",
    "pwd_chan = df[cols].drop_duplicates().sort_values(cols,)\n",
    "pwd_chan"
   ]
  },
  {
   "cell_type": "code",
   "execution_count": null,
   "metadata": {},
   "outputs": [],
   "source": []
  }
 ],
 "metadata": {
  "kernelspec": {
   "display_name": "Python 3",
   "language": "python",
   "name": "python3"
  },
  "language_info": {
   "codemirror_mode": {
    "name": "ipython",
    "version": 3
   },
   "file_extension": ".py",
   "mimetype": "text/x-python",
   "name": "python",
   "nbconvert_exporter": "python",
   "pygments_lexer": "ipython3",
   "version": "3.7.7"
  }
 },
 "nbformat": 4,
 "nbformat_minor": 2
}
