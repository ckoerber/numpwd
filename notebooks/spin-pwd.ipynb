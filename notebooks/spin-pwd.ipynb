{
 "cells": [
  {
   "cell_type": "code",
   "execution_count": null,
   "metadata": {},
   "outputs": [],
   "source": [
    "from itertools import product\n",
    "\n",
    "import pandas as pd\n",
    "\n",
    "from sympy import S, simplify, expand\n",
    "from sympy.functions.special.tensor_functions import LeviCivita\n",
    "\n",
    "from numpwd import spin\n",
    "\n",
    "pd.set_option(\"max_colwidth\", None)"
   ]
  },
  {
   "cell_type": "code",
   "execution_count": null,
   "metadata": {},
   "outputs": [],
   "source": [
    "identity = {\n",
    "    (j_out, mj_out, j_in, mj_in): 1 if j_out == j_in and mj_out == mj_in else 0\n",
    "    for j_out in [0, 1]\n",
    "    for j_in in [0, 1]\n",
    "    for mj_out in range(-j_out, j_out + 1)\n",
    "    for mj_in in range(-j_in, j_in + 1)\n",
    "}"
   ]
  },
  {
   "cell_type": "code",
   "execution_count": null,
   "metadata": {},
   "outputs": [],
   "source": [
    "df = pd.DataFrame(spin.op_pwd(identity))\n",
    "df.set_index([\"j_out\", \"j_in\", \"xi\", \"mxi\"])"
   ]
  },
  {
   "cell_type": "code",
   "execution_count": null,
   "metadata": {},
   "outputs": [],
   "source": [
    "expr = S(\n",
    "    \"(\"\n",
    "    + \")*(\".join(\n",
    "        [\n",
    "            \"+\".join([f\"sigma{n}{a}*q{n}{a}\" for a in range(1, 3 + 1)])\n",
    "            for n in range(1, 2 + 1)\n",
    "        ]\n",
    "    )\n",
    "    + \")\"\n",
    ")\n",
    "expr"
   ]
  },
  {
   "cell_type": "code",
   "execution_count": null,
   "metadata": {},
   "outputs": [],
   "source": [
    "mat = spin.expression_to_matrix(expr, pauli_symbol=\"sigma\")\n",
    "columns = [\"ms2_out\", \"ms1_out\", \"ms1_in\", \"ms2_in\"]\n",
    "pd.DataFrame(spin.dict_to_data(mat, columns)).set_index(columns)"
   ]
  },
  {
   "cell_type": "code",
   "execution_count": null,
   "metadata": {},
   "outputs": [],
   "source": [
    "mat12 = spin.pauli_contract_subsystem(mat)\n",
    "columns = [\"s_o\", \"ms_o\", \"s_i\", \"ms_i\"]\n",
    "df = (\n",
    "    pd.DataFrame(spin.dict_to_data(mat12, columns))\n",
    "    .set_index(columns)\n",
    "    .applymap(lambda el: el.expand().simplify())\n",
    ")\n",
    "df"
   ]
  },
  {
   "cell_type": "code",
   "execution_count": null,
   "metadata": {},
   "outputs": [],
   "source": [
    "expr = S(\"+\".join([f\"sigma{1}{a}*sigma{2}{a}\" for a in range(1, 3 + 1)]))\n",
    "expr"
   ]
  },
  {
   "cell_type": "code",
   "execution_count": null,
   "metadata": {},
   "outputs": [],
   "source": [
    "mat = spin.expression_to_matrix(expr, pauli_symbol=\"sigma\")\n",
    "columns = [\"ms2_out\", \"ms1_out\", \"ms1_in\", \"ms2_in\"]\n",
    "pd.DataFrame(spin.dict_to_data(mat, columns)).set_index(columns)"
   ]
  },
  {
   "cell_type": "code",
   "execution_count": null,
   "metadata": {},
   "outputs": [],
   "source": [
    "mat12 = spin.pauli_contract_subsystem(mat)\n",
    "columns = [\"s_o\", \"ms_o\", \"s_i\", \"ms_i\"]\n",
    "df = (\n",
    "    pd.DataFrame(spin.dict_to_data(mat12, columns))\n",
    "    .set_index(columns)\n",
    "    .applymap(lambda el: el.expand().simplify())\n",
    ")\n",
    "df"
   ]
  },
  {
   "cell_type": "code",
   "execution_count": null,
   "metadata": {},
   "outputs": [],
   "source": []
  }
 ],
 "metadata": {
  "kernelspec": {
   "display_name": "numpwd",
   "language": "python",
   "name": "numpwd"
  },
  "language_info": {
   "codemirror_mode": {
    "name": "ipython",
    "version": 3
   },
   "file_extension": ".py",
   "mimetype": "text/x-python",
   "name": "python",
   "nbconvert_exporter": "python",
   "pygments_lexer": "ipython3",
   "version": "3.7.7"
  }
 },
 "nbformat": 4,
 "nbformat_minor": 2
}
